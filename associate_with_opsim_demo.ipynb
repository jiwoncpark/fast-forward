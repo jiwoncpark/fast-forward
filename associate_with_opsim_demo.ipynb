{
 "cells": [
  {
   "cell_type": "code",
   "execution_count": 2,
   "metadata": {},
   "outputs": [
    {
     "name": "stdout",
     "output_type": "stream",
     "text": [
      "The autoreload extension is already loaded. To reload it, use:\n",
      "  %reload_ext autoreload\n"
     ]
    }
   ],
   "source": [
    "import numpy as np\n",
    "import pandas as pd\n",
    "from opsim_utils import format_opsim, read_opsim_db, join_src_opsim, join_obj_opsim\n",
    "pd.set_option('display.max_columns', None)\n",
    "%matplotlib inline\n",
    "%load_ext autoreload\n",
    "%autoreload 2"
   ]
  },
  {
   "cell_type": "markdown",
   "metadata": {},
   "source": [
    "## Associating Source and Object with OpSim rows"
   ]
  },
  {
   "cell_type": "code",
   "execution_count": 3,
   "metadata": {},
   "outputs": [],
   "source": [
    "src = pd.read_csv('src_tract4850_obs.csv', index_col=None)\n",
    "#obs_history, field = read_opsim_db()\n",
    "#opsim = format_opsim(obs_history, field, None)\n",
    "opsim = pd.read_csv('opsim.csv', index_col=None)\n",
    "src_opsim, src_meta = join_src_opsim(src, opsim, save_path='src_opsim.csv')"
   ]
  },
  {
   "cell_type": "code",
   "execution_count": 6,
   "metadata": {},
   "outputs": [],
   "source": [
    "#src_opsim.dtypes"
   ]
  },
  {
   "cell_type": "code",
   "execution_count": 4,
   "metadata": {},
   "outputs": [],
   "source": [
    "#src_opsim = pd.read_csv('src_opsim.csv', index_col=None)\n",
    "obj = pd.read_csv('obj_tract4850.csv', index_col=None)\n",
    "obj_opsim, obj_meta = join_obj_opsim(obj, src_opsim, save_path='obj_opsim.csv')"
   ]
  },
  {
   "cell_type": "raw",
   "metadata": {},
   "source": [
    "overlaps[(overlaps['tract']==4850) & (overlaps['detector'] == 11) & (overlaps['visit'] == 1412325)].head()\n",
    "\n",
    "overlaps[overlaps['tract'] == 4850].groupby(['visit', 'filter']).size()\n",
    "\n",
    "opsim.groupby(['obsHistID', 'filter']).size().prod()"
   ]
  },
  {
   "cell_type": "code",
   "execution_count": 9,
   "metadata": {},
   "outputs": [
    {
     "name": "stdout",
     "output_type": "stream",
     "text": [
      "90089\n",
      "90089\n",
      "202172\n",
      "90089\n"
     ]
    }
   ],
   "source": [
    "print(obj_opsim['objectId'].nunique())\n",
    "print(src_opsim['objectId'].nunique())\n",
    "print(obj['objectId'].nunique())\n",
    "print(src['objectId'].nunique())\n"
   ]
  },
  {
   "cell_type": "code",
   "execution_count": 11,
   "metadata": {},
   "outputs": [
    {
     "data": {
      "text/plain": [
       "['Ixx',\n",
       " 'IxxPSF',\n",
       " 'IxxPSF_g',\n",
       " 'IxxPSF_i',\n",
       " 'IxxPSF_r',\n",
       " 'IxxPSF_u',\n",
       " 'IxxPSF_y',\n",
       " 'IxxPSF_z',\n",
       " 'Ixx_g',\n",
       " 'Ixx_i',\n",
       " 'Ixx_r',\n",
       " 'Ixx_u',\n",
       " 'Ixx_y',\n",
       " 'Ixx_z',\n",
       " 'Ixy',\n",
       " 'IxyPSF',\n",
       " 'IxyPSF_g',\n",
       " 'IxyPSF_i',\n",
       " 'IxyPSF_r',\n",
       " 'IxyPSF_u',\n",
       " 'IxyPSF_y',\n",
       " 'IxyPSF_z',\n",
       " 'Ixy_g',\n",
       " 'Ixy_i',\n",
       " 'Ixy_r',\n",
       " 'Ixy_u',\n",
       " 'Ixy_y',\n",
       " 'Ixy_z',\n",
       " 'Iyy',\n",
       " 'IyyPSF',\n",
       " 'IyyPSF_g',\n",
       " 'IyyPSF_i',\n",
       " 'IyyPSF_r',\n",
       " 'IyyPSF_u',\n",
       " 'IyyPSF_y',\n",
       " 'IyyPSF_z',\n",
       " 'Iyy_g',\n",
       " 'Iyy_i',\n",
       " 'Iyy_r',\n",
       " 'Iyy_u',\n",
       " 'Iyy_y',\n",
       " 'Iyy_z',\n",
       " 'PSF_sigma2',\n",
       " 'airmass',\n",
       " 'cModelFluxErr_g',\n",
       " 'cModelFluxErr_i',\n",
       " 'cModelFluxErr_r',\n",
       " 'cModelFluxErr_u',\n",
       " 'cModelFluxErr_y',\n",
       " 'cModelFluxErr_z',\n",
       " 'cModelFlux_flag_g',\n",
       " 'cModelFlux_flag_i',\n",
       " 'cModelFlux_flag_r',\n",
       " 'cModelFlux_flag_u',\n",
       " 'cModelFlux_flag_y',\n",
       " 'cModelFlux_flag_z',\n",
       " 'cModelFlux_g',\n",
       " 'cModelFlux_i',\n",
       " 'cModelFlux_r',\n",
       " 'cModelFlux_u',\n",
       " 'cModelFlux_y',\n",
       " 'cModelFlux_z',\n",
       " 'dec',\n",
       " 'dist2Moon',\n",
       " 'ext_shapeHSM_HsmPsfMoments_flag',\n",
       " 'ext_shapeHSM_HsmPsfMoments_xx',\n",
       " 'ext_shapeHSM_HsmPsfMoments_xy',\n",
       " 'ext_shapeHSM_HsmPsfMoments_yy',\n",
       " 'ext_shapeHSM_HsmSourceMoments_flag',\n",
       " 'ext_shapeHSM_HsmSourceMoments_xx',\n",
       " 'ext_shapeHSM_HsmSourceMoments_xy',\n",
       " 'ext_shapeHSM_HsmSourceMoments_yy',\n",
       " 'extendedness',\n",
       " 'filtSkyBrightness_flux',\n",
       " 'g_base_CircularApertureFlux_70_0_instFlux',\n",
       " 'g_base_CircularApertureFlux_70_0_instFluxErr',\n",
       " 'g_coord_dec',\n",
       " 'g_coord_ra',\n",
       " 'g_ext_photometryKron_KronFlux_flag',\n",
       " 'g_ext_photometryKron_KronFlux_instFlux',\n",
       " 'g_ext_photometryKron_KronFlux_instFluxErr',\n",
       " 'g_ext_photometryKron_KronFlux_psf_radius',\n",
       " 'g_ext_photometryKron_KronFlux_radius',\n",
       " 'i_base_CircularApertureFlux_70_0_instFlux',\n",
       " 'i_base_CircularApertureFlux_70_0_instFluxErr',\n",
       " 'i_coord_dec',\n",
       " 'i_coord_ra',\n",
       " 'i_ext_photometryKron_KronFlux_flag',\n",
       " 'i_ext_photometryKron_KronFlux_instFlux',\n",
       " 'i_ext_photometryKron_KronFlux_instFluxErr',\n",
       " 'i_ext_photometryKron_KronFlux_psf_radius',\n",
       " 'i_ext_photometryKron_KronFlux_radius',\n",
       " 'm5_flux',\n",
       " 'mag_g',\n",
       " 'mag_i',\n",
       " 'mag_r',\n",
       " 'mag_u',\n",
       " 'mag_y',\n",
       " 'mag_z',\n",
       " 'magerr_g',\n",
       " 'magerr_i',\n",
       " 'magerr_r',\n",
       " 'magerr_u',\n",
       " 'magerr_y',\n",
       " 'magerr_z',\n",
       " 'objectId',\n",
       " 'parentObjectId',\n",
       " 'patch',\n",
       " 'psFluxErr_g',\n",
       " 'psFluxErr_i',\n",
       " 'psFluxErr_r',\n",
       " 'psFluxErr_u',\n",
       " 'psFluxErr_y',\n",
       " 'psFluxErr_z',\n",
       " 'psFlux_flag_g',\n",
       " 'psFlux_flag_i',\n",
       " 'psFlux_flag_r',\n",
       " 'psFlux_flag_u',\n",
       " 'psFlux_flag_y',\n",
       " 'psFlux_flag_z',\n",
       " 'psFlux_g',\n",
       " 'psFlux_i',\n",
       " 'psFlux_r',\n",
       " 'psFlux_u',\n",
       " 'psFlux_y',\n",
       " 'psFlux_z',\n",
       " 'r_base_CircularApertureFlux_70_0_instFlux',\n",
       " 'r_base_CircularApertureFlux_70_0_instFluxErr',\n",
       " 'r_coord_dec',\n",
       " 'r_coord_ra',\n",
       " 'r_ext_photometryKron_KronFlux_flag',\n",
       " 'r_ext_photometryKron_KronFlux_instFlux',\n",
       " 'r_ext_photometryKron_KronFlux_instFluxErr',\n",
       " 'r_ext_photometryKron_KronFlux_psf_radius',\n",
       " 'r_ext_photometryKron_KronFlux_radius',\n",
       " 'ra',\n",
       " 'tract',\n",
       " 'u_base_CircularApertureFlux_70_0_instFlux',\n",
       " 'u_base_CircularApertureFlux_70_0_instFluxErr',\n",
       " 'u_coord_dec',\n",
       " 'u_coord_ra',\n",
       " 'u_ext_photometryKron_KronFlux_flag',\n",
       " 'u_ext_photometryKron_KronFlux_instFlux',\n",
       " 'u_ext_photometryKron_KronFlux_instFluxErr',\n",
       " 'u_ext_photometryKron_KronFlux_psf_radius',\n",
       " 'u_ext_photometryKron_KronFlux_radius',\n",
       " 'x',\n",
       " 'xErr',\n",
       " 'xy_flag',\n",
       " 'y',\n",
       " 'yErr',\n",
       " 'y_base_CircularApertureFlux_70_0_instFlux',\n",
       " 'y_base_CircularApertureFlux_70_0_instFluxErr',\n",
       " 'y_coord_dec',\n",
       " 'y_coord_ra',\n",
       " 'y_ext_photometryKron_KronFlux_flag',\n",
       " 'y_ext_photometryKron_KronFlux_instFlux',\n",
       " 'y_ext_photometryKron_KronFlux_instFluxErr',\n",
       " 'y_ext_photometryKron_KronFlux_psf_radius',\n",
       " 'y_ext_photometryKron_KronFlux_radius',\n",
       " 'z_base_CircularApertureFlux_70_0_instFlux',\n",
       " 'z_base_CircularApertureFlux_70_0_instFluxErr',\n",
       " 'z_coord_dec',\n",
       " 'z_coord_ra',\n",
       " 'z_ext_photometryKron_KronFlux_flag',\n",
       " 'z_ext_photometryKron_KronFlux_instFlux',\n",
       " 'z_ext_photometryKron_KronFlux_instFluxErr',\n",
       " 'z_ext_photometryKron_KronFlux_psf_radius',\n",
       " 'z_ext_photometryKron_KronFlux_radius']"
      ]
     },
     "execution_count": 11,
     "metadata": {},
     "output_type": "execute_result"
    }
   ],
   "source": [
    "sorted(obj_opsim.columns.values)"
   ]
  },
  {
   "cell_type": "code",
   "execution_count": null,
   "metadata": {},
   "outputs": [],
   "source": []
  }
 ],
 "metadata": {
  "kernelspec": {
   "display_name": "desc-stack",
   "language": "python",
   "name": "desc-stack"
  },
  "language_info": {
   "codemirror_mode": {
    "name": "ipython",
    "version": 3
   },
   "file_extension": ".py",
   "mimetype": "text/x-python",
   "name": "python",
   "nbconvert_exporter": "python",
   "pygments_lexer": "ipython3",
   "version": "3.6.6"
  }
 },
 "nbformat": 4,
 "nbformat_minor": 2
}
