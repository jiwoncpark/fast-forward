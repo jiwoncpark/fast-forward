{
 "cells": [
  {
   "cell_type": "code",
   "execution_count": null,
   "metadata": {},
   "outputs": [],
   "source": [
    "import numpy as np\n",
    "import pandas as pd\n",
    "from opsim_utils import format_opsim, read_opsim_db, join_src_opsim, join_obj_opsim\n",
    "pd.set_option('display.max_columns', None)\n",
    "%matplotlib inline\n",
    "%load_ext autoreload\n",
    "%autoreload 2"
   ]
  },
  {
   "cell_type": "markdown",
   "metadata": {},
   "source": [
    "## Associating Source and Object with OpSim rows"
   ]
  },
  {
   "cell_type": "code",
   "execution_count": null,
   "metadata": {},
   "outputs": [],
   "source": [
    "# Read in prefetched Source catalog\n",
    "src = pd.read_csv('src_tract4850_obs.csv', index_col=None)"
   ]
  },
  {
   "cell_type": "markdown",
   "metadata": {},
   "source": [
    "### Read in OpSim catalog"
   ]
  },
  {
   "cell_type": "code",
   "execution_count": null,
   "metadata": {},
   "outputs": [],
   "source": [
    "prefetched_opsim = True\n",
    "if prefetched:\n",
    "    opsim = pd.read_csv('raw_data/opsim.csv', index_col=None)\n",
    "else:\n",
    "    obs_history, field = read_opsim_db()\n",
    "    opsim = format_opsim(obs_history, field, None)"
   ]
  },
  {
   "cell_type": "markdown",
   "metadata": {},
   "source": [
    "### Join Source and OpSim"
   ]
  },
  {
   "cell_type": "code",
   "execution_count": null,
   "metadata": {},
   "outputs": [],
   "source": [
    "read_src_opsim_from_file = True\n",
    "if read_src_opsim_from_file:\n",
    "    src_opsim = pd.read_csv('raw_data/src_opsim.csv', index_col=None)\n",
    "else:\n",
    "    src_opsim, src_meta = join_src_opsim(src, opsim, save_path='raw_data/src_opsim.csv')\n",
    "    print(src_meta)"
   ]
  },
  {
   "cell_type": "markdown",
   "metadata": {},
   "source": [
    "### Join Object and `src_opsim`"
   ]
  },
  {
   "cell_type": "code",
   "execution_count": null,
   "metadata": {},
   "outputs": [],
   "source": [
    "src_opsim['n_obs'] = src_opsim['objectId'].map(src_opsim['objectId'].value_counts())"
   ]
  },
  {
   "cell_type": "code",
   "execution_count": null,
   "metadata": {
    "scrolled": true
   },
   "outputs": [],
   "source": [
    "# Read in prefetched Object catalog\n",
    "obj = pd.read_csv('raw_data/obj_tract4850.csv', index_col=None)\n",
    "\n",
    "# Join with src_opsim to get visit-averaged OpSim quantities\n",
    "obj_opsim, obj_meta = join_obj_opsim(obj, src_opsim, save_path='raw_data/obj_opsim.csv')"
   ]
  },
  {
   "cell_type": "raw",
   "metadata": {},
   "source": [
    "overlaps[(overlaps['tract']==4850) & (overlaps['detector'] == 11) & (overlaps['visit'] == 1412325)].head()\n",
    "\n",
    "overlaps[overlaps['tract'] == 4850].groupby(['visit', 'filter']).size()\n",
    "\n",
    "opsim.groupby(['obsHistID', 'filter']).size().prod()"
   ]
  },
  {
   "cell_type": "code",
   "execution_count": null,
   "metadata": {},
   "outputs": [],
   "source": [
    "print(obj_opsim['objectId'].nunique())\n",
    "print(src_opsim['objectId'].nunique())\n",
    "print(obj['objectId'].nunique())\n",
    "print(src['objectId'].nunique())"
   ]
  },
  {
   "cell_type": "code",
   "execution_count": null,
   "metadata": {},
   "outputs": [],
   "source": [
    "sorted(obj_opsim.columns.values)"
   ]
  }
 ],
 "metadata": {
  "kernelspec": {
   "display_name": "Python 3",
   "language": "python",
   "name": "python3"
  },
  "language_info": {
   "codemirror_mode": {
    "name": "ipython",
    "version": 3
   },
   "file_extension": ".py",
   "mimetype": "text/x-python",
   "name": "python",
   "nbconvert_exporter": "python",
   "pygments_lexer": "ipython3",
   "version": "3.5.2"
  }
 },
 "nbformat": 4,
 "nbformat_minor": 2
}
