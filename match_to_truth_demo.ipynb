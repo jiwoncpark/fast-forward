{
 "cells": [
  {
   "cell_type": "code",
   "execution_count": 1,
   "metadata": {},
   "outputs": [
    {
     "name": "stdout",
     "output_type": "stream",
     "text": [
      "/global/homes/j/jwp/DC2/gcr-catalogs/GCRCatalogs/__init__.py\n"
     ]
    }
   ],
   "source": [
    "import os, sys\n",
    "import numpy as np\n",
    "import pandas as pd\n",
    "# To be run on desc-stack kernel\n",
    "# I import my own version of GCR-Catalogs here, but\n",
    "# you can use any version that has the latest Object and Source catalogs\n",
    "sys.path.insert(0, '/global/homes/j/jwp/DC2/gcr-catalogs')\n",
    "import GCRCatalogs\n",
    "print(GCRCatalogs.__file__)\n",
    "from astropy.coordinates import SkyCoord, matching\n",
    "import astropy.units as u\n",
    "%load_ext autoreload\n",
    "%autoreload 2"
   ]
  },
  {
   "cell_type": "markdown",
   "metadata": {},
   "source": [
    "### Matching Source and Object catalogs back to truth"
   ]
  },
  {
   "cell_type": "markdown",
   "metadata": {},
   "source": [
    "Truth matching will only be applied to the objects. This means the sources that did not get matched to objects will not be matched to the truth.\n",
    "\n",
    "The \"truth\" is the union of galaxies in `proto-dc2_v3.0` (on which Run 1.2i was based) and `dc2_truth_run1.2_static`. We include the truth catalog for the stars that are not in the extragalactic catalog."
   ]
  },
  {
   "cell_type": "code",
   "execution_count": 2,
   "metadata": {},
   "outputs": [
    {
     "name": "stderr",
     "output_type": "stream",
     "text": [
      "/global/homes/j/jwp/DC2/gcr-catalogs/GCRCatalogs/alphaq.py:105: UserWarning: No md5 sum specified in the config file\n",
      "  warnings.warn('No md5 sum specified in the config file')\n",
      "/opt/lsst/software/stack/python/miniconda3-4.5.12/envs/lsst-scipipe-1172c30/lib/python3.7/site-packages/h5py/_hl/dataset.py:313: H5pyDeprecationWarning: dataset.value has been deprecated. Use dataset[()] instead.\n",
      "  \"Use dataset[()] instead.\", H5pyDeprecationWarning)\n"
     ]
    },
    {
     "name": "stdout",
     "output_type": "stream",
     "text": [
      "(9211556, 24)\n"
     ]
    }
   ],
   "source": [
    "# Fetch protoDC2 with the columns we need, restricted to our area\n",
    "extragal_gcr = GCRCatalogs.load_catalog('proto-dc2_v3.0_test') # _test skips the md5 check\n",
    "# 'cosmoDC2_v1.0_image' takes ~14 sec\n",
    "extragal_quantities = ['galaxy_id', 'ra_true', 'dec_true', 'redshift_true', \n",
    "                      'size_bulge_true', 'size_minor_bulge_true', 'sersic_bulge', 'ellipticity_1_bulge_true',\n",
    "                      'ellipticity_2_bulge_true', 'ellipticity_bulge_true',\n",
    "                      'size_disk_true', 'size_minor_disk_true', 'sersic_disk', 'ellipticity_1_disk_true',\n",
    "                      'ellipticity_2_disk_true', 'ellipticity_disk_true',\n",
    "                      'bulge_to_total_ratio_i',\n",
    "                      'mag_true_u_lsst',\n",
    "                      'mag_true_g_lsst',\n",
    "                      'mag_true_r_lsst',\n",
    "                      'mag_true_i_lsst',\n",
    "                      'mag_true_z_lsst',\n",
    "                      'mag_true_Y_lsst',\n",
    "                      'halo_mass',]\n",
    "galaxies_dict = extragal_gcr.get_quantities(extragal_quantities, filters=[])\n",
    "galaxies = pd.DataFrame(galaxies_dict, index=None)\n",
    "print(galaxies.shape)"
   ]
  },
  {
   "cell_type": "code",
   "execution_count": 3,
   "metadata": {},
   "outputs": [
    {
     "name": "stdout",
     "output_type": "stream",
     "text": [
      "tract 4850 has corners (56.410, -29.783), (54.618, -29.783), (54.631, -28.228), (56.397, -28.228) (RA, Dec deg) and 7 x 7 patches\n"
     ]
    }
   ],
   "source": [
    "# Find which ra, dec box corresponds to Tract 4850  \n",
    "from skymap_utils import get_tract_corners\n",
    "corners = get_tract_corners(tract_id=4850)"
   ]
  },
  {
   "cell_type": "code",
   "execution_count": 4,
   "metadata": {},
   "outputs": [
    {
     "name": "stdout",
     "output_type": "stream",
     "text": [
      "54.61796844024866 56.41000495205823\n"
     ]
    }
   ],
   "source": [
    "min_ra, min_dec = np.min(corners, axis=0)\n",
    "max_ra, max_dec = np.max(corners, axis=0)\n",
    "buffer = 0.1 # deg"
   ]
  },
  {
   "cell_type": "code",
   "execution_count": 5,
   "metadata": {},
   "outputs": [],
   "source": [
    "# Fetch truth with the columns we need, restricted to our area\n",
    "truth_gcr = GCRCatalogs.load_catalog('dc2_truth_run1.2_static')\n",
    "truth_quantities = ['object_id', 'sprinkled', 'star', 'agn', 'ra', 'dec', 'redshift'] + list('ugrizy') \n",
    "#print(sorted(truth_gcr.list_all_quantities(include_native=True)))\n",
    "truth_filters = ['ra > %f' %(min_ra - buffer),\n",
    "                'ra < %f' %(max_ra + buffer),\n",
    "                'dec > %f' %(min_dec - buffer),\n",
    "                'dec < %f' %(max_dec + buffer),]\n",
    "truth_dict = truth_gcr.get_quantities(truth_quantities, native_filters=truth_filters)\n",
    "truth_df = pd.DataFrame(truth_dict, index=None)"
   ]
  },
  {
   "cell_type": "markdown",
   "metadata": {},
   "source": [
    "### Join extragalactic catalog with truth catalog\n",
    "In the case of protoDC2, this step is necessary to rotate the protoDC2 field onto the DC2 field. Only galaxies will survive the join."
   ]
  },
  {
   "cell_type": "code",
   "execution_count": 6,
   "metadata": {},
   "outputs": [],
   "source": [
    "truth_extended = galaxies.merge(truth_df, how='inner', left_on='galaxy_id', right_on='object_id')"
   ]
  },
  {
   "cell_type": "code",
   "execution_count": 7,
   "metadata": {},
   "outputs": [
    {
     "data": {
      "text/html": [
       "<div>\n",
       "<style scoped>\n",
       "    .dataframe tbody tr th:only-of-type {\n",
       "        vertical-align: middle;\n",
       "    }\n",
       "\n",
       "    .dataframe tbody tr th {\n",
       "        vertical-align: top;\n",
       "    }\n",
       "\n",
       "    .dataframe thead th {\n",
       "        text-align: right;\n",
       "    }\n",
       "</style>\n",
       "<table border=\"1\" class=\"dataframe\">\n",
       "  <thead>\n",
       "    <tr style=\"text-align: right;\">\n",
       "      <th></th>\n",
       "      <th>size_minor_bulge_true</th>\n",
       "      <th>size_minor_disk_true</th>\n",
       "      <th>sersic_disk</th>\n",
       "      <th>sersic_bulge</th>\n",
       "      <th>dec_true</th>\n",
       "      <th>ellipticity_1_bulge_true</th>\n",
       "      <th>ellipticity_2_bulge_true</th>\n",
       "      <th>galaxy_id</th>\n",
       "      <th>mag_true_r_lsst</th>\n",
       "      <th>halo_mass</th>\n",
       "      <th>...</th>\n",
       "      <th>star</th>\n",
       "      <th>r</th>\n",
       "      <th>agn</th>\n",
       "      <th>u</th>\n",
       "      <th>object_id</th>\n",
       "      <th>redshift</th>\n",
       "      <th>z</th>\n",
       "      <th>y</th>\n",
       "      <th>i</th>\n",
       "      <th>g</th>\n",
       "    </tr>\n",
       "  </thead>\n",
       "  <tbody>\n",
       "    <tr>\n",
       "      <th>0</th>\n",
       "      <td>4.795085</td>\n",
       "      <td>6.225793</td>\n",
       "      <td>1.0</td>\n",
       "      <td>4.0</td>\n",
       "      <td>0.674109</td>\n",
       "      <td>0.343291</td>\n",
       "      <td>0.052789</td>\n",
       "      <td>7</td>\n",
       "      <td>11.619044</td>\n",
       "      <td>3.509520e+11</td>\n",
       "      <td>...</td>\n",
       "      <td>False</td>\n",
       "      <td>10.996866</td>\n",
       "      <td>True</td>\n",
       "      <td>12.220207</td>\n",
       "      <td>7</td>\n",
       "      <td>0.007052</td>\n",
       "      <td>10.614914</td>\n",
       "      <td>10.498124</td>\n",
       "      <td>10.762966</td>\n",
       "      <td>11.366055</td>\n",
       "    </tr>\n",
       "    <tr>\n",
       "      <th>1</th>\n",
       "      <td>1.092345</td>\n",
       "      <td>2.108287</td>\n",
       "      <td>1.0</td>\n",
       "      <td>4.0</td>\n",
       "      <td>1.231254</td>\n",
       "      <td>0.152970</td>\n",
       "      <td>0.256484</td>\n",
       "      <td>26</td>\n",
       "      <td>17.971756</td>\n",
       "      <td>1.164449e+11</td>\n",
       "      <td>...</td>\n",
       "      <td>False</td>\n",
       "      <td>17.925473</td>\n",
       "      <td>True</td>\n",
       "      <td>19.151460</td>\n",
       "      <td>26</td>\n",
       "      <td>0.012973</td>\n",
       "      <td>17.620158</td>\n",
       "      <td>17.562220</td>\n",
       "      <td>17.731668</td>\n",
       "      <td>18.259135</td>\n",
       "    </tr>\n",
       "    <tr>\n",
       "      <th>2</th>\n",
       "      <td>0.000000</td>\n",
       "      <td>1.940603</td>\n",
       "      <td>1.0</td>\n",
       "      <td>4.0</td>\n",
       "      <td>1.434664</td>\n",
       "      <td>NaN</td>\n",
       "      <td>NaN</td>\n",
       "      <td>52</td>\n",
       "      <td>17.932335</td>\n",
       "      <td>1.940749e+10</td>\n",
       "      <td>...</td>\n",
       "      <td>False</td>\n",
       "      <td>17.978307</td>\n",
       "      <td>False</td>\n",
       "      <td>19.625544</td>\n",
       "      <td>52</td>\n",
       "      <td>0.013717</td>\n",
       "      <td>17.656669</td>\n",
       "      <td>17.627993</td>\n",
       "      <td>17.747514</td>\n",
       "      <td>18.495268</td>\n",
       "    </tr>\n",
       "    <tr>\n",
       "      <th>3</th>\n",
       "      <td>0.743234</td>\n",
       "      <td>0.458977</td>\n",
       "      <td>1.0</td>\n",
       "      <td>4.0</td>\n",
       "      <td>0.813124</td>\n",
       "      <td>-0.123734</td>\n",
       "      <td>-0.148197</td>\n",
       "      <td>60</td>\n",
       "      <td>21.559978</td>\n",
       "      <td>3.072852e+10</td>\n",
       "      <td>...</td>\n",
       "      <td>False</td>\n",
       "      <td>21.543838</td>\n",
       "      <td>False</td>\n",
       "      <td>22.931867</td>\n",
       "      <td>60</td>\n",
       "      <td>0.020161</td>\n",
       "      <td>21.293254</td>\n",
       "      <td>21.272098</td>\n",
       "      <td>21.368731</td>\n",
       "      <td>21.894835</td>\n",
       "    </tr>\n",
       "    <tr>\n",
       "      <th>4</th>\n",
       "      <td>0.602066</td>\n",
       "      <td>0.393055</td>\n",
       "      <td>1.0</td>\n",
       "      <td>4.0</td>\n",
       "      <td>0.043271</td>\n",
       "      <td>-0.207849</td>\n",
       "      <td>-0.035678</td>\n",
       "      <td>80</td>\n",
       "      <td>19.943737</td>\n",
       "      <td>8.133354e+12</td>\n",
       "      <td>...</td>\n",
       "      <td>False</td>\n",
       "      <td>19.917222</td>\n",
       "      <td>True</td>\n",
       "      <td>21.029238</td>\n",
       "      <td>80</td>\n",
       "      <td>0.023965</td>\n",
       "      <td>19.757551</td>\n",
       "      <td>19.757425</td>\n",
       "      <td>19.806533</td>\n",
       "      <td>20.132630</td>\n",
       "    </tr>\n",
       "  </tbody>\n",
       "</table>\n",
       "<p>5 rows × 37 columns</p>\n",
       "</div>"
      ],
      "text/plain": [
       "   size_minor_bulge_true  size_minor_disk_true  sersic_disk  sersic_bulge  \\\n",
       "0               4.795085              6.225793          1.0           4.0   \n",
       "1               1.092345              2.108287          1.0           4.0   \n",
       "2               0.000000              1.940603          1.0           4.0   \n",
       "3               0.743234              0.458977          1.0           4.0   \n",
       "4               0.602066              0.393055          1.0           4.0   \n",
       "\n",
       "   dec_true  ellipticity_1_bulge_true  ellipticity_2_bulge_true  galaxy_id  \\\n",
       "0  0.674109                  0.343291                  0.052789          7   \n",
       "1  1.231254                  0.152970                  0.256484         26   \n",
       "2  1.434664                       NaN                       NaN         52   \n",
       "3  0.813124                 -0.123734                 -0.148197         60   \n",
       "4  0.043271                 -0.207849                 -0.035678         80   \n",
       "\n",
       "   mag_true_r_lsst     halo_mass  ...   star          r    agn          u  \\\n",
       "0        11.619044  3.509520e+11  ...  False  10.996866   True  12.220207   \n",
       "1        17.971756  1.164449e+11  ...  False  17.925473   True  19.151460   \n",
       "2        17.932335  1.940749e+10  ...  False  17.978307  False  19.625544   \n",
       "3        21.559978  3.072852e+10  ...  False  21.543838  False  22.931867   \n",
       "4        19.943737  8.133354e+12  ...  False  19.917222   True  21.029238   \n",
       "\n",
       "   object_id  redshift          z          y          i          g  \n",
       "0          7  0.007052  10.614914  10.498124  10.762966  11.366055  \n",
       "1         26  0.012973  17.620158  17.562220  17.731668  18.259135  \n",
       "2         52  0.013717  17.656669  17.627993  17.747514  18.495268  \n",
       "3         60  0.020161  21.293254  21.272098  21.368731  21.894835  \n",
       "4         80  0.023965  19.757551  19.757425  19.806533  20.132630  \n",
       "\n",
       "[5 rows x 37 columns]"
      ]
     },
     "execution_count": 7,
     "metadata": {},
     "output_type": "execute_result"
    }
   ],
   "source": [
    "truth_extended.head()"
   ]
  },
  {
   "cell_type": "code",
   "execution_count": 8,
   "metadata": {},
   "outputs": [
    {
     "name": "stdout",
     "output_type": "stream",
     "text": [
      "(1155438, 37)\n",
      "(1155435, 37)\n"
     ]
    }
   ],
   "source": [
    "# FIXME: IDK what's going on with the 3 star==True rows that got matched to protoDC2\n",
    "print(truth_extended.shape)\n",
    "truth_extended = truth_extended[truth_extended['star']==False]\n",
    "print(truth_extended.shape)"
   ]
  },
  {
   "cell_type": "markdown",
   "metadata": {},
   "source": [
    "### Save a subset of the truth catalog with just stars"
   ]
  },
  {
   "cell_type": "code",
   "execution_count": 10,
   "metadata": {},
   "outputs": [
    {
     "name": "stdout",
     "output_type": "stream",
     "text": [
      "(34467, 13)\n"
     ]
    }
   ],
   "source": [
    "truth_point = truth_df[truth_df['star']==True].copy()\n",
    "print(truth_point.shape)"
   ]
  },
  {
   "cell_type": "code",
   "execution_count": 11,
   "metadata": {},
   "outputs": [],
   "source": [
    "truth_combined = pd.concat([truth_extended, truth_point], axis=0, sort=False, ignore_index=True)"
   ]
  },
  {
   "cell_type": "code",
   "execution_count": 12,
   "metadata": {},
   "outputs": [
    {
     "data": {
      "text/html": [
       "<div>\n",
       "<style scoped>\n",
       "    .dataframe tbody tr th:only-of-type {\n",
       "        vertical-align: middle;\n",
       "    }\n",
       "\n",
       "    .dataframe tbody tr th {\n",
       "        vertical-align: top;\n",
       "    }\n",
       "\n",
       "    .dataframe thead th {\n",
       "        text-align: right;\n",
       "    }\n",
       "</style>\n",
       "<table border=\"1\" class=\"dataframe\">\n",
       "  <thead>\n",
       "    <tr style=\"text-align: right;\">\n",
       "      <th></th>\n",
       "      <th>size_minor_bulge_true</th>\n",
       "      <th>size_minor_disk_true</th>\n",
       "      <th>sersic_disk</th>\n",
       "      <th>sersic_bulge</th>\n",
       "      <th>dec_true</th>\n",
       "      <th>ellipticity_1_bulge_true</th>\n",
       "      <th>ellipticity_2_bulge_true</th>\n",
       "      <th>galaxy_id</th>\n",
       "      <th>mag_true_r_lsst</th>\n",
       "      <th>halo_mass</th>\n",
       "      <th>...</th>\n",
       "      <th>star</th>\n",
       "      <th>r</th>\n",
       "      <th>agn</th>\n",
       "      <th>u</th>\n",
       "      <th>object_id</th>\n",
       "      <th>redshift</th>\n",
       "      <th>z</th>\n",
       "      <th>y</th>\n",
       "      <th>i</th>\n",
       "      <th>g</th>\n",
       "    </tr>\n",
       "  </thead>\n",
       "  <tbody>\n",
       "    <tr>\n",
       "      <th>1189897</th>\n",
       "      <td>NaN</td>\n",
       "      <td>NaN</td>\n",
       "      <td>NaN</td>\n",
       "      <td>NaN</td>\n",
       "      <td>NaN</td>\n",
       "      <td>NaN</td>\n",
       "      <td>NaN</td>\n",
       "      <td>NaN</td>\n",
       "      <td>NaN</td>\n",
       "      <td>NaN</td>\n",
       "      <td>...</td>\n",
       "      <td>True</td>\n",
       "      <td>13.985789</td>\n",
       "      <td>False</td>\n",
       "      <td>15.269224</td>\n",
       "      <td>459361771</td>\n",
       "      <td>0.0</td>\n",
       "      <td>13.892980</td>\n",
       "      <td>13.895497</td>\n",
       "      <td>13.904412</td>\n",
       "      <td>14.253808</td>\n",
       "    </tr>\n",
       "    <tr>\n",
       "      <th>1189898</th>\n",
       "      <td>NaN</td>\n",
       "      <td>NaN</td>\n",
       "      <td>NaN</td>\n",
       "      <td>NaN</td>\n",
       "      <td>NaN</td>\n",
       "      <td>NaN</td>\n",
       "      <td>NaN</td>\n",
       "      <td>NaN</td>\n",
       "      <td>NaN</td>\n",
       "      <td>NaN</td>\n",
       "      <td>...</td>\n",
       "      <td>True</td>\n",
       "      <td>20.261063</td>\n",
       "      <td>False</td>\n",
       "      <td>21.349933</td>\n",
       "      <td>1568792530</td>\n",
       "      <td>0.0</td>\n",
       "      <td>20.201078</td>\n",
       "      <td>20.213625</td>\n",
       "      <td>20.197302</td>\n",
       "      <td>20.491567</td>\n",
       "    </tr>\n",
       "    <tr>\n",
       "      <th>1189899</th>\n",
       "      <td>NaN</td>\n",
       "      <td>NaN</td>\n",
       "      <td>NaN</td>\n",
       "      <td>NaN</td>\n",
       "      <td>NaN</td>\n",
       "      <td>NaN</td>\n",
       "      <td>NaN</td>\n",
       "      <td>NaN</td>\n",
       "      <td>NaN</td>\n",
       "      <td>NaN</td>\n",
       "      <td>...</td>\n",
       "      <td>True</td>\n",
       "      <td>20.072620</td>\n",
       "      <td>False</td>\n",
       "      <td>21.242134</td>\n",
       "      <td>1568792417</td>\n",
       "      <td>0.0</td>\n",
       "      <td>20.006028</td>\n",
       "      <td>20.014843</td>\n",
       "      <td>20.006405</td>\n",
       "      <td>20.308958</td>\n",
       "    </tr>\n",
       "    <tr>\n",
       "      <th>1189900</th>\n",
       "      <td>NaN</td>\n",
       "      <td>NaN</td>\n",
       "      <td>NaN</td>\n",
       "      <td>NaN</td>\n",
       "      <td>NaN</td>\n",
       "      <td>NaN</td>\n",
       "      <td>NaN</td>\n",
       "      <td>NaN</td>\n",
       "      <td>NaN</td>\n",
       "      <td>NaN</td>\n",
       "      <td>...</td>\n",
       "      <td>True</td>\n",
       "      <td>17.453174</td>\n",
       "      <td>False</td>\n",
       "      <td>18.581434</td>\n",
       "      <td>834836</td>\n",
       "      <td>0.0</td>\n",
       "      <td>17.470917</td>\n",
       "      <td>17.477655</td>\n",
       "      <td>17.455468</td>\n",
       "      <td>17.552799</td>\n",
       "    </tr>\n",
       "    <tr>\n",
       "      <th>1189901</th>\n",
       "      <td>NaN</td>\n",
       "      <td>NaN</td>\n",
       "      <td>NaN</td>\n",
       "      <td>NaN</td>\n",
       "      <td>NaN</td>\n",
       "      <td>NaN</td>\n",
       "      <td>NaN</td>\n",
       "      <td>NaN</td>\n",
       "      <td>NaN</td>\n",
       "      <td>NaN</td>\n",
       "      <td>...</td>\n",
       "      <td>True</td>\n",
       "      <td>14.353960</td>\n",
       "      <td>False</td>\n",
       "      <td>15.445417</td>\n",
       "      <td>834744</td>\n",
       "      <td>0.0</td>\n",
       "      <td>14.427729</td>\n",
       "      <td>14.435807</td>\n",
       "      <td>14.389338</td>\n",
       "      <td>14.405268</td>\n",
       "    </tr>\n",
       "  </tbody>\n",
       "</table>\n",
       "<p>5 rows × 37 columns</p>\n",
       "</div>"
      ],
      "text/plain": [
       "         size_minor_bulge_true  size_minor_disk_true  sersic_disk  \\\n",
       "1189897                    NaN                   NaN          NaN   \n",
       "1189898                    NaN                   NaN          NaN   \n",
       "1189899                    NaN                   NaN          NaN   \n",
       "1189900                    NaN                   NaN          NaN   \n",
       "1189901                    NaN                   NaN          NaN   \n",
       "\n",
       "         sersic_bulge  dec_true  ellipticity_1_bulge_true  \\\n",
       "1189897           NaN       NaN                       NaN   \n",
       "1189898           NaN       NaN                       NaN   \n",
       "1189899           NaN       NaN                       NaN   \n",
       "1189900           NaN       NaN                       NaN   \n",
       "1189901           NaN       NaN                       NaN   \n",
       "\n",
       "         ellipticity_2_bulge_true  galaxy_id  mag_true_r_lsst  halo_mass  ...  \\\n",
       "1189897                       NaN        NaN              NaN        NaN  ...   \n",
       "1189898                       NaN        NaN              NaN        NaN  ...   \n",
       "1189899                       NaN        NaN              NaN        NaN  ...   \n",
       "1189900                       NaN        NaN              NaN        NaN  ...   \n",
       "1189901                       NaN        NaN              NaN        NaN  ...   \n",
       "\n",
       "         star          r    agn          u   object_id  redshift          z  \\\n",
       "1189897  True  13.985789  False  15.269224   459361771       0.0  13.892980   \n",
       "1189898  True  20.261063  False  21.349933  1568792530       0.0  20.201078   \n",
       "1189899  True  20.072620  False  21.242134  1568792417       0.0  20.006028   \n",
       "1189900  True  17.453174  False  18.581434      834836       0.0  17.470917   \n",
       "1189901  True  14.353960  False  15.445417      834744       0.0  14.427729   \n",
       "\n",
       "                 y          i          g  \n",
       "1189897  13.895497  13.904412  14.253808  \n",
       "1189898  20.213625  20.197302  20.491567  \n",
       "1189899  20.014843  20.006405  20.308958  \n",
       "1189900  17.477655  17.455468  17.552799  \n",
       "1189901  14.435807  14.389338  14.405268  \n",
       "\n",
       "[5 rows x 37 columns]"
      ]
     },
     "execution_count": 12,
     "metadata": {},
     "output_type": "execute_result"
    }
   ],
   "source": [
    "truth_combined.tail()"
   ]
  },
  {
   "cell_type": "code",
   "execution_count": 103,
   "metadata": {},
   "outputs": [],
   "source": [
    "# Any cuts to improve matching\n",
    "\n",
    "truth_combined = truth_combined[truth_combined['i'] < 26.0].reset_index()"
   ]
  },
  {
   "cell_type": "code",
   "execution_count": 13,
   "metadata": {},
   "outputs": [],
   "source": [
    "truth_combined.to_csv('raw_data/truth_combined.csv', index=False)"
   ]
  },
  {
   "cell_type": "code",
   "execution_count": 14,
   "metadata": {},
   "outputs": [
    {
     "data": {
      "text/plain": [
       "array(['size_minor_bulge_true', 'size_minor_disk_true', 'sersic_disk',\n",
       "       'sersic_bulge', 'dec_true', 'ellipticity_1_bulge_true',\n",
       "       'ellipticity_2_bulge_true', 'galaxy_id', 'mag_true_r_lsst',\n",
       "       'halo_mass', 'size_bulge_true', 'redshift_true',\n",
       "       'ellipticity_bulge_true', 'bulge_to_total_ratio_i',\n",
       "       'mag_true_g_lsst', 'size_disk_true', 'mag_true_z_lsst',\n",
       "       'mag_true_u_lsst', 'ellipticity_2_disk_true',\n",
       "       'ellipticity_1_disk_true', 'ra_true', 'ellipticity_disk_true',\n",
       "       'mag_true_i_lsst', 'mag_true_Y_lsst', 'ra', 'dec', 'sprinkled',\n",
       "       'star', 'r', 'agn', 'u', 'object_id', 'redshift', 'z', 'y', 'i',\n",
       "       'g'], dtype=object)"
      ]
     },
     "execution_count": 14,
     "metadata": {},
     "output_type": "execute_result"
    }
   ],
   "source": [
    "truth_combined.columns.values"
   ]
  },
  {
   "cell_type": "markdown",
   "metadata": {},
   "source": [
    "### Match using FoF"
   ]
  },
  {
   "cell_type": "markdown",
   "metadata": {},
   "source": [
    "`FoFCatalogMatching.match` takes a dictionary of catalogs to match and a friends-of-friends linking length."
   ]
  },
  {
   "cell_type": "code",
   "execution_count": 104,
   "metadata": {},
   "outputs": [],
   "source": [
    "import FoFCatalogMatching\n",
    "\n",
    "obj = pd.read_csv('raw_data/obj_opsim.csv', index_col=None)\n",
    "#obj_skyCoord = SkyCoord(obj['ra'].values, obj['dec'].values, unit=(u.deg, u.deg))\n",
    "\n",
    "results = FoFCatalogMatching.match(\n",
    "    catalog_dict={'truth': truth_combined, 'observed': obj},\n",
    "    linking_lengths=1.0,\n",
    "    catalog_len_getter=lambda x: len(x['ra']),\n",
    ")"
   ]
  },
  {
   "cell_type": "code",
   "execution_count": 105,
   "metadata": {},
   "outputs": [
    {
     "data": {
      "image/png": "[encoded data removed]",
      "text/plain": [
       "<Figure size 432x288 with 2 Axes>"
      ]
     },
     "metadata": {
      "needs_background": "light"
     },
     "output_type": "display_data"
    }
   ],
   "source": [
    "import matplotlib.pyplot as plt\n",
    "%matplotlib inline\n",
    "\n",
    "truth_mask = results['catalog_key'] == 'truth'\n",
    "observed_mask = ~truth_mask\n",
    "\n",
    "# Then, np.bincount will give up the number of id occurrences \n",
    "# (like histogram but with integer input):\n",
    "n_groups = results['group_id'].max() + 1\n",
    "n_true = np.bincount(results['group_id'][truth_mask], minlength=n_groups)\n",
    "n_observed = np.bincount(results['group_id'][observed_mask], minlength=n_groups)\n",
    "\n",
    "# Now n_true and n_observed are the number of true/observed objects \n",
    "# in each group, and we want to make a 2d histogram of (n_true, n_observed). \n",
    "n_max = max(n_true.max(), n_observed.max()) + 1\n",
    "hist_2d = np.bincount(n_observed * n_max + n_true, minlength=n_max*n_max).reshape(n_max, n_max)\n",
    "\n",
    "plt.imshow(np.log10(hist_2d+1), extent=(-0.5, n_max-0.5, -0.5, n_max-0.5), origin='lower');\n",
    "plt.xlabel('Number of true objects');\n",
    "plt.ylabel('Number of observed objects');\n",
    "plt.colorbar(label=r'$\\log(N_{\\rm groups} \\, + \\, 1)$');"
   ]
  },
  {
   "cell_type": "code",
   "execution_count": 52,
   "metadata": {},
   "outputs": [
    {
     "name": "stdout",
     "output_type": "stream",
     "text": [
      "70355  out of  260995 (0.270) FoF groups are 1-to-1 matches.\n"
     ]
    }
   ],
   "source": [
    "one_to_one = hist_2d[1,1]\n",
    "total = np.sum(hist_2d)\n",
    "print(one_to_one, \" out of \", total, \"(%.3f) FoF groups are 1-to-1 matches.\" %(one_to_one/total))"
   ]
  },
  {
   "cell_type": "code",
   "execution_count": 53,
   "metadata": {},
   "outputs": [
    {
     "name": "stdout",
     "output_type": "stream",
     "text": [
      "183593  out of  260995 (0.703) FoF groups are nondetections.\n"
     ]
    }
   ],
   "source": [
    "unobserved = hist_2d[0, 1]\n",
    "print(unobserved, \" out of \", total, \"(%.3f) FoF groups are nondetections.\" %(unobserved/total))"
   ]
  },
  {
   "cell_type": "code",
   "execution_count": 54,
   "metadata": {},
   "outputs": [
    {
     "name": "stdout",
     "output_type": "stream",
     "text": [
      "2909  out of  260995 (0.011) FoF groups are blends.\n"
     ]
    }
   ],
   "source": [
    "blended = hist_2d[1, 2]\n",
    "print(blended, \" out of \", total, \"(%.3f) FoF groups are blends.\" %(blended/total))"
   ]
  },
  {
   "cell_type": "code",
   "execution_count": 55,
   "metadata": {},
   "outputs": [
    {
     "name": "stdout",
     "output_type": "stream",
     "text": [
      "120  out of  260995 (0.000) FoF groups are shreds.\n"
     ]
    }
   ],
   "source": [
    "shredded = hist_2d[2, 1]\n",
    "print(shredded, \" out of \", total, \"(%.3f) FoF groups are shreds.\" %(shredded/total))"
   ]
  },
  {
   "cell_type": "code",
   "execution_count": 56,
   "metadata": {},
   "outputs": [],
   "source": [
    "### Evaluate matching from FoF\n",
    "\n",
    "one_to_one_group_mask = np.in1d(results['group_id'], np.flatnonzero((n_true == 1) & (n_observed == 1)))\n",
    "truth_idx = results['row_index'][one_to_one_group_mask & truth_mask]\n",
    "observed_idx = results['row_index'][one_to_one_group_mask & observed_mask]\n",
    "true_matched = truth_combined.iloc[truth_idx].reset_index(drop=True)\n",
    "observed_matched = obj.iloc[observed_idx].reset_index(drop=True)"
   ]
  },
  {
   "cell_type": "code",
   "execution_count": 141,
   "metadata": {},
   "outputs": [
    {
     "data": {
      "text/plain": [
       "<matplotlib.legend.Legend at 0x2aab82618ef0>"
      ]
     },
     "execution_count": 141,
     "metadata": {},
     "output_type": "execute_result"
    },
    {
     "data": {
      "image/png": "[encoded data removed]",
      "text/plain": [
       "<Figure size 432x288 with 2 Axes>"
      ]
     },
     "metadata": {
      "needs_background": "light"
     },
     "output_type": "display_data"
    }
   ],
   "source": [
    "import matplotlib as mpl\n",
    "\n",
    "band = 'y'\n",
    "#truth_colname = 'mag_true_Y_lsst' #%band\n",
    "truth_colname = band\n",
    "observed_colname = 'mag_%s' %band\n",
    "mask = ~np.logical_or(np.logical_or(np.isnan(true_matched[truth_colname]), np.isnan(observed_matched[observed_colname])), true_matched['star']==False)\n",
    "plt.hist2d(true_matched[truth_colname].loc[mask], observed_matched[observed_colname].loc[mask],\n",
    "           norm=mpl.colors.LogNorm(), bins=30) #marker='.', alpha=0.2, label='_nolegend_')\n",
    "plt.plot(np.linspace(15, 30, 20), np.linspace(15, 30, 20), color='r', linestyle='--', label='exact 1-1')\n",
    "plt.xlabel('total truth (mag)')\n",
    "plt.ylabel('observed (mag)')\n",
    "plt.title('tract 4850, %s-band (stars only)' %band)\n",
    "plt.colorbar()\n",
    "plt.legend()"
   ]
  },
  {
   "cell_type": "code",
   "execution_count": 215,
   "metadata": {},
   "outputs": [
    {
     "data": {
      "text/plain": [
       "<matplotlib.colorbar.Colorbar at 0x2aab86966c50>"
      ]
     },
     "execution_count": 215,
     "metadata": {},
     "output_type": "execute_result"
    },
    {
     "data": {
      "image/png": "[encoded data removed]",
      "text/plain": [
       "<Figure size 432x288 with 2 Axes>"
      ]
     },
     "metadata": {
      "needs_background": "light"
     },
     "output_type": "display_data"
    }
   ],
   "source": [
    "mask = np.ones(observed_matched.shape[0]).astype(bool)#true_matched['star']==False\n",
    "_ = plt.hist2d((observed_matched['ra'].loc[mask] - true_matched['ra'].loc[mask])*3600.0*1000.0,\n",
    "               (observed_matched['dec'].loc[mask] - true_matched['dec'].loc[mask])*3600.0*1000.0,\n",
    "               norm=mpl.colors.LogNorm(), bins=30) #marker='.', alpha=0.2, label='_nolegend_')\n",
    "plt.xlabel('observed ra - truth ra (mas)')\n",
    "plt.ylabel('observed dec - truth dec (mas)')\n",
    "plt.title('tract 4850 (both stars and galaxies)')\n",
    "plt.colorbar()"
   ]
  },
  {
   "cell_type": "code",
   "execution_count": 266,
   "metadata": {},
   "outputs": [
    {
     "data": {
      "image/png": "[encoded data removed]",
      "text/plain": [
       "<Figure size 432x288 with 1 Axes>"
      ]
     },
     "metadata": {
      "needs_background": "light"
     },
     "output_type": "display_data"
    }
   ],
   "source": [
    "import matplotlib as mpl\n",
    "\n",
    "#truth_colname = 'mag_true_Y_lsst' #%band\n",
    "truth_colname = 'star'\n",
    "observed_colname = 'extendedness'\n",
    "mask = ~np.logical_or(np.isnan(true_matched[truth_colname]), \n",
    "                                    np.isnan(observed_matched[observed_colname]))\n",
    "count, _, _, _ = plt.hist2d(true_matched[truth_colname].loc[mask].astype(int), np.logical_not(observed_matched[observed_colname].loc[mask]).astype(int),\n",
    "           norm=mpl.colors.LogNorm(), bins=2, cmap=plt.cm.get_cmap(\"gray\")) #marker='.', alpha=0.2, label='_nolegend_')\n",
    "plt.xlabel('truth')\n",
    "plt.ylabel('observed')\n",
    "plt.title('tract 4850 stars vs. galaxies')\n",
    "plt.xticks([0.25, 0.75], ('not star (galaxy)', 'star'))\n",
    "plt.yticks([0.25, 0.75], ('not star (galaxy)', 'star'))\n",
    "\n",
    "neg_x = 0.15 \n",
    "pos_x = 0.65\n",
    "plt.text(pos_x, 0.75, int(count[1, 1]), fontsize=16, color='white') # true positives\n",
    "plt.text(neg_x, 0.75, int(count[0, 1]), fontsize=16, color='white') # false positives\n",
    "plt.text(pos_x, 0.25, int(count[1, 0]), fontsize=16, color='white') # false negatives\n",
    "plt.text(neg_x, 0.25, int(count[0, 0]), fontsize=16) # true negatives\n",
    "#cbar = plt.colorbar()\n",
    "plt.clim(1000, 60000)\n",
    "#cbar.set_ticks([1.e3, 5.e3, 1.e4])\n",
    "#cbar.set_ticklabels(['1e3', '5e3', '1e4'])"
   ]
  },
  {
   "cell_type": "code",
   "execution_count": 254,
   "metadata": {},
   "outputs": [
    {
     "data": {
      "text/plain": [
       "array([[51248.,  4163.],\n",
       "       [ 1819., 13086.]])"
      ]
     },
     "execution_count": 254,
     "metadata": {},
     "output_type": "execute_result"
    }
   ],
   "source": [
    "count"
   ]
  },
  {
   "cell_type": "code",
   "execution_count": 62,
   "metadata": {},
   "outputs": [
    {
     "data": {
      "text/plain": [
       "Index(['index', 'size_minor_bulge_true', 'size_minor_disk_true', 'sersic_disk',\n",
       "       'sersic_bulge', 'dec_true', 'ellipticity_1_bulge_true',\n",
       "       'ellipticity_2_bulge_true', 'galaxy_id', 'mag_true_r_lsst', 'halo_mass',\n",
       "       'size_bulge_true', 'redshift_true', 'ellipticity_bulge_true',\n",
       "       'bulge_to_total_ratio_i', 'mag_true_g_lsst', 'size_disk_true',\n",
       "       'mag_true_z_lsst', 'mag_true_u_lsst', 'ellipticity_2_disk_true',\n",
       "       'ellipticity_1_disk_true', 'ra_true', 'ellipticity_disk_true',\n",
       "       'mag_true_i_lsst', 'mag_true_Y_lsst', 'ra', 'dec', 'sprinkled', 'star',\n",
       "       'r', 'agn', 'u', 'object_id', 'redshift', 'z', 'y', 'i', 'g'],\n",
       "      dtype='object')"
      ]
     },
     "execution_count": 62,
     "metadata": {},
     "output_type": "execute_result"
    }
   ],
   "source": [
    "true_matched.columns"
   ]
  },
  {
   "cell_type": "code",
   "execution_count": 190,
   "metadata": {},
   "outputs": [
    {
     "data": {
      "text/plain": [
       "<matplotlib.legend.Legend at 0x2aab85e605f8>"
      ]
     },
     "execution_count": 190,
     "metadata": {},
     "output_type": "execute_result"
    },
    {
     "data": {
      "image/png": "[encoded data removed]",
      "text/plain": [
       "<Figure size 432x288 with 1 Axes>"
      ]
     },
     "metadata": {
      "needs_background": "light"
     },
     "output_type": "display_data"
    }
   ],
   "source": [
    "### Selection\n",
    "\n",
    "band = 'y'\n",
    "extragal_colname = 'mag_true_%s_lsst' %band if band != 'y' else 'mag_true_Y_lsst'\n",
    "observed_colname = 'mag_%s' %band\n",
    "mask = ~np.logical_or(np.logical_or(np.isnan(true_matched[band]), \n",
    "                                    np.isnan(observed_matched[observed_colname])), \n",
    "                      true_matched['star']==True) # True if only galaxies, False if only stars\n",
    "\n",
    "plt.title('%s-band (galaxies only)' %band)\n",
    "_, binning, _ = plt.hist(true_matched[band].loc[mask], bins=30, color='tab:blue', edgecolor='k', alpha=0.5, label='total truth')\n",
    "_ = plt.hist(true_matched[extragal_colname].loc[mask], bins=binning, histtype='step', linewidth=2, color='k',  label='galaxy flux only')\n",
    "_ = plt.hist(observed_matched[observed_colname].loc[mask], bins=binning, color='tab:red', edgecolor='k', alpha=0.5, label='observed')\n",
    "plt.legend()"
   ]
  },
  {
   "cell_type": "code",
   "execution_count": 197,
   "metadata": {},
   "outputs": [
    {
     "data": {
      "text/html": [
       "<div>\n",
       "<style scoped>\n",
       "    .dataframe tbody tr th:only-of-type {\n",
       "        vertical-align: middle;\n",
       "    }\n",
       "\n",
       "    .dataframe tbody tr th {\n",
       "        vertical-align: top;\n",
       "    }\n",
       "\n",
       "    .dataframe thead th {\n",
       "        text-align: right;\n",
       "    }\n",
       "</style>\n",
       "<table border=\"1\" class=\"dataframe\">\n",
       "  <thead>\n",
       "    <tr style=\"text-align: right;\">\n",
       "      <th></th>\n",
       "      <th>ext_shapeHSM_HsmSourceMoments_yy</th>\n",
       "      <th>cModelFlux_g</th>\n",
       "      <th>y_ext_photometryKron_KronFlux_instFluxErr</th>\n",
       "      <th>r_ext_photometryKron_KronFlux_psf_radius</th>\n",
       "      <th>i_base_CircularApertureFlux_70_0_instFluxErr</th>\n",
       "      <th>Ixx_r</th>\n",
       "      <th>mag_y</th>\n",
       "      <th>ext_shapeHSM_HsmPsfMoments_flag</th>\n",
       "      <th>psFlux_flag_z</th>\n",
       "      <th>cModelFlux_flag_z</th>\n",
       "      <th>...</th>\n",
       "      <th>g_ext_photometryKron_KronFlux_instFlux</th>\n",
       "      <th>IyyPSF_u</th>\n",
       "      <th>z_base_CircularApertureFlux_70_0_instFluxErr</th>\n",
       "      <th>Ixy_i</th>\n",
       "      <th>m5_flux</th>\n",
       "      <th>PSF_sigma2</th>\n",
       "      <th>filtSkyBrightness_flux</th>\n",
       "      <th>airmass</th>\n",
       "      <th>dist2Moon</th>\n",
       "      <th>n_obs</th>\n",
       "    </tr>\n",
       "  </thead>\n",
       "  <tbody>\n",
       "    <tr>\n",
       "      <th>70350</th>\n",
       "      <td>1.981698</td>\n",
       "      <td>77834.596597</td>\n",
       "      <td>4.997546</td>\n",
       "      <td>1.732065</td>\n",
       "      <td>15.316016</td>\n",
       "      <td>1.932830</td>\n",
       "      <td>18.269019</td>\n",
       "      <td>False</td>\n",
       "      <td>False</td>\n",
       "      <td>False</td>\n",
       "      <td>...</td>\n",
       "      <td>1329.152908</td>\n",
       "      <td>4.019762</td>\n",
       "      <td>25.927414</td>\n",
       "      <td>0.001251</td>\n",
       "      <td>0.193696</td>\n",
       "      <td>0.148814</td>\n",
       "      <td>55.483727</td>\n",
       "      <td>1.181620</td>\n",
       "      <td>1.536177</td>\n",
       "      <td>156</td>\n",
       "    </tr>\n",
       "    <tr>\n",
       "      <th>70351</th>\n",
       "      <td>2.604483</td>\n",
       "      <td>389.067824</td>\n",
       "      <td>4.492593</td>\n",
       "      <td>1.725996</td>\n",
       "      <td>15.726083</td>\n",
       "      <td>1.794986</td>\n",
       "      <td>24.038080</td>\n",
       "      <td>False</td>\n",
       "      <td>False</td>\n",
       "      <td>False</td>\n",
       "      <td>...</td>\n",
       "      <td>4.881749</td>\n",
       "      <td>4.039411</td>\n",
       "      <td>26.152872</td>\n",
       "      <td>-0.066163</td>\n",
       "      <td>0.055248</td>\n",
       "      <td>0.111953</td>\n",
       "      <td>13.155760</td>\n",
       "      <td>1.173847</td>\n",
       "      <td>1.828445</td>\n",
       "      <td>22</td>\n",
       "    </tr>\n",
       "    <tr>\n",
       "      <th>70352</th>\n",
       "      <td>1.992678</td>\n",
       "      <td>36127.984656</td>\n",
       "      <td>4.512781</td>\n",
       "      <td>1.714234</td>\n",
       "      <td>15.138306</td>\n",
       "      <td>1.892408</td>\n",
       "      <td>19.431205</td>\n",
       "      <td>False</td>\n",
       "      <td>False</td>\n",
       "      <td>False</td>\n",
       "      <td>...</td>\n",
       "      <td>606.940277</td>\n",
       "      <td>3.870175</td>\n",
       "      <td>26.864600</td>\n",
       "      <td>0.000498</td>\n",
       "      <td>0.190693</td>\n",
       "      <td>0.139774</td>\n",
       "      <td>56.251129</td>\n",
       "      <td>1.181865</td>\n",
       "      <td>1.530772</td>\n",
       "      <td>146</td>\n",
       "    </tr>\n",
       "    <tr>\n",
       "      <th>70353</th>\n",
       "      <td>2.037555</td>\n",
       "      <td>9761.168193</td>\n",
       "      <td>4.564365</td>\n",
       "      <td>1.711827</td>\n",
       "      <td>14.346139</td>\n",
       "      <td>1.905767</td>\n",
       "      <td>21.133376</td>\n",
       "      <td>False</td>\n",
       "      <td>False</td>\n",
       "      <td>False</td>\n",
       "      <td>...</td>\n",
       "      <td>169.563538</td>\n",
       "      <td>3.967412</td>\n",
       "      <td>27.021863</td>\n",
       "      <td>0.005169</td>\n",
       "      <td>0.171735</td>\n",
       "      <td>0.138277</td>\n",
       "      <td>50.504147</td>\n",
       "      <td>1.167943</td>\n",
       "      <td>1.549168</td>\n",
       "      <td>181</td>\n",
       "    </tr>\n",
       "    <tr>\n",
       "      <th>70354</th>\n",
       "      <td>1.915405</td>\n",
       "      <td>323239.479048</td>\n",
       "      <td>5.014742</td>\n",
       "      <td>1.791124</td>\n",
       "      <td>15.513031</td>\n",
       "      <td>2.090397</td>\n",
       "      <td>17.208531</td>\n",
       "      <td>False</td>\n",
       "      <td>False</td>\n",
       "      <td>False</td>\n",
       "      <td>...</td>\n",
       "      <td>5574.643573</td>\n",
       "      <td>3.801338</td>\n",
       "      <td>29.741796</td>\n",
       "      <td>0.007203</td>\n",
       "      <td>0.195640</td>\n",
       "      <td>0.144467</td>\n",
       "      <td>56.309982</td>\n",
       "      <td>1.188271</td>\n",
       "      <td>1.549313</td>\n",
       "      <td>151</td>\n",
       "    </tr>\n",
       "  </tbody>\n",
       "</table>\n",
       "<p>5 rows × 170 columns</p>\n",
       "</div>"
      ],
      "text/plain": [
       "       ext_shapeHSM_HsmSourceMoments_yy   cModelFlux_g  \\\n",
       "70350                          1.981698   77834.596597   \n",
       "70351                          2.604483     389.067824   \n",
       "70352                          1.992678   36127.984656   \n",
       "70353                          2.037555    9761.168193   \n",
       "70354                          1.915405  323239.479048   \n",
       "\n",
       "       y_ext_photometryKron_KronFlux_instFluxErr  \\\n",
       "70350                                   4.997546   \n",
       "70351                                   4.492593   \n",
       "70352                                   4.512781   \n",
       "70353                                   4.564365   \n",
       "70354                                   5.014742   \n",
       "\n",
       "       r_ext_photometryKron_KronFlux_psf_radius  \\\n",
       "70350                                  1.732065   \n",
       "70351                                  1.725996   \n",
       "70352                                  1.714234   \n",
       "70353                                  1.711827   \n",
       "70354                                  1.791124   \n",
       "\n",
       "       i_base_CircularApertureFlux_70_0_instFluxErr     Ixx_r      mag_y  \\\n",
       "70350                                     15.316016  1.932830  18.269019   \n",
       "70351                                     15.726083  1.794986  24.038080   \n",
       "70352                                     15.138306  1.892408  19.431205   \n",
       "70353                                     14.346139  1.905767  21.133376   \n",
       "70354                                     15.513031  2.090397  17.208531   \n",
       "\n",
       "       ext_shapeHSM_HsmPsfMoments_flag  psFlux_flag_z  cModelFlux_flag_z  ...  \\\n",
       "70350                            False          False              False  ...   \n",
       "70351                            False          False              False  ...   \n",
       "70352                            False          False              False  ...   \n",
       "70353                            False          False              False  ...   \n",
       "70354                            False          False              False  ...   \n",
       "\n",
       "       g_ext_photometryKron_KronFlux_instFlux  IyyPSF_u  \\\n",
       "70350                             1329.152908  4.019762   \n",
       "70351                                4.881749  4.039411   \n",
       "70352                              606.940277  3.870175   \n",
       "70353                              169.563538  3.967412   \n",
       "70354                             5574.643573  3.801338   \n",
       "\n",
       "       z_base_CircularApertureFlux_70_0_instFluxErr     Ixy_i   m5_flux  \\\n",
       "70350                                     25.927414  0.001251  0.193696   \n",
       "70351                                     26.152872 -0.066163  0.055248   \n",
       "70352                                     26.864600  0.000498  0.190693   \n",
       "70353                                     27.021863  0.005169  0.171735   \n",
       "70354                                     29.741796  0.007203  0.195640   \n",
       "\n",
       "       PSF_sigma2  filtSkyBrightness_flux   airmass  dist2Moon  n_obs  \n",
       "70350    0.148814               55.483727  1.181620   1.536177    156  \n",
       "70351    0.111953               13.155760  1.173847   1.828445     22  \n",
       "70352    0.139774               56.251129  1.181865   1.530772    146  \n",
       "70353    0.138277               50.504147  1.167943   1.549168    181  \n",
       "70354    0.144467               56.309982  1.188271   1.549313    151  \n",
       "\n",
       "[5 rows x 170 columns]"
      ]
     },
     "execution_count": 197,
     "metadata": {},
     "output_type": "execute_result"
    }
   ],
   "source": [
    "observed_matched.tail()"
   ]
  },
  {
   "cell_type": "code",
   "execution_count": 198,
   "metadata": {},
   "outputs": [],
   "source": [
    "obj_master = pd.merge(observed_matched, true_matched, left_index=True, right_index=True, suffixes=('_obs', '_truth'))\n",
    "obj_master.to_csv('raw_data/obj_master.csv', index=None)"
   ]
  },
  {
   "cell_type": "markdown",
   "metadata": {},
   "source": [
    "### Match using Astropy"
   ]
  },
  {
   "cell_type": "code",
   "execution_count": 34,
   "metadata": {},
   "outputs": [],
   "source": [
    "truth_skyCoord = SkyCoord(truth_combined['ra'].values, truth_combined['dec'].values, unit=(u.deg, u.deg))\n",
    "\n",
    "obj = pd.read_csv('raw_data/obj_opsim.csv', index_col=None)\n",
    "obj_skyCoord = SkyCoord(obj['ra'].values, obj['dec'].values, unit=(u.deg, u.deg))"
   ]
  },
  {
   "cell_type": "code",
   "execution_count": 38,
   "metadata": {},
   "outputs": [],
   "source": [
    "# Use astropy matching as in:\n",
    "# https://github.com/LSSTDESC/DC2-production/blob/881125e14ff0cd5c4ea35b7725273369167cf98a/scripts/merge_source_cat.py#L292\n",
    "\n",
    "matching_radius = 1.0 * u.arcsec\n",
    "idx, sep2d, _ = matching.match_coordinates_sky(obj_skyCoord, truth_skyCoord)"
   ]
  },
  {
   "cell_type": "code",
   "execution_count": 39,
   "metadata": {},
   "outputs": [],
   "source": [
    "def assign_truth_id(idx, sep2d, truth, matching_radius):\n",
    "    is_fail = sep2d > matching_radius\n",
    "    matched_truth = truth.iloc[idx]['object_id'].values.astype(int)\n",
    "    matched_truth[is_fail] = -1\n",
    "    return matched_truth\n",
    "\n",
    "truth_ids = assign_truth_id(idx, sep2d, truth_combined, matching_radius)"
   ]
  },
  {
   "cell_type": "code",
   "execution_count": 41,
   "metadata": {},
   "outputs": [],
   "source": [
    "obj['truth_id'] = truth_ids"
   ]
  },
  {
   "cell_type": "code",
   "execution_count": 49,
   "metadata": {},
   "outputs": [
    {
     "data": {
      "text/plain": [
       "(85049,)"
      ]
     },
     "execution_count": 49,
     "metadata": {},
     "output_type": "execute_result"
    }
   ],
   "source": [
    "# This many objects had a truth match\n",
    "print(truth_ids[truth_ids>0].shape)"
   ]
  },
  {
   "cell_type": "code",
   "execution_count": 80,
   "metadata": {},
   "outputs": [],
   "source": [
    "obj_master = obj.merge(truth_combined, how='inner', left_on='truth_id', right_on='object_id', suffixes=('_obs', '_truth'))\n",
    "obj_master.to_csv('raw_data/obj_master.csv', index=None)"
   ]
  },
  {
   "cell_type": "code",
   "execution_count": 82,
   "metadata": {},
   "outputs": [
    {
     "data": {
      "text/plain": [
       "['Ixx',\n",
       " 'IxxPSF',\n",
       " 'IxxPSF_g',\n",
       " 'IxxPSF_i',\n",
       " 'IxxPSF_r',\n",
       " 'IxxPSF_u',\n",
       " 'IxxPSF_y',\n",
       " 'IxxPSF_z',\n",
       " 'Ixx_g',\n",
       " 'Ixx_i',\n",
       " 'Ixx_r',\n",
       " 'Ixx_u',\n",
       " 'Ixx_y',\n",
       " 'Ixx_z',\n",
       " 'Ixy',\n",
       " 'IxyPSF',\n",
       " 'IxyPSF_g',\n",
       " 'IxyPSF_i',\n",
       " 'IxyPSF_r',\n",
       " 'IxyPSF_u',\n",
       " 'IxyPSF_y',\n",
       " 'IxyPSF_z',\n",
       " 'Ixy_g',\n",
       " 'Ixy_i',\n",
       " 'Ixy_r',\n",
       " 'Ixy_u',\n",
       " 'Ixy_y',\n",
       " 'Ixy_z',\n",
       " 'Iyy',\n",
       " 'IyyPSF',\n",
       " 'IyyPSF_g',\n",
       " 'IyyPSF_i',\n",
       " 'IyyPSF_r',\n",
       " 'IyyPSF_u',\n",
       " 'IyyPSF_y',\n",
       " 'IyyPSF_z',\n",
       " 'Iyy_g',\n",
       " 'Iyy_i',\n",
       " 'Iyy_r',\n",
       " 'Iyy_u',\n",
       " 'Iyy_y',\n",
       " 'Iyy_z',\n",
       " 'PSF_sigma2',\n",
       " 'agn',\n",
       " 'airmass',\n",
       " 'bulge_to_total_ratio_i',\n",
       " 'cModelFluxErr_g',\n",
       " 'cModelFluxErr_i',\n",
       " 'cModelFluxErr_r',\n",
       " 'cModelFluxErr_u',\n",
       " 'cModelFluxErr_y',\n",
       " 'cModelFluxErr_z',\n",
       " 'cModelFlux_flag_g',\n",
       " 'cModelFlux_flag_i',\n",
       " 'cModelFlux_flag_r',\n",
       " 'cModelFlux_flag_u',\n",
       " 'cModelFlux_flag_y',\n",
       " 'cModelFlux_flag_z',\n",
       " 'cModelFlux_g',\n",
       " 'cModelFlux_i',\n",
       " 'cModelFlux_r',\n",
       " 'cModelFlux_u',\n",
       " 'cModelFlux_y',\n",
       " 'cModelFlux_z',\n",
       " 'dec_obs',\n",
       " 'dec_true',\n",
       " 'dec_truth',\n",
       " 'dist2Moon',\n",
       " 'ellipticity_1_bulge_true',\n",
       " 'ellipticity_1_disk_true',\n",
       " 'ellipticity_2_bulge_true',\n",
       " 'ellipticity_2_disk_true',\n",
       " 'ellipticity_bulge_true',\n",
       " 'ellipticity_disk_true',\n",
       " 'ext_shapeHSM_HsmPsfMoments_flag',\n",
       " 'ext_shapeHSM_HsmPsfMoments_xx',\n",
       " 'ext_shapeHSM_HsmPsfMoments_xy',\n",
       " 'ext_shapeHSM_HsmPsfMoments_yy',\n",
       " 'ext_shapeHSM_HsmSourceMoments_flag',\n",
       " 'ext_shapeHSM_HsmSourceMoments_xx',\n",
       " 'ext_shapeHSM_HsmSourceMoments_xy',\n",
       " 'ext_shapeHSM_HsmSourceMoments_yy',\n",
       " 'extendedness',\n",
       " 'filtSkyBrightness_flux',\n",
       " 'g',\n",
       " 'g_base_CircularApertureFlux_70_0_instFlux',\n",
       " 'g_base_CircularApertureFlux_70_0_instFluxErr',\n",
       " 'g_coord_dec',\n",
       " 'g_coord_ra',\n",
       " 'g_ext_photometryKron_KronFlux_flag',\n",
       " 'g_ext_photometryKron_KronFlux_instFlux',\n",
       " 'g_ext_photometryKron_KronFlux_instFluxErr',\n",
       " 'g_ext_photometryKron_KronFlux_psf_radius',\n",
       " 'g_ext_photometryKron_KronFlux_radius',\n",
       " 'galaxy_id',\n",
       " 'halo_mass',\n",
       " 'i',\n",
       " 'i_base_CircularApertureFlux_70_0_instFlux',\n",
       " 'i_base_CircularApertureFlux_70_0_instFluxErr',\n",
       " 'i_coord_dec',\n",
       " 'i_coord_ra',\n",
       " 'i_ext_photometryKron_KronFlux_flag',\n",
       " 'i_ext_photometryKron_KronFlux_instFlux',\n",
       " 'i_ext_photometryKron_KronFlux_instFluxErr',\n",
       " 'i_ext_photometryKron_KronFlux_psf_radius',\n",
       " 'i_ext_photometryKron_KronFlux_radius',\n",
       " 'm5_flux',\n",
       " 'mag_g',\n",
       " 'mag_i',\n",
       " 'mag_r',\n",
       " 'mag_true_Y_lsst',\n",
       " 'mag_true_g_lsst',\n",
       " 'mag_true_i_lsst',\n",
       " 'mag_true_r_lsst',\n",
       " 'mag_true_u_lsst',\n",
       " 'mag_true_z_lsst',\n",
       " 'mag_u',\n",
       " 'mag_y',\n",
       " 'mag_z',\n",
       " 'magerr_g',\n",
       " 'magerr_i',\n",
       " 'magerr_r',\n",
       " 'magerr_u',\n",
       " 'magerr_y',\n",
       " 'magerr_z',\n",
       " 'objectId',\n",
       " 'object_id',\n",
       " 'parentObjectId',\n",
       " 'patch',\n",
       " 'psFluxErr_g',\n",
       " 'psFluxErr_i',\n",
       " 'psFluxErr_r',\n",
       " 'psFluxErr_u',\n",
       " 'psFluxErr_y',\n",
       " 'psFluxErr_z',\n",
       " 'psFlux_flag_g',\n",
       " 'psFlux_flag_i',\n",
       " 'psFlux_flag_r',\n",
       " 'psFlux_flag_u',\n",
       " 'psFlux_flag_y',\n",
       " 'psFlux_flag_z',\n",
       " 'psFlux_g',\n",
       " 'psFlux_i',\n",
       " 'psFlux_r',\n",
       " 'psFlux_u',\n",
       " 'psFlux_y',\n",
       " 'psFlux_z',\n",
       " 'r',\n",
       " 'r_base_CircularApertureFlux_70_0_instFlux',\n",
       " 'r_base_CircularApertureFlux_70_0_instFluxErr',\n",
       " 'r_coord_dec',\n",
       " 'r_coord_ra',\n",
       " 'r_ext_photometryKron_KronFlux_flag',\n",
       " 'r_ext_photometryKron_KronFlux_instFlux',\n",
       " 'r_ext_photometryKron_KronFlux_instFluxErr',\n",
       " 'r_ext_photometryKron_KronFlux_psf_radius',\n",
       " 'r_ext_photometryKron_KronFlux_radius',\n",
       " 'ra_obs',\n",
       " 'ra_true',\n",
       " 'ra_truth',\n",
       " 'redshift',\n",
       " 'redshift_true',\n",
       " 'sersic_bulge',\n",
       " 'sersic_disk',\n",
       " 'size_bulge_true',\n",
       " 'size_disk_true',\n",
       " 'size_minor_bulge_true',\n",
       " 'size_minor_disk_true',\n",
       " 'sprinkled',\n",
       " 'star',\n",
       " 'tract',\n",
       " 'truth_id',\n",
       " 'u',\n",
       " 'u_base_CircularApertureFlux_70_0_instFlux',\n",
       " 'u_base_CircularApertureFlux_70_0_instFluxErr',\n",
       " 'u_coord_dec',\n",
       " 'u_coord_ra',\n",
       " 'u_ext_photometryKron_KronFlux_flag',\n",
       " 'u_ext_photometryKron_KronFlux_instFlux',\n",
       " 'u_ext_photometryKron_KronFlux_instFluxErr',\n",
       " 'u_ext_photometryKron_KronFlux_psf_radius',\n",
       " 'u_ext_photometryKron_KronFlux_radius',\n",
       " 'x',\n",
       " 'xErr',\n",
       " 'xy_flag',\n",
       " 'yErr',\n",
       " 'y_base_CircularApertureFlux_70_0_instFlux',\n",
       " 'y_base_CircularApertureFlux_70_0_instFluxErr',\n",
       " 'y_coord_dec',\n",
       " 'y_coord_ra',\n",
       " 'y_ext_photometryKron_KronFlux_flag',\n",
       " 'y_ext_photometryKron_KronFlux_instFlux',\n",
       " 'y_ext_photometryKron_KronFlux_instFluxErr',\n",
       " 'y_ext_photometryKron_KronFlux_psf_radius',\n",
       " 'y_ext_photometryKron_KronFlux_radius',\n",
       " 'y_obs',\n",
       " 'y_truth',\n",
       " 'z',\n",
       " 'z_base_CircularApertureFlux_70_0_instFlux',\n",
       " 'z_base_CircularApertureFlux_70_0_instFluxErr',\n",
       " 'z_coord_dec',\n",
       " 'z_coord_ra',\n",
       " 'z_ext_photometryKron_KronFlux_flag',\n",
       " 'z_ext_photometryKron_KronFlux_instFlux',\n",
       " 'z_ext_photometryKron_KronFlux_instFluxErr',\n",
       " 'z_ext_photometryKron_KronFlux_psf_radius',\n",
       " 'z_ext_photometryKron_KronFlux_radius']"
      ]
     },
     "execution_count": 82,
     "metadata": {},
     "output_type": "execute_result"
    }
   ],
   "source": [
    "sorted(obj_master.columns.values)"
   ]
  },
  {
   "cell_type": "markdown",
   "metadata": {},
   "source": [
    "### Match to Source"
   ]
  },
  {
   "cell_type": "code",
   "execution_count": null,
   "metadata": {},
   "outputs": [],
   "source": []
  }
 ],
 "metadata": {
  "kernelspec": {
   "display_name": "desc-stack",
   "language": "python",
   "name": "desc-stack"
  },
  "language_info": {
   "codemirror_mode": {
    "name": "ipython",
    "version": 3
   },
   "file_extension": ".py",
   "mimetype": "text/x-python",
   "name": "python",
   "nbconvert_exporter": "python",
   "pygments_lexer": "ipython3",
   "version": "3.7.3"
  }
 },
 "nbformat": 4,
 "nbformat_minor": 2
}
