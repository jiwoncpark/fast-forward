{
 "cells": [
  {
   "cell_type": "code",
   "execution_count": 1,
   "metadata": {},
   "outputs": [],
   "source": [
    "import torch\n",
    "from torch import nn\n",
    "from torch.nn import functional as F\n",
    "from torch import optim\n",
    "from torch.autograd import Variable\n",
    "\n",
    "import numpy as np\n",
    "\n",
    "np.random.seed(0)\n",
    "torch.manual_seed(0)\n",
    "torch.cuda.manual_seed(0)"
   ]
  },
  {
   "cell_type": "code",
   "execution_count": 2,
   "metadata": {},
   "outputs": [],
   "source": [
    "import pandas as pd"
   ]
  },
  {
   "cell_type": "code",
   "execution_count": 3,
   "metadata": {},
   "outputs": [],
   "source": [
    "device = torch.device('cuda' if torch.cuda.is_available() else 'cpu')"
   ]
  },
  {
   "cell_type": "code",
   "execution_count": 4,
   "metadata": {},
   "outputs": [],
   "source": [
    "X = pd.read_csv(\"processed_X.csv\")\n",
    "Y = pd.read_csv(\"processed_y.csv\")\n",
    "X = X.values\n",
    "Y = Y.values"
   ]
  },
  {
   "cell_type": "code",
   "execution_count": 42,
   "metadata": {},
   "outputs": [
    {
     "data": {
      "text/html": [
       "<div>\n",
       "<style scoped>\n",
       "    .dataframe tbody tr th:only-of-type {\n",
       "        vertical-align: middle;\n",
       "    }\n",
       "\n",
       "    .dataframe tbody tr th {\n",
       "        vertical-align: top;\n",
       "    }\n",
       "\n",
       "    .dataframe thead th {\n",
       "        text-align: right;\n",
       "    }\n",
       "</style>\n",
       "<table border=\"1\" class=\"dataframe\">\n",
       "  <thead>\n",
       "    <tr style=\"text-align: right;\">\n",
       "      <th></th>\n",
       "      <th>dec</th>\n",
       "      <th>mag_g_cModel</th>\n",
       "      <th>mag_i_cModel</th>\n",
       "      <th>mag_r_cModel</th>\n",
       "      <th>mag_u_cModel</th>\n",
       "      <th>mag_y_cModel</th>\n",
       "      <th>mag_z_cModel</th>\n",
       "      <th>ra</th>\n",
       "    </tr>\n",
       "  </thead>\n",
       "  <tbody>\n",
       "    <tr>\n",
       "      <th>0</th>\n",
       "      <td>-0.959034</td>\n",
       "      <td>21.154710</td>\n",
       "      <td>19.056532</td>\n",
       "      <td>19.878065</td>\n",
       "      <td>23.599563</td>\n",
       "      <td>18.503124</td>\n",
       "      <td>18.661071</td>\n",
       "      <td>0.558005</td>\n",
       "    </tr>\n",
       "    <tr>\n",
       "      <th>1</th>\n",
       "      <td>-0.982055</td>\n",
       "      <td>18.760579</td>\n",
       "      <td>18.310800</td>\n",
       "      <td>18.446432</td>\n",
       "      <td>19.522369</td>\n",
       "      <td>18.380269</td>\n",
       "      <td>18.360969</td>\n",
       "      <td>0.464623</td>\n",
       "    </tr>\n",
       "    <tr>\n",
       "      <th>2</th>\n",
       "      <td>-0.921633</td>\n",
       "      <td>19.004927</td>\n",
       "      <td>17.967081</td>\n",
       "      <td>18.276592</td>\n",
       "      <td>20.572399</td>\n",
       "      <td>17.880807</td>\n",
       "      <td>17.932000</td>\n",
       "      <td>0.511996</td>\n",
       "    </tr>\n",
       "    <tr>\n",
       "      <th>3</th>\n",
       "      <td>-0.934786</td>\n",
       "      <td>24.266442</td>\n",
       "      <td>23.227235</td>\n",
       "      <td>23.430787</td>\n",
       "      <td>24.469184</td>\n",
       "      <td>23.565338</td>\n",
       "      <td>23.426335</td>\n",
       "      <td>0.519361</td>\n",
       "    </tr>\n",
       "    <tr>\n",
       "      <th>4</th>\n",
       "      <td>-0.972960</td>\n",
       "      <td>25.515661</td>\n",
       "      <td>24.374023</td>\n",
       "      <td>25.081538</td>\n",
       "      <td>25.618477</td>\n",
       "      <td>24.728155</td>\n",
       "      <td>25.318398</td>\n",
       "      <td>0.506802</td>\n",
       "    </tr>\n",
       "  </tbody>\n",
       "</table>\n",
       "</div>"
      ],
      "text/plain": [
       "        dec  mag_g_cModel  mag_i_cModel  mag_r_cModel  mag_u_cModel  \\\n",
       "0 -0.959034     21.154710     19.056532     19.878065     23.599563   \n",
       "1 -0.982055     18.760579     18.310800     18.446432     19.522369   \n",
       "2 -0.921633     19.004927     17.967081     18.276592     20.572399   \n",
       "3 -0.934786     24.266442     23.227235     23.430787     24.469184   \n",
       "4 -0.972960     25.515661     24.374023     25.081538     25.618477   \n",
       "\n",
       "   mag_y_cModel  mag_z_cModel        ra  \n",
       "0     18.503124     18.661071  0.558005  \n",
       "1     18.380269     18.360969  0.464623  \n",
       "2     17.880807     17.932000  0.511996  \n",
       "3     23.565338     23.426335  0.519361  \n",
       "4     24.728155     25.318398  0.506802  "
      ]
     },
     "execution_count": 42,
     "metadata": {},
     "output_type": "execute_result"
    }
   ],
   "source": [
    "pd.read_csv(\"processed_y.csv\").head()"
   ]
  },
  {
   "cell_type": "code",
   "execution_count": 5,
   "metadata": {},
   "outputs": [],
   "source": [
    "class ConcreteDropout(nn.Module):\n",
    "    def __init__(self, weight_regularizer=1e-6,\n",
    "                 dropout_regularizer=1e-5, init_min=0.1, init_max=0.1):\n",
    "        super(ConcreteDropout, self).__init__()\n",
    "\n",
    "        \n",
    "        self.weight_regularizer = weight_regularizer\n",
    "        self.dropout_regularizer = dropout_regularizer\n",
    "        \n",
    "        init_min = np.log(init_min) - np.log(1. - init_min)\n",
    "        init_max = np.log(init_max) - np.log(1. - init_max)\n",
    "        \n",
    "        self.p_logit = nn.Parameter(torch.empty(1).uniform_(init_min, init_max))\n",
    "        \n",
    "    def forward(self, x, layer):\n",
    "        p = torch.sigmoid(self.p_logit)\n",
    "        \n",
    "        out = layer(self._concrete_dropout(x, p))\n",
    "        \n",
    "        sum_of_square = 0\n",
    "        for param in layer.parameters():\n",
    "            sum_of_square += torch.sum(torch.pow(param, 2))\n",
    "        \n",
    "        weights_regularizer = self.weight_regularizer * sum_of_square / (1 - p)\n",
    "        \n",
    "        dropout_regularizer = p * torch.log(p)\n",
    "        dropout_regularizer += (1. - p) * torch.log(1. - p)\n",
    "        \n",
    "        input_dimensionality = x[0].numel() # Number of elements of first item in batch\n",
    "        dropout_regularizer *= self.dropout_regularizer * input_dimensionality\n",
    "        \n",
    "        regularization = weights_regularizer + dropout_regularizer\n",
    "        return out, regularization\n",
    "        \n",
    "    def _concrete_dropout(self, x, p):\n",
    "        eps = 1e-7\n",
    "        temp = 0.1\n",
    "\n",
    "        unif_noise = torch.rand_like(x)\n",
    "\n",
    "        drop_prob = (torch.log(p + eps)\n",
    "                    - torch.log(1 - p + eps)\n",
    "                    + torch.log(unif_noise + eps)\n",
    "                    - torch.log(1 - unif_noise + eps))\n",
    "        \n",
    "        drop_prob = torch.sigmoid(drop_prob / temp)\n",
    "        random_tensor = 1 - drop_prob\n",
    "        retain_prob = 1 - p\n",
    "        \n",
    "        x  = torch.mul(x, random_tensor)\n",
    "        x /= retain_prob\n",
    "        \n",
    "        return x"
   ]
  },
  {
   "cell_type": "code",
   "execution_count": 6,
   "metadata": {},
   "outputs": [],
   "source": [
    "class Model(nn.Module):\n",
    "    def __init__(self, nb_features, weight_regularizer, dropout_regularizer):\n",
    "        super(Model, self).__init__()\n",
    "        self.linear1 = nn.Linear(12, nb_features)\n",
    "        self.linear2 = nn.Linear(nb_features, nb_features)\n",
    "        self.linear3 = nn.Linear(nb_features, nb_features)\n",
    "\n",
    "        self.linear4_mu = nn.Linear(nb_features, 8)\n",
    "        self.linear4_logvar = nn.Linear(nb_features, 8)\n",
    "\n",
    "        self.conc_drop1 = ConcreteDropout(weight_regularizer=weight_regularizer,\n",
    "                                          dropout_regularizer=dropout_regularizer)\n",
    "        self.conc_drop2 = ConcreteDropout(weight_regularizer=weight_regularizer,\n",
    "                                          dropout_regularizer=dropout_regularizer)\n",
    "        self.conc_drop3 = ConcreteDropout(weight_regularizer=weight_regularizer,\n",
    "                                          dropout_regularizer=dropout_regularizer)\n",
    "        self.conc_drop_mu = ConcreteDropout(weight_regularizer=weight_regularizer,\n",
    "                                             dropout_regularizer=dropout_regularizer)\n",
    "        self.conc_drop_logvar = ConcreteDropout(weight_regularizer=weight_regularizer,\n",
    "                                                 dropout_regularizer=dropout_regularizer)\n",
    "        \n",
    "        self.relu = nn.ReLU()\n",
    "        \n",
    "    def forward(self, x):\n",
    "        regularization = torch.empty(5, device=x.device)\n",
    "        \n",
    "        x1, regularization[0] = self.conc_drop1(x, nn.Sequential(self.linear1, self.relu))\n",
    "        x2, regularization[1] = self.conc_drop2(x1, nn.Sequential(self.linear2, self.relu))\n",
    "        x3, regularization[2] = self.conc_drop3(x2, nn.Sequential(self.linear3, self.relu))\n",
    "\n",
    "        mean, regularization[3] = self.conc_drop_mu(x3, self.linear4_mu)\n",
    "        log_var, regularization[4] = self.conc_drop_logvar(x3, self.linear4_logvar)\n",
    "\n",
    "        return mean, log_var, regularization.sum()\n",
    "\n",
    "def heteroscedastic_loss(true, mean, log_var):\n",
    "    precision = torch.exp(-log_var)\n",
    "    return torch.mean(torch.sum(precision * (true - mean)**2 + log_var, 1), 0)"
   ]
  },
  {
   "cell_type": "code",
   "execution_count": 7,
   "metadata": {},
   "outputs": [],
   "source": [
    "N = 10262 # Number of data points\n",
    "nb_epoch = 20\n",
    "nb_val_size = 1283 # Validation size\n",
    "nb_features = 1024 # Hidden layer size\n",
    "Q = 12 # Data dimensionality\n",
    "D = 8 # One mean, one log_var\n",
    "K_test = 20 # Number of MC samples\n",
    "nb_reps = 3 # Number of times to repeat experiment\n",
    "batch_size = 20\n",
    "l = 1e-4 # Lengthscale"
   ]
  },
  {
   "cell_type": "code",
   "execution_count": 8,
   "metadata": {},
   "outputs": [],
   "source": [
    "def fit_model(nb_epoch, X, Y):\n",
    "    N = X.shape[0]\n",
    "    wr = l**2. / N\n",
    "    dr = 2. / N\n",
    "    model = Model(nb_features, wr, dr)\n",
    "    model = model.to(device)\n",
    "    optimizer = optim.Adam(model.parameters())\n",
    "    \n",
    "    for i in range(nb_epoch):\n",
    "        old_batch = 0\n",
    "        for batch in range(int(np.ceil(X.shape[0]/batch_size))):\n",
    "            batch = (batch + 1)\n",
    "            _x = X[old_batch: batch_size*batch]\n",
    "            _y = Y[old_batch: batch_size*batch]\n",
    "            \n",
    "            x = Variable(torch.FloatTensor(_x)).to(device)\n",
    "            y = Variable(torch.FloatTensor(_y)).to(device)\n",
    "            \n",
    "            mean, log_var, regularization = model(x)\n",
    "                        \n",
    "            loss = heteroscedastic_loss(y, mean, log_var) + regularization\n",
    "             \n",
    "            optimizer.zero_grad()\n",
    "            loss.backward()\n",
    "            optimizer.step()\n",
    "            \n",
    "    return model"
   ]
  },
  {
   "cell_type": "code",
   "execution_count": 9,
   "metadata": {},
   "outputs": [],
   "source": [
    "def logsumexp(a):\n",
    "    a_max = a.max(axis=0)\n",
    "    return np.log(np.sum(np.exp(a - a_max), axis=0)) + a_max\n",
    "\n",
    "def test(Y_true, K_test, means, logvar):\n",
    "    \"\"\"\n",
    "    Estimate predictive log likelihood:\n",
    "    log p(y|x, D) = log int p(y|x, w) p(w|D) dw\n",
    "                 ~= log int p(y|x, w) q(w) dw\n",
    "                 ~= log 1/K sum p(y|x, w_k) with w_k sim q(w)\n",
    "                  = LogSumExp log p(y|x, w_k) - log K\n",
    "    :Y_true: a 2D array of size N x dim\n",
    "    :MC_samples: a 3D array of size samples K x N x 2*D\n",
    "    \"\"\"\n",
    "    k = K_test\n",
    "    N = Y_true.shape[0]\n",
    "    mean = means \n",
    "    logvar = logvar\n",
    "    test_ll = -0.5 * np.exp(-logvar) * (mean - Y_val.squeeze())**2. - 0.5 * logvar - 0.5 * np.log(2 * np.pi) #Y_true[None]\n",
    "    test_ll = np.sum(np.sum(test_ll, -1), -1)\n",
    "    test_ll = logsumexp(test_ll) - np.log(k)\n",
    "    pppp = test_ll / N  # per point predictive probability\n",
    "    rmse = np.mean((np.mean(mean, 0) - Y_val.squeeze())**2.)**0.5\n",
    "    return pppp, rmse"
   ]
  },
  {
   "cell_type": "code",
   "execution_count": 31,
   "metadata": {},
   "outputs": [
    {
     "data": {
      "text/plain": [
       "(array([  96,   80,  445, ..., 1735, 1742, 1780]),\n",
       " (2566, 12),\n",
       " (2566, 8),\n",
       " (20, 2566, 8))"
      ]
     },
     "execution_count": 31,
     "metadata": {},
     "output_type": "execute_result"
    }
   ],
   "source": [
    "np.argsort(X_val[:, 0]), X_val.shape, np.mean(means, 0).shape, means.shape"
   ]
  },
  {
   "cell_type": "code",
   "execution_count": 38,
   "metadata": {},
   "outputs": [],
   "source": [
    "def plot(X_train, Y_train, X_val, Y_val, means, param):\n",
    "    # means ~ [K_test, data_size, num_params]\n",
    "    # Number of repeated sampling\n",
    "    K_test = means.shape[0]\n",
    "    indx = np.argsort(X_val[:, param]) # plt.plot requires x-ordered points\n",
    "    _, (ax1, ax2, ax3, ax4) = pylab.subplots(1, 4,figsize=(12, 1.5), sharex=True, sharey=True)\n",
    "    # 1. Show just the train set\n",
    "    ax1.scatter(X_train[:, param], Y_train[:, param], c='y')\n",
    "    ax1.set_title('Train set')\n",
    "    # 1 overlaid with 2. Show predicted means (averaged across samples) for validation set\n",
    "    ax2.plot(X_val[indx, param], np.mean(means, 0)[indx, param], color='skyblue', lw=3)\n",
    "    ax2.scatter(X_train[:, param], Y_train[:, 0], c='y')\n",
    "    ax2.set_title('+Predictive mean')\n",
    "    # 2 overlaid with 3. All predicted means across samples (not averaged) for validation set\n",
    "    for i in range(K_test):\n",
    "        ax3.scatter(X_val[:, param], means[i, :, param], c='b', alpha=0.2, lw=0)\n",
    "    ax3.plot(X_val[indx, param], np.mean(means, 0)[indx, param], color='skyblue', lw=3)\n",
    "    ax3.set_title('+MC samples on validation X')\n",
    "    # Just the validation set\n",
    "    ax4.scatter(X_val[:, param], Y_val[:, param], c='r', alpha=0.2, lw=0)\n",
    "    ax4.set_title('Validation set')\n",
    "    \n",
    "    pylab.show()"
   ]
  },
  {
   "cell_type": "code",
   "execution_count": 11,
   "metadata": {},
   "outputs": [],
   "source": [
    "#X, Y = gen_data(N + nb_val_size)\n",
    "X_train, Y_train = X[:N], Y[:N]\n",
    "X_val, Y_val = X[N:], Y[N:]"
   ]
  },
  {
   "cell_type": "code",
   "execution_count": 12,
   "metadata": {},
   "outputs": [
    {
     "data": {
      "text/plain": [
       "Model(\n",
       "  (linear1): Linear(in_features=12, out_features=1024, bias=True)\n",
       "  (linear2): Linear(in_features=1024, out_features=1024, bias=True)\n",
       "  (linear3): Linear(in_features=1024, out_features=1024, bias=True)\n",
       "  (linear4_mu): Linear(in_features=1024, out_features=8, bias=True)\n",
       "  (linear4_logvar): Linear(in_features=1024, out_features=8, bias=True)\n",
       "  (conc_drop1): ConcreteDropout()\n",
       "  (conc_drop2): ConcreteDropout()\n",
       "  (conc_drop3): ConcreteDropout()\n",
       "  (conc_drop_mu): ConcreteDropout()\n",
       "  (conc_drop_logvar): ConcreteDropout()\n",
       "  (relu): ReLU()\n",
       ")"
      ]
     },
     "execution_count": 12,
     "metadata": {},
     "output_type": "execute_result"
    }
   ],
   "source": [
    "model = fit_model(nb_epoch, X_train, Y_train)\n",
    "model.eval()"
   ]
  },
  {
   "cell_type": "code",
   "execution_count": 13,
   "metadata": {},
   "outputs": [
    {
     "ename": "RuntimeError",
     "evalue": "invalid argument 2: size '[20 x 2566]' is invalid for input with 410560 elements at /opt/conda/conda-bld/pytorch_1533672544752/work/aten/src/TH/THStorage.cpp:84",
     "output_type": "error",
     "traceback": [
      "\u001b[0;31m---------------------------------------------------------------------------\u001b[0m",
      "\u001b[0;31mRuntimeError\u001b[0m                              Traceback (most recent call last)",
      "\u001b[0;32m<ipython-input-13-f2233b5e60a1>\u001b[0m in \u001b[0;36m<module>\u001b[0;34m\u001b[0m\n\u001b[1;32m      1\u001b[0m \u001b[0mMC_samples\u001b[0m \u001b[0;34m=\u001b[0m \u001b[0;34m[\u001b[0m\u001b[0mmodel\u001b[0m\u001b[0;34m(\u001b[0m\u001b[0mVariable\u001b[0m\u001b[0;34m(\u001b[0m\u001b[0mtorch\u001b[0m\u001b[0;34m.\u001b[0m\u001b[0mFloatTensor\u001b[0m\u001b[0;34m(\u001b[0m\u001b[0mX_val\u001b[0m\u001b[0;34m)\u001b[0m\u001b[0;34m)\u001b[0m\u001b[0;34m.\u001b[0m\u001b[0mto\u001b[0m\u001b[0;34m(\u001b[0m\u001b[0mdevice\u001b[0m\u001b[0;34m)\u001b[0m\u001b[0;34m)\u001b[0m \u001b[0;32mfor\u001b[0m \u001b[0m_\u001b[0m \u001b[0;32min\u001b[0m \u001b[0mrange\u001b[0m\u001b[0;34m(\u001b[0m\u001b[0mK_test\u001b[0m\u001b[0;34m)\u001b[0m\u001b[0;34m]\u001b[0m\u001b[0;34m\u001b[0m\u001b[0;34m\u001b[0m\u001b[0m\n\u001b[0;32m----> 2\u001b[0;31m \u001b[0mmeans\u001b[0m \u001b[0;34m=\u001b[0m \u001b[0mtorch\u001b[0m\u001b[0;34m.\u001b[0m\u001b[0mstack\u001b[0m\u001b[0;34m(\u001b[0m\u001b[0;34m[\u001b[0m\u001b[0mtup\u001b[0m\u001b[0;34m[\u001b[0m\u001b[0;36m0\u001b[0m\u001b[0;34m]\u001b[0m \u001b[0;32mfor\u001b[0m \u001b[0mtup\u001b[0m \u001b[0;32min\u001b[0m \u001b[0mMC_samples\u001b[0m\u001b[0;34m]\u001b[0m\u001b[0;34m)\u001b[0m\u001b[0;34m.\u001b[0m\u001b[0mview\u001b[0m\u001b[0;34m(\u001b[0m\u001b[0mK_test\u001b[0m\u001b[0;34m,\u001b[0m \u001b[0mX_val\u001b[0m\u001b[0;34m.\u001b[0m\u001b[0mshape\u001b[0m\u001b[0;34m[\u001b[0m\u001b[0;36m0\u001b[0m\u001b[0;34m]\u001b[0m\u001b[0;34m)\u001b[0m\u001b[0;34m.\u001b[0m\u001b[0mcpu\u001b[0m\u001b[0;34m(\u001b[0m\u001b[0;34m)\u001b[0m\u001b[0;34m.\u001b[0m\u001b[0mdata\u001b[0m\u001b[0;34m.\u001b[0m\u001b[0mnumpy\u001b[0m\u001b[0;34m(\u001b[0m\u001b[0;34m)\u001b[0m\u001b[0;34m\u001b[0m\u001b[0;34m\u001b[0m\u001b[0m\n\u001b[0m\u001b[1;32m      3\u001b[0m \u001b[0mlogvar\u001b[0m \u001b[0;34m=\u001b[0m \u001b[0mtorch\u001b[0m\u001b[0;34m.\u001b[0m\u001b[0mstack\u001b[0m\u001b[0;34m(\u001b[0m\u001b[0;34m[\u001b[0m\u001b[0mtup\u001b[0m\u001b[0;34m[\u001b[0m\u001b[0;36m1\u001b[0m\u001b[0;34m]\u001b[0m \u001b[0;32mfor\u001b[0m \u001b[0mtup\u001b[0m \u001b[0;32min\u001b[0m \u001b[0mMC_samples\u001b[0m\u001b[0;34m]\u001b[0m\u001b[0;34m)\u001b[0m\u001b[0;34m.\u001b[0m\u001b[0mview\u001b[0m\u001b[0;34m(\u001b[0m\u001b[0mK_test\u001b[0m\u001b[0;34m,\u001b[0m \u001b[0mX_val\u001b[0m\u001b[0;34m.\u001b[0m\u001b[0mshape\u001b[0m\u001b[0;34m[\u001b[0m\u001b[0;36m0\u001b[0m\u001b[0;34m]\u001b[0m\u001b[0;34m)\u001b[0m\u001b[0;34m.\u001b[0m\u001b[0mcpu\u001b[0m\u001b[0;34m(\u001b[0m\u001b[0;34m)\u001b[0m\u001b[0;34m.\u001b[0m\u001b[0mdata\u001b[0m\u001b[0;34m.\u001b[0m\u001b[0mnumpy\u001b[0m\u001b[0;34m(\u001b[0m\u001b[0;34m)\u001b[0m\u001b[0;34m\u001b[0m\u001b[0;34m\u001b[0m\u001b[0m\n\u001b[1;32m      4\u001b[0m \u001b[0mpppp\u001b[0m\u001b[0;34m,\u001b[0m \u001b[0mrmse\u001b[0m \u001b[0;34m=\u001b[0m \u001b[0mtest\u001b[0m\u001b[0;34m(\u001b[0m\u001b[0mY_val\u001b[0m\u001b[0;34m,\u001b[0m \u001b[0mK_test\u001b[0m\u001b[0;34m,\u001b[0m \u001b[0mmeans\u001b[0m\u001b[0;34m,\u001b[0m \u001b[0mlogvar\u001b[0m\u001b[0;34m)\u001b[0m\u001b[0;34m\u001b[0m\u001b[0;34m\u001b[0m\u001b[0m\n\u001b[1;32m      5\u001b[0m \u001b[0mepistemic_uncertainty\u001b[0m \u001b[0;34m=\u001b[0m \u001b[0mnp\u001b[0m\u001b[0;34m.\u001b[0m\u001b[0mvar\u001b[0m\u001b[0;34m(\u001b[0m\u001b[0mmeans\u001b[0m\u001b[0;34m,\u001b[0m \u001b[0;36m0\u001b[0m\u001b[0;34m)\u001b[0m\u001b[0;34m.\u001b[0m\u001b[0mmean\u001b[0m\u001b[0;34m(\u001b[0m\u001b[0;36m0\u001b[0m\u001b[0;34m)\u001b[0m\u001b[0;34m\u001b[0m\u001b[0;34m\u001b[0m\u001b[0m\n",
      "\u001b[0;31mRuntimeError\u001b[0m: invalid argument 2: size '[20 x 2566]' is invalid for input with 410560 elements at /opt/conda/conda-bld/pytorch_1533672544752/work/aten/src/TH/THStorage.cpp:84"
     ]
    }
   ],
   "source": [
    "MC_samples = [model(Variable(torch.FloatTensor(X_val)).to(device)) for _ in range(K_test)]"
   ]
  },
  {
   "cell_type": "code",
   "execution_count": 23,
   "metadata": {},
   "outputs": [
    {
     "data": {
      "text/plain": [
       "(torch.Size([2566, 8]), 20, 2566)"
      ]
     },
     "execution_count": 23,
     "metadata": {},
     "output_type": "execute_result"
    }
   ],
   "source": [
    "MC_samples[0][0].shape, len(MC_samples), X_val.shape[0]"
   ]
  },
  {
   "cell_type": "code",
   "execution_count": 24,
   "metadata": {},
   "outputs": [
    {
     "data": {
      "text/plain": [
       "torch.Size([20, 2566, 8])"
      ]
     },
     "execution_count": 24,
     "metadata": {},
     "output_type": "execute_result"
    }
   ],
   "source": [
    "torch.stack([tup[0] for tup in MC_samples]).shape"
   ]
  },
  {
   "cell_type": "code",
   "execution_count": 21,
   "metadata": {},
   "outputs": [],
   "source": [
    "import pylab"
   ]
  },
  {
   "cell_type": "code",
   "execution_count": 61,
   "metadata": {},
   "outputs": [
    {
     "data": {
      "image/png": "[encoded data removed]",
      "text/plain": [
       "<Figure size 864x108 with 4 Axes>"
      ]
     },
     "metadata": {
      "needs_background": "light"
     },
     "output_type": "display_data"
    }
   ],
   "source": [
    "means = torch.stack([tup[0] for tup in MC_samples]).view(K_test, X_val.shape[0], D).cpu().data.numpy()\n",
    "logvar = torch.stack([tup[1] for tup in MC_samples]).view(K_test, X_val.shape[0], D).cpu().data.numpy()\n",
    "pppp, rmse = test(Y_val, K_test, means, logvar)\n",
    "param = 4\n",
    "epistemic_uncertainty = np.var(means, 0).mean(0)[param]\n",
    "#logvar = np.mean(logvar, 0)[param]\n",
    "aleatoric_uncertainty = np.exp(logvar).mean(0)\n",
    "ps = np.array([torch.sigmoid(module.p_logit).cpu().data.numpy()[0] for module in model.modules() if hasattr(module, 'p_logit')])\n",
    "plot(X_train, Y_train, X_val, Y_val, means, param=param)"
   ]
  },
  {
   "cell_type": "code",
   "execution_count": 63,
   "metadata": {},
   "outputs": [],
   "source": [
    "np.save(\"means\", means.reshape(20, -1))\n",
    "np.save(\"logvar\", logvar.reshape(20, -1))"
   ]
  },
  {
   "cell_type": "code",
   "execution_count": 62,
   "metadata": {},
   "outputs": [
    {
     "data": {
      "text/plain": [
       "(20, 2566, 8)"
      ]
     },
     "execution_count": 62,
     "metadata": {},
     "output_type": "execute_result"
    }
   ],
   "source": [
    "logvar.shape"
   ]
  },
  {
   "cell_type": "code",
   "execution_count": 45,
   "metadata": {},
   "outputs": [
    {
     "data": {
      "text/plain": [
       "(8,)"
      ]
     },
     "execution_count": 45,
     "metadata": {},
     "output_type": "execute_result"
    }
   ],
   "source": [
    "np.mean(logvar, 0).shape"
   ]
  },
  {
   "cell_type": "code",
   "execution_count": null,
   "metadata": {},
   "outputs": [],
   "source": []
  }
 ],
 "metadata": {
  "kernelspec": {
   "display_name": "Python 3",
   "language": "python",
   "name": "python3"
  },
  "language_info": {
   "codemirror_mode": {
    "name": "ipython",
    "version": 3
   },
   "file_extension": ".py",
   "mimetype": "text/x-python",
   "name": "python",
   "nbconvert_exporter": "python",
   "pygments_lexer": "ipython3",
   "version": "3.6.8"
  }
 },
 "nbformat": 4,
 "nbformat_minor": 2
}
