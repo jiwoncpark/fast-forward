{
 "cells": [
  {
   "cell_type": "code",
   "execution_count": 3,
   "metadata": {},
   "outputs": [
    {
     "name": "stdout",
     "output_type": "stream",
     "text": [
      "/global/homes/j/jwp/DC2/gcr-catalogs/GCRCatalogs/__init__.py\n"
     ]
    }
   ],
   "source": [
    "import os, sys\n",
    "sys.path.insert(0, '/global/homes/j/jwp/DC2/gcr-catalogs')\n",
    "import GCRCatalogs\n",
    "print(GCRCatalogs.__file__)\n",
    "from astropy.coordinates import SkyCoord, matching\n",
    "import astropy.units as u\n",
    "%load_ext autoreload\n",
    "%autoreload 2"
   ]
  },
  {
   "cell_type": "code",
   "execution_count": 4,
   "metadata": {},
   "outputs": [],
   "source": [
    "import numpy as np\n",
    "import pandas as pd"
   ]
  },
  {
   "cell_type": "markdown",
   "metadata": {},
   "source": [
    "### Matching Source and Object catalogs back to truth"
   ]
  },
  {
   "cell_type": "markdown",
   "metadata": {},
   "source": [
    "Truth matching will only be applied to the objects. This means the sources that did not get matched to objects will not be matched to the truth.\n",
    "\n",
    "The \"truth\" is the union of galaxies in `proto-dc2_v3.0` (on which Run 1.2i was based) and `dc2_truth_run1.2_static`. We include the truth catalog for the stars that are not in the extragalactic catalog."
   ]
  },
  {
   "cell_type": "code",
   "execution_count": 6,
   "metadata": {},
   "outputs": [
    {
     "name": "stdout",
     "output_type": "stream",
     "text": [
      "(9211556, 24)\n"
     ]
    }
   ],
   "source": [
    "# Fetch protoDC2 with the columns we need, restricted to our area\n",
    "extragal_gcr = GCRCatalogs.load_catalog('proto-dc2_v3.0_test') # _test skips the md5 check\n",
    "# 'cosmoDC2_v1.0_image' takes ~14 sec\n",
    "extragal_quantities = ['galaxy_id', 'ra_true', 'dec_true', 'redshift_true', \n",
    "                      'size_bulge_true', 'size_minor_bulge_true', 'sersic_bulge', 'ellipticity_1_bulge_true',\n",
    "                      'ellipticity_2_bulge_true', 'ellipticity_bulge_true',\n",
    "                      'size_disk_true', 'size_minor_disk_true', 'sersic_disk', 'ellipticity_1_disk_true',\n",
    "                      'ellipticity_2_disk_true', 'ellipticity_disk_true',\n",
    "                      'bulge_to_total_ratio_i',\n",
    "                      'mag_true_u_lsst',\n",
    "                      'mag_true_g_lsst',\n",
    "                      'mag_true_r_lsst',\n",
    "                      'mag_true_i_lsst',\n",
    "                      'mag_true_z_lsst',\n",
    "                      'mag_true_Y_lsst',\n",
    "                      'halo_mass',]\n",
    "galaxies_dict = extragal_gcr.get_quantities(extragal_quantities, filters=[])\n",
    "galaxies = pd.DataFrame(galaxies_dict, index=None)\n",
    "print(galaxies.shape)"
   ]
  },
  {
   "cell_type": "code",
   "execution_count": 7,
   "metadata": {},
   "outputs": [
    {
     "name": "stdout",
     "output_type": "stream",
     "text": [
      "tract 4850 has corners (56.410, -29.783), (54.618, -29.783), (54.631, -28.228), (56.397, -28.228) (RA, Dec deg) and 7 x 7 patches\n"
     ]
    }
   ],
   "source": [
    "# Find which ra, dec box corresponds to Tract 4850  \n",
    "from skymap_utils import get_tract_corners\n",
    "corners = get_tract_corners(tract_id=4850)"
   ]
  },
  {
   "cell_type": "code",
   "execution_count": 8,
   "metadata": {},
   "outputs": [],
   "source": [
    "min_ra, min_dec = np.min(corners, axis=0)\n",
    "max_ra, max_dec = np.max(corners, axis=0)\n",
    "buffer = 0.1 # deg"
   ]
  },
  {
   "cell_type": "code",
   "execution_count": 9,
   "metadata": {},
   "outputs": [],
   "source": [
    "# Fetch truth with the columns we need, restricted to our area\n",
    "truth_gcr = GCRCatalogs.load_catalog('dc2_truth_run1.2_static')\n",
    "truth_quantities = ['object_id', 'sprinkled', 'star', 'agn', 'ra', 'dec', 'redshift'] + list('ugrizy') \n",
    "#print(sorted(truth_gcr.list_all_quantities(include_native=True)))\n",
    "truth_filters = ['ra > %f' %(min_ra - buffer),\n",
    "                'ra < %f' %(max_ra + buffer),\n",
    "                'dec > %f' %(min_dec - buffer),\n",
    "                'dec < %f' %(max_dec + buffer),]\n",
    "truth_dict = truth_gcr.get_quantities(truth_quantities, native_filters=truth_filters)\n",
    "truth_df = pd.DataFrame(truth_dict, index=None)"
   ]
  },
  {
   "cell_type": "markdown",
   "metadata": {},
   "source": [
    "### Join extragalactic catalog with truth catalog\n",
    "In the case of protoDC2, this step is necessary to rotate the protoDC2 field onto the DC2 field. Only galaxies will survive the join."
   ]
  },
  {
   "cell_type": "code",
   "execution_count": 18,
   "metadata": {},
   "outputs": [],
   "source": [
    "truth_extended = galaxies.merge(truth_df, how='inner', left_on='galaxy_id', right_on='object_id')"
   ]
  },
  {
   "cell_type": "code",
   "execution_count": 55,
   "metadata": {},
   "outputs": [
    {
     "data": {
      "text/html": [
       "<div>\n",
       "<style scoped>\n",
       "    .dataframe tbody tr th:only-of-type {\n",
       "        vertical-align: middle;\n",
       "    }\n",
       "\n",
       "    .dataframe tbody tr th {\n",
       "        vertical-align: top;\n",
       "    }\n",
       "\n",
       "    .dataframe thead th {\n",
       "        text-align: right;\n",
       "    }\n",
       "</style>\n",
       "<table border=\"1\" class=\"dataframe\">\n",
       "  <thead>\n",
       "    <tr style=\"text-align: right;\">\n",
       "      <th></th>\n",
       "      <th>halo_mass</th>\n",
       "      <th>sersic_bulge</th>\n",
       "      <th>ellipticity_bulge_true</th>\n",
       "      <th>mag_true_u_lsst</th>\n",
       "      <th>ellipticity_disk_true</th>\n",
       "      <th>size_bulge_true</th>\n",
       "      <th>ellipticity_2_bulge_true</th>\n",
       "      <th>mag_true_z_lsst</th>\n",
       "      <th>galaxy_id</th>\n",
       "      <th>size_minor_disk_true</th>\n",
       "      <th>...</th>\n",
       "      <th>y</th>\n",
       "      <th>sprinkled</th>\n",
       "      <th>ra</th>\n",
       "      <th>u</th>\n",
       "      <th>object_id</th>\n",
       "      <th>g</th>\n",
       "      <th>star</th>\n",
       "      <th>redshift</th>\n",
       "      <th>r</th>\n",
       "      <th>agn</th>\n",
       "    </tr>\n",
       "  </thead>\n",
       "  <tbody>\n",
       "    <tr>\n",
       "      <th>0</th>\n",
       "      <td>3.509520e+11</td>\n",
       "      <td>4.0</td>\n",
       "      <td>0.347326</td>\n",
       "      <td>13.402844</td>\n",
       "      <td>0.046173</td>\n",
       "      <td>9.898567</td>\n",
       "      <td>0.052789</td>\n",
       "      <td>10.861640</td>\n",
       "      <td>7</td>\n",
       "      <td>6.225793</td>\n",
       "      <td>...</td>\n",
       "      <td>10.498124</td>\n",
       "      <td>False</td>\n",
       "      <td>54.599659</td>\n",
       "      <td>12.220207</td>\n",
       "      <td>7</td>\n",
       "      <td>11.366055</td>\n",
       "      <td>False</td>\n",
       "      <td>0.007052</td>\n",
       "      <td>10.996866</td>\n",
       "      <td>True</td>\n",
       "    </tr>\n",
       "    <tr>\n",
       "      <th>1</th>\n",
       "      <td>1.164449e+11</td>\n",
       "      <td>4.0</td>\n",
       "      <td>0.298637</td>\n",
       "      <td>19.124431</td>\n",
       "      <td>0.010436</td>\n",
       "      <td>2.022574</td>\n",
       "      <td>0.256484</td>\n",
       "      <td>17.642028</td>\n",
       "      <td>26</td>\n",
       "      <td>2.108287</td>\n",
       "      <td>...</td>\n",
       "      <td>17.562220</td>\n",
       "      <td>False</td>\n",
       "      <td>54.913981</td>\n",
       "      <td>19.151460</td>\n",
       "      <td>26</td>\n",
       "      <td>18.259135</td>\n",
       "      <td>False</td>\n",
       "      <td>0.012973</td>\n",
       "      <td>17.925473</td>\n",
       "      <td>True</td>\n",
       "    </tr>\n",
       "    <tr>\n",
       "      <th>2</th>\n",
       "      <td>1.940749e+10</td>\n",
       "      <td>4.0</td>\n",
       "      <td>NaN</td>\n",
       "      <td>19.726181</td>\n",
       "      <td>0.105133</td>\n",
       "      <td>0.000000</td>\n",
       "      <td>NaN</td>\n",
       "      <td>17.586020</td>\n",
       "      <td>52</td>\n",
       "      <td>1.940603</td>\n",
       "      <td>...</td>\n",
       "      <td>17.627993</td>\n",
       "      <td>False</td>\n",
       "      <td>54.966244</td>\n",
       "      <td>19.625544</td>\n",
       "      <td>52</td>\n",
       "      <td>18.495268</td>\n",
       "      <td>False</td>\n",
       "      <td>0.013717</td>\n",
       "      <td>17.978307</td>\n",
       "      <td>False</td>\n",
       "    </tr>\n",
       "    <tr>\n",
       "      <th>3</th>\n",
       "      <td>3.072852e+10</td>\n",
       "      <td>4.0</td>\n",
       "      <td>0.193061</td>\n",
       "      <td>22.939206</td>\n",
       "      <td>0.137340</td>\n",
       "      <td>1.098874</td>\n",
       "      <td>-0.148197</td>\n",
       "      <td>21.373796</td>\n",
       "      <td>60</td>\n",
       "      <td>0.458977</td>\n",
       "      <td>...</td>\n",
       "      <td>21.272098</td>\n",
       "      <td>False</td>\n",
       "      <td>55.077733</td>\n",
       "      <td>22.931867</td>\n",
       "      <td>60</td>\n",
       "      <td>21.894835</td>\n",
       "      <td>False</td>\n",
       "      <td>0.020161</td>\n",
       "      <td>21.543838</td>\n",
       "      <td>False</td>\n",
       "    </tr>\n",
       "    <tr>\n",
       "      <th>4</th>\n",
       "      <td>8.133354e+12</td>\n",
       "      <td>4.0</td>\n",
       "      <td>0.210889</td>\n",
       "      <td>20.949763</td>\n",
       "      <td>0.128405</td>\n",
       "      <td>0.923869</td>\n",
       "      <td>-0.035678</td>\n",
       "      <td>19.838191</td>\n",
       "      <td>80</td>\n",
       "      <td>0.393055</td>\n",
       "      <td>...</td>\n",
       "      <td>19.757425</td>\n",
       "      <td>False</td>\n",
       "      <td>54.657801</td>\n",
       "      <td>21.029238</td>\n",
       "      <td>80</td>\n",
       "      <td>20.132630</td>\n",
       "      <td>False</td>\n",
       "      <td>0.023965</td>\n",
       "      <td>19.917222</td>\n",
       "      <td>True</td>\n",
       "    </tr>\n",
       "  </tbody>\n",
       "</table>\n",
       "<p>5 rows × 37 columns</p>\n",
       "</div>"
      ],
      "text/plain": [
       "      halo_mass  sersic_bulge  ellipticity_bulge_true  mag_true_u_lsst  \\\n",
       "0  3.509520e+11           4.0                0.347326        13.402844   \n",
       "1  1.164449e+11           4.0                0.298637        19.124431   \n",
       "2  1.940749e+10           4.0                     NaN        19.726181   \n",
       "3  3.072852e+10           4.0                0.193061        22.939206   \n",
       "4  8.133354e+12           4.0                0.210889        20.949763   \n",
       "\n",
       "   ellipticity_disk_true  size_bulge_true  ellipticity_2_bulge_true  \\\n",
       "0               0.046173         9.898567                  0.052789   \n",
       "1               0.010436         2.022574                  0.256484   \n",
       "2               0.105133         0.000000                       NaN   \n",
       "3               0.137340         1.098874                 -0.148197   \n",
       "4               0.128405         0.923869                 -0.035678   \n",
       "\n",
       "   mag_true_z_lsst  galaxy_id  size_minor_disk_true  ...            y  \\\n",
       "0        10.861640          7              6.225793  ...    10.498124   \n",
       "1        17.642028         26              2.108287  ...    17.562220   \n",
       "2        17.586020         52              1.940603  ...    17.627993   \n",
       "3        21.373796         60              0.458977  ...    21.272098   \n",
       "4        19.838191         80              0.393055  ...    19.757425   \n",
       "\n",
       "   sprinkled         ra          u  object_id          g   star  redshift  \\\n",
       "0      False  54.599659  12.220207          7  11.366055  False  0.007052   \n",
       "1      False  54.913981  19.151460         26  18.259135  False  0.012973   \n",
       "2      False  54.966244  19.625544         52  18.495268  False  0.013717   \n",
       "3      False  55.077733  22.931867         60  21.894835  False  0.020161   \n",
       "4      False  54.657801  21.029238         80  20.132630  False  0.023965   \n",
       "\n",
       "           r    agn  \n",
       "0  10.996866   True  \n",
       "1  17.925473   True  \n",
       "2  17.978307  False  \n",
       "3  21.543838  False  \n",
       "4  19.917222   True  \n",
       "\n",
       "[5 rows x 37 columns]"
      ]
     },
     "execution_count": 55,
     "metadata": {},
     "output_type": "execute_result"
    }
   ],
   "source": [
    "truth_extended.head()"
   ]
  },
  {
   "cell_type": "code",
   "execution_count": 19,
   "metadata": {},
   "outputs": [
    {
     "name": "stdout",
     "output_type": "stream",
     "text": [
      "(1155438, 37)\n"
     ]
    },
    {
     "data": {
      "text/plain": [
       "(1155435, 37)"
      ]
     },
     "execution_count": 19,
     "metadata": {},
     "output_type": "execute_result"
    }
   ],
   "source": [
    "# IDK what's going on with the star==True rows that got matched to protoDC2\n",
    "print(truth_extended.shape)\n",
    "truth_extended = truth_extended[truth_extended['star']==False]\n",
    "print(truth_extended.shape)"
   ]
  },
  {
   "cell_type": "markdown",
   "metadata": {},
   "source": [
    "### Save a subset of the truth catalog with just stars"
   ]
  },
  {
   "cell_type": "code",
   "execution_count": 16,
   "metadata": {},
   "outputs": [
    {
     "name": "stdout",
     "output_type": "stream",
     "text": [
      "(34467, 13)\n"
     ]
    }
   ],
   "source": [
    "truth_point = truth_df[truth_df['star']==True].copy()\n",
    "print(truth_point.shape)"
   ]
  },
  {
   "cell_type": "code",
   "execution_count": 30,
   "metadata": {},
   "outputs": [
    {
     "data": {
      "text/plain": [
       "(1189902, 37)"
      ]
     },
     "execution_count": 30,
     "metadata": {},
     "output_type": "execute_result"
    }
   ],
   "source": [
    "truth_combined = pd.concat([truth_extended, truth_point], axis=0, sort=False, ignore_index=True)"
   ]
  },
  {
   "cell_type": "code",
   "execution_count": 33,
   "metadata": {},
   "outputs": [
    {
     "data": {
      "text/html": [
       "<div>\n",
       "<style scoped>\n",
       "    .dataframe tbody tr th:only-of-type {\n",
       "        vertical-align: middle;\n",
       "    }\n",
       "\n",
       "    .dataframe tbody tr th {\n",
       "        vertical-align: top;\n",
       "    }\n",
       "\n",
       "    .dataframe thead th {\n",
       "        text-align: right;\n",
       "    }\n",
       "</style>\n",
       "<table border=\"1\" class=\"dataframe\">\n",
       "  <thead>\n",
       "    <tr style=\"text-align: right;\">\n",
       "      <th></th>\n",
       "      <th>ellipticity_2_bulge_true</th>\n",
       "      <th>ellipticity_1_disk_true</th>\n",
       "      <th>mag_true_u_lsst</th>\n",
       "      <th>ellipticity_bulge_true</th>\n",
       "      <th>size_minor_disk_true</th>\n",
       "      <th>dec_true</th>\n",
       "      <th>size_bulge_true</th>\n",
       "      <th>ellipticity_1_bulge_true</th>\n",
       "      <th>galaxy_id</th>\n",
       "      <th>mag_true_i_lsst</th>\n",
       "      <th>...</th>\n",
       "      <th>sprinkled</th>\n",
       "      <th>ra</th>\n",
       "      <th>u</th>\n",
       "      <th>y</th>\n",
       "      <th>z</th>\n",
       "      <th>object_id</th>\n",
       "      <th>redshift</th>\n",
       "      <th>dec</th>\n",
       "      <th>agn</th>\n",
       "      <th>star</th>\n",
       "    </tr>\n",
       "  </thead>\n",
       "  <tbody>\n",
       "    <tr>\n",
       "      <th>1189897</th>\n",
       "      <td>NaN</td>\n",
       "      <td>NaN</td>\n",
       "      <td>NaN</td>\n",
       "      <td>NaN</td>\n",
       "      <td>NaN</td>\n",
       "      <td>NaN</td>\n",
       "      <td>NaN</td>\n",
       "      <td>NaN</td>\n",
       "      <td>NaN</td>\n",
       "      <td>NaN</td>\n",
       "      <td>...</td>\n",
       "      <td>False</td>\n",
       "      <td>54.863315</td>\n",
       "      <td>15.269224</td>\n",
       "      <td>13.895497</td>\n",
       "      <td>13.892980</td>\n",
       "      <td>459361771</td>\n",
       "      <td>0.0</td>\n",
       "      <td>-29.874452</td>\n",
       "      <td>False</td>\n",
       "      <td>True</td>\n",
       "    </tr>\n",
       "    <tr>\n",
       "      <th>1189898</th>\n",
       "      <td>NaN</td>\n",
       "      <td>NaN</td>\n",
       "      <td>NaN</td>\n",
       "      <td>NaN</td>\n",
       "      <td>NaN</td>\n",
       "      <td>NaN</td>\n",
       "      <td>NaN</td>\n",
       "      <td>NaN</td>\n",
       "      <td>NaN</td>\n",
       "      <td>NaN</td>\n",
       "      <td>...</td>\n",
       "      <td>False</td>\n",
       "      <td>54.861160</td>\n",
       "      <td>21.349933</td>\n",
       "      <td>20.213625</td>\n",
       "      <td>20.201078</td>\n",
       "      <td>1568792530</td>\n",
       "      <td>0.0</td>\n",
       "      <td>-29.874606</td>\n",
       "      <td>False</td>\n",
       "      <td>True</td>\n",
       "    </tr>\n",
       "    <tr>\n",
       "      <th>1189899</th>\n",
       "      <td>NaN</td>\n",
       "      <td>NaN</td>\n",
       "      <td>NaN</td>\n",
       "      <td>NaN</td>\n",
       "      <td>NaN</td>\n",
       "      <td>NaN</td>\n",
       "      <td>NaN</td>\n",
       "      <td>NaN</td>\n",
       "      <td>NaN</td>\n",
       "      <td>NaN</td>\n",
       "      <td>...</td>\n",
       "      <td>False</td>\n",
       "      <td>54.871137</td>\n",
       "      <td>21.242134</td>\n",
       "      <td>20.014843</td>\n",
       "      <td>20.006028</td>\n",
       "      <td>1568792417</td>\n",
       "      <td>0.0</td>\n",
       "      <td>-29.873105</td>\n",
       "      <td>False</td>\n",
       "      <td>True</td>\n",
       "    </tr>\n",
       "    <tr>\n",
       "      <th>1189900</th>\n",
       "      <td>NaN</td>\n",
       "      <td>NaN</td>\n",
       "      <td>NaN</td>\n",
       "      <td>NaN</td>\n",
       "      <td>NaN</td>\n",
       "      <td>NaN</td>\n",
       "      <td>NaN</td>\n",
       "      <td>NaN</td>\n",
       "      <td>NaN</td>\n",
       "      <td>NaN</td>\n",
       "      <td>...</td>\n",
       "      <td>False</td>\n",
       "      <td>55.620697</td>\n",
       "      <td>18.581434</td>\n",
       "      <td>17.477655</td>\n",
       "      <td>17.470917</td>\n",
       "      <td>834836</td>\n",
       "      <td>0.0</td>\n",
       "      <td>-29.592843</td>\n",
       "      <td>False</td>\n",
       "      <td>True</td>\n",
       "    </tr>\n",
       "    <tr>\n",
       "      <th>1189901</th>\n",
       "      <td>NaN</td>\n",
       "      <td>NaN</td>\n",
       "      <td>NaN</td>\n",
       "      <td>NaN</td>\n",
       "      <td>NaN</td>\n",
       "      <td>NaN</td>\n",
       "      <td>NaN</td>\n",
       "      <td>NaN</td>\n",
       "      <td>NaN</td>\n",
       "      <td>NaN</td>\n",
       "      <td>...</td>\n",
       "      <td>False</td>\n",
       "      <td>54.537082</td>\n",
       "      <td>15.445417</td>\n",
       "      <td>14.435807</td>\n",
       "      <td>14.427729</td>\n",
       "      <td>834744</td>\n",
       "      <td>0.0</td>\n",
       "      <td>-29.005442</td>\n",
       "      <td>False</td>\n",
       "      <td>True</td>\n",
       "    </tr>\n",
       "  </tbody>\n",
       "</table>\n",
       "<p>5 rows × 37 columns</p>\n",
       "</div>"
      ],
      "text/plain": [
       "         ellipticity_2_bulge_true  ellipticity_1_disk_true  mag_true_u_lsst  \\\n",
       "1189897                       NaN                      NaN              NaN   \n",
       "1189898                       NaN                      NaN              NaN   \n",
       "1189899                       NaN                      NaN              NaN   \n",
       "1189900                       NaN                      NaN              NaN   \n",
       "1189901                       NaN                      NaN              NaN   \n",
       "\n",
       "         ellipticity_bulge_true  size_minor_disk_true  dec_true  \\\n",
       "1189897                     NaN                   NaN       NaN   \n",
       "1189898                     NaN                   NaN       NaN   \n",
       "1189899                     NaN                   NaN       NaN   \n",
       "1189900                     NaN                   NaN       NaN   \n",
       "1189901                     NaN                   NaN       NaN   \n",
       "\n",
       "         size_bulge_true  ellipticity_1_bulge_true  galaxy_id  \\\n",
       "1189897              NaN                       NaN        NaN   \n",
       "1189898              NaN                       NaN        NaN   \n",
       "1189899              NaN                       NaN        NaN   \n",
       "1189900              NaN                       NaN        NaN   \n",
       "1189901              NaN                       NaN        NaN   \n",
       "\n",
       "         mag_true_i_lsst  ...   sprinkled         ra          u          y  \\\n",
       "1189897              NaN  ...       False  54.863315  15.269224  13.895497   \n",
       "1189898              NaN  ...       False  54.861160  21.349933  20.213625   \n",
       "1189899              NaN  ...       False  54.871137  21.242134  20.014843   \n",
       "1189900              NaN  ...       False  55.620697  18.581434  17.477655   \n",
       "1189901              NaN  ...       False  54.537082  15.445417  14.435807   \n",
       "\n",
       "                 z   object_id  redshift        dec    agn  star  \n",
       "1189897  13.892980   459361771       0.0 -29.874452  False  True  \n",
       "1189898  20.201078  1568792530       0.0 -29.874606  False  True  \n",
       "1189899  20.006028  1568792417       0.0 -29.873105  False  True  \n",
       "1189900  17.470917      834836       0.0 -29.592843  False  True  \n",
       "1189901  14.427729      834744       0.0 -29.005442  False  True  \n",
       "\n",
       "[5 rows x 37 columns]"
      ]
     },
     "execution_count": 33,
     "metadata": {},
     "output_type": "execute_result"
    }
   ],
   "source": [
    "truth_combined.tail()"
   ]
  },
  {
   "cell_type": "code",
   "execution_count": 43,
   "metadata": {},
   "outputs": [],
   "source": [
    "truth_combined.to_csv('truth_combined.csv', index=False)"
   ]
  },
  {
   "cell_type": "code",
   "execution_count": 44,
   "metadata": {},
   "outputs": [
    {
     "data": {
      "text/plain": [
       "array(['ellipticity_2_bulge_true', 'ellipticity_1_disk_true',\n",
       "       'mag_true_u_lsst', 'ellipticity_bulge_true',\n",
       "       'size_minor_disk_true', 'dec_true', 'size_bulge_true',\n",
       "       'ellipticity_1_bulge_true', 'galaxy_id', 'mag_true_i_lsst',\n",
       "       'redshift_true', 'mag_true_Y_lsst', 'ellipticity_2_disk_true',\n",
       "       'halo_mass', 'ellipticity_disk_true', 'sersic_disk',\n",
       "       'mag_true_r_lsst', 'size_disk_true', 'mag_true_z_lsst',\n",
       "       'size_minor_bulge_true', 'ra_true', 'bulge_to_total_ratio_i',\n",
       "       'mag_true_g_lsst', 'sersic_bulge', 'i', 'g', 'r', 'sprinkled',\n",
       "       'ra', 'u', 'y', 'z', 'object_id', 'redshift', 'dec', 'agn', 'star'],\n",
       "      dtype=object)"
      ]
     },
     "execution_count": 44,
     "metadata": {},
     "output_type": "execute_result"
    }
   ],
   "source": [
    "truth_combined.columns.values"
   ]
  },
  {
   "cell_type": "markdown",
   "metadata": {},
   "source": [
    "### Concatenate the coordinates of `truth_extended` and `truth_point` in preparation for matching"
   ]
  },
  {
   "cell_type": "code",
   "execution_count": 34,
   "metadata": {},
   "outputs": [],
   "source": [
    "truth_skyCoord = SkyCoord(truth_combined['ra'].values, truth_combined['dec'].values, unit=(u.deg, u.deg))\n",
    "\n",
    "obj = pd.read_csv('obj_opsim.csv', index_col=None)\n",
    "obj_skyCoord = SkyCoord(obj['ra'].values, obj['dec'].values, unit=(u.deg, u.deg))"
   ]
  },
  {
   "cell_type": "code",
   "execution_count": 38,
   "metadata": {},
   "outputs": [],
   "source": [
    "# Use astropy matching as in:\n",
    "# https://github.com/LSSTDESC/DC2-production/blob/881125e14ff0cd5c4ea35b7725273369167cf98a/scripts/merge_source_cat.py#L292\n",
    "\n",
    "matching_radius = 1.0 * u.arcsec\n",
    "idx, sep2d, _ = matching.match_coordinates_sky(obj_skyCoord, truth_skyCoord)"
   ]
  },
  {
   "cell_type": "raw",
   "metadata": {},
   "source": [
    "# Defunct\n",
    "def assign_truth_id(idx, sep2d, truth_extended, truth_point, matching_radius):\n",
    "    is_fail = sep2d > matching_radius\n",
    "    n_objects = len(idx)\n",
    "    matched_truth_ids = np.zeros(n_objects) # Initialize\n",
    "    # Which objects were matched to extended vs. point?\n",
    "    n_extended = truth_extended.shape[0]\n",
    "    is_extended = idx < n_extended\n",
    "    is_point = idx >= n_extended\n",
    "    # Get object_id of truth match\n",
    "    matched_truth_extended = truth_extended.iloc[idx[is_extended]]['object_id'].values.astype(int)\n",
    "    matched_truth_point = truth_point.iloc[idx[is_point] % n_extended - 1]['object_id'].values.astype(int)\n",
    "    # Populate object_id for extended, point\n",
    "    matched_truth_ids[is_extended] = matched_truth_extended\n",
    "    matched_truth_ids[is_point] = matched_truth_point\n",
    "    # Flag match failure\n",
    "    matched_truth_ids[is_fail] = -1\n",
    "\n",
    "    return matched_truth_ids"
   ]
  },
  {
   "cell_type": "code",
   "execution_count": 39,
   "metadata": {},
   "outputs": [],
   "source": [
    "def assign_truth_id(idx, sep2d, truth, matching_radius):\n",
    "    is_fail = sep2d > matching_radius\n",
    "    matched_truth = truth.iloc[idx]['object_id'].values.astype(int)\n",
    "    matched_truth[is_fail] = -1\n",
    "    return matched_truth\n",
    "\n",
    "truth_ids = assign_truth_id(idx, sep2d, truth_combined, matching_radius)"
   ]
  },
  {
   "cell_type": "code",
   "execution_count": 41,
   "metadata": {},
   "outputs": [],
   "source": [
    "obj['truth_id'] = truth_ids"
   ]
  },
  {
   "cell_type": "code",
   "execution_count": 49,
   "metadata": {},
   "outputs": [
    {
     "data": {
      "text/plain": [
       "(85049,)"
      ]
     },
     "execution_count": 49,
     "metadata": {},
     "output_type": "execute_result"
    }
   ],
   "source": [
    "# This many objects had a truth match\n",
    "print(truth_ids[truth_ids>0].shape)"
   ]
  },
  {
   "cell_type": "code",
   "execution_count": 80,
   "metadata": {},
   "outputs": [],
   "source": [
    "obj_master = obj.merge(truth_combined, how='inner', left_on='truth_id', right_on='object_id', suffixes=('_obs', '_truth'))"
   ]
  },
  {
   "cell_type": "code",
   "execution_count": 81,
   "metadata": {},
   "outputs": [],
   "source": [
    "obj_master.to_csv('obj_master.csv', index=None)"
   ]
  },
  {
   "cell_type": "code",
   "execution_count": 82,
   "metadata": {},
   "outputs": [
    {
     "data": {
      "text/plain": [
       "['Ixx',\n",
       " 'IxxPSF',\n",
       " 'IxxPSF_g',\n",
       " 'IxxPSF_i',\n",
       " 'IxxPSF_r',\n",
       " 'IxxPSF_u',\n",
       " 'IxxPSF_y',\n",
       " 'IxxPSF_z',\n",
       " 'Ixx_g',\n",
       " 'Ixx_i',\n",
       " 'Ixx_r',\n",
       " 'Ixx_u',\n",
       " 'Ixx_y',\n",
       " 'Ixx_z',\n",
       " 'Ixy',\n",
       " 'IxyPSF',\n",
       " 'IxyPSF_g',\n",
       " 'IxyPSF_i',\n",
       " 'IxyPSF_r',\n",
       " 'IxyPSF_u',\n",
       " 'IxyPSF_y',\n",
       " 'IxyPSF_z',\n",
       " 'Ixy_g',\n",
       " 'Ixy_i',\n",
       " 'Ixy_r',\n",
       " 'Ixy_u',\n",
       " 'Ixy_y',\n",
       " 'Ixy_z',\n",
       " 'Iyy',\n",
       " 'IyyPSF',\n",
       " 'IyyPSF_g',\n",
       " 'IyyPSF_i',\n",
       " 'IyyPSF_r',\n",
       " 'IyyPSF_u',\n",
       " 'IyyPSF_y',\n",
       " 'IyyPSF_z',\n",
       " 'Iyy_g',\n",
       " 'Iyy_i',\n",
       " 'Iyy_r',\n",
       " 'Iyy_u',\n",
       " 'Iyy_y',\n",
       " 'Iyy_z',\n",
       " 'PSF_sigma2',\n",
       " 'agn',\n",
       " 'airmass',\n",
       " 'bulge_to_total_ratio_i',\n",
       " 'cModelFluxErr_g',\n",
       " 'cModelFluxErr_i',\n",
       " 'cModelFluxErr_r',\n",
       " 'cModelFluxErr_u',\n",
       " 'cModelFluxErr_y',\n",
       " 'cModelFluxErr_z',\n",
       " 'cModelFlux_flag_g',\n",
       " 'cModelFlux_flag_i',\n",
       " 'cModelFlux_flag_r',\n",
       " 'cModelFlux_flag_u',\n",
       " 'cModelFlux_flag_y',\n",
       " 'cModelFlux_flag_z',\n",
       " 'cModelFlux_g',\n",
       " 'cModelFlux_i',\n",
       " 'cModelFlux_r',\n",
       " 'cModelFlux_u',\n",
       " 'cModelFlux_y',\n",
       " 'cModelFlux_z',\n",
       " 'dec_obs',\n",
       " 'dec_true',\n",
       " 'dec_truth',\n",
       " 'dist2Moon',\n",
       " 'ellipticity_1_bulge_true',\n",
       " 'ellipticity_1_disk_true',\n",
       " 'ellipticity_2_bulge_true',\n",
       " 'ellipticity_2_disk_true',\n",
       " 'ellipticity_bulge_true',\n",
       " 'ellipticity_disk_true',\n",
       " 'ext_shapeHSM_HsmPsfMoments_flag',\n",
       " 'ext_shapeHSM_HsmPsfMoments_xx',\n",
       " 'ext_shapeHSM_HsmPsfMoments_xy',\n",
       " 'ext_shapeHSM_HsmPsfMoments_yy',\n",
       " 'ext_shapeHSM_HsmSourceMoments_flag',\n",
       " 'ext_shapeHSM_HsmSourceMoments_xx',\n",
       " 'ext_shapeHSM_HsmSourceMoments_xy',\n",
       " 'ext_shapeHSM_HsmSourceMoments_yy',\n",
       " 'extendedness',\n",
       " 'filtSkyBrightness_flux',\n",
       " 'g',\n",
       " 'g_base_CircularApertureFlux_70_0_instFlux',\n",
       " 'g_base_CircularApertureFlux_70_0_instFluxErr',\n",
       " 'g_coord_dec',\n",
       " 'g_coord_ra',\n",
       " 'g_ext_photometryKron_KronFlux_flag',\n",
       " 'g_ext_photometryKron_KronFlux_instFlux',\n",
       " 'g_ext_photometryKron_KronFlux_instFluxErr',\n",
       " 'g_ext_photometryKron_KronFlux_psf_radius',\n",
       " 'g_ext_photometryKron_KronFlux_radius',\n",
       " 'galaxy_id',\n",
       " 'halo_mass',\n",
       " 'i',\n",
       " 'i_base_CircularApertureFlux_70_0_instFlux',\n",
       " 'i_base_CircularApertureFlux_70_0_instFluxErr',\n",
       " 'i_coord_dec',\n",
       " 'i_coord_ra',\n",
       " 'i_ext_photometryKron_KronFlux_flag',\n",
       " 'i_ext_photometryKron_KronFlux_instFlux',\n",
       " 'i_ext_photometryKron_KronFlux_instFluxErr',\n",
       " 'i_ext_photometryKron_KronFlux_psf_radius',\n",
       " 'i_ext_photometryKron_KronFlux_radius',\n",
       " 'm5_flux',\n",
       " 'mag_g',\n",
       " 'mag_i',\n",
       " 'mag_r',\n",
       " 'mag_true_Y_lsst',\n",
       " 'mag_true_g_lsst',\n",
       " 'mag_true_i_lsst',\n",
       " 'mag_true_r_lsst',\n",
       " 'mag_true_u_lsst',\n",
       " 'mag_true_z_lsst',\n",
       " 'mag_u',\n",
       " 'mag_y',\n",
       " 'mag_z',\n",
       " 'magerr_g',\n",
       " 'magerr_i',\n",
       " 'magerr_r',\n",
       " 'magerr_u',\n",
       " 'magerr_y',\n",
       " 'magerr_z',\n",
       " 'objectId',\n",
       " 'object_id',\n",
       " 'parentObjectId',\n",
       " 'patch',\n",
       " 'psFluxErr_g',\n",
       " 'psFluxErr_i',\n",
       " 'psFluxErr_r',\n",
       " 'psFluxErr_u',\n",
       " 'psFluxErr_y',\n",
       " 'psFluxErr_z',\n",
       " 'psFlux_flag_g',\n",
       " 'psFlux_flag_i',\n",
       " 'psFlux_flag_r',\n",
       " 'psFlux_flag_u',\n",
       " 'psFlux_flag_y',\n",
       " 'psFlux_flag_z',\n",
       " 'psFlux_g',\n",
       " 'psFlux_i',\n",
       " 'psFlux_r',\n",
       " 'psFlux_u',\n",
       " 'psFlux_y',\n",
       " 'psFlux_z',\n",
       " 'r',\n",
       " 'r_base_CircularApertureFlux_70_0_instFlux',\n",
       " 'r_base_CircularApertureFlux_70_0_instFluxErr',\n",
       " 'r_coord_dec',\n",
       " 'r_coord_ra',\n",
       " 'r_ext_photometryKron_KronFlux_flag',\n",
       " 'r_ext_photometryKron_KronFlux_instFlux',\n",
       " 'r_ext_photometryKron_KronFlux_instFluxErr',\n",
       " 'r_ext_photometryKron_KronFlux_psf_radius',\n",
       " 'r_ext_photometryKron_KronFlux_radius',\n",
       " 'ra_obs',\n",
       " 'ra_true',\n",
       " 'ra_truth',\n",
       " 'redshift',\n",
       " 'redshift_true',\n",
       " 'sersic_bulge',\n",
       " 'sersic_disk',\n",
       " 'size_bulge_true',\n",
       " 'size_disk_true',\n",
       " 'size_minor_bulge_true',\n",
       " 'size_minor_disk_true',\n",
       " 'sprinkled',\n",
       " 'star',\n",
       " 'tract',\n",
       " 'truth_id',\n",
       " 'u',\n",
       " 'u_base_CircularApertureFlux_70_0_instFlux',\n",
       " 'u_base_CircularApertureFlux_70_0_instFluxErr',\n",
       " 'u_coord_dec',\n",
       " 'u_coord_ra',\n",
       " 'u_ext_photometryKron_KronFlux_flag',\n",
       " 'u_ext_photometryKron_KronFlux_instFlux',\n",
       " 'u_ext_photometryKron_KronFlux_instFluxErr',\n",
       " 'u_ext_photometryKron_KronFlux_psf_radius',\n",
       " 'u_ext_photometryKron_KronFlux_radius',\n",
       " 'x',\n",
       " 'xErr',\n",
       " 'xy_flag',\n",
       " 'yErr',\n",
       " 'y_base_CircularApertureFlux_70_0_instFlux',\n",
       " 'y_base_CircularApertureFlux_70_0_instFluxErr',\n",
       " 'y_coord_dec',\n",
       " 'y_coord_ra',\n",
       " 'y_ext_photometryKron_KronFlux_flag',\n",
       " 'y_ext_photometryKron_KronFlux_instFlux',\n",
       " 'y_ext_photometryKron_KronFlux_instFluxErr',\n",
       " 'y_ext_photometryKron_KronFlux_psf_radius',\n",
       " 'y_ext_photometryKron_KronFlux_radius',\n",
       " 'y_obs',\n",
       " 'y_truth',\n",
       " 'z',\n",
       " 'z_base_CircularApertureFlux_70_0_instFlux',\n",
       " 'z_base_CircularApertureFlux_70_0_instFluxErr',\n",
       " 'z_coord_dec',\n",
       " 'z_coord_ra',\n",
       " 'z_ext_photometryKron_KronFlux_flag',\n",
       " 'z_ext_photometryKron_KronFlux_instFlux',\n",
       " 'z_ext_photometryKron_KronFlux_instFluxErr',\n",
       " 'z_ext_photometryKron_KronFlux_psf_radius',\n",
       " 'z_ext_photometryKron_KronFlux_radius']"
      ]
     },
     "execution_count": 82,
     "metadata": {},
     "output_type": "execute_result"
    }
   ],
   "source": [
    "sorted(obj_master.columns.values)"
   ]
  },
  {
   "cell_type": "markdown",
   "metadata": {},
   "source": [
    "### Match to Source"
   ]
  },
  {
   "cell_type": "code",
   "execution_count": null,
   "metadata": {},
   "outputs": [],
   "source": []
  },
  {
   "cell_type": "raw",
   "metadata": {},
   "source": [
    "import matplotlib.pyplot as plt\n",
    "%matplotlib inline\n",
    "plt.hist(sep2d)"
   ]
  }
 ],
 "metadata": {
  "kernelspec": {
   "display_name": "desc-stack",
   "language": "python",
   "name": "desc-stack"
  },
  "language_info": {
   "codemirror_mode": {
    "name": "ipython",
    "version": 3
   },
   "file_extension": ".py",
   "mimetype": "text/x-python",
   "name": "python",
   "nbconvert_exporter": "python",
   "pygments_lexer": "ipython3",
   "version": "3.6.6"
  }
 },
 "nbformat": 4,
 "nbformat_minor": 2
}
