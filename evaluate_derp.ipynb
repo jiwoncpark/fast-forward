{
 "cells": [
  {
   "cell_type": "code",
   "execution_count": null,
   "metadata": {},
   "outputs": [],
   "source": [
    "import os, sys\n",
    "import numpy as np\n",
    "import matplotlib.pyplot as plt\n",
    "import matplotlib.patches as mpatches\n",
    "import pandas as pd\n",
    "import corner\n",
    "%matplotlib inline\n",
    "%load_ext autoreload\n",
    "%autoreload 2"
   ]
  },
  {
   "cell_type": "markdown",
   "metadata": {},
   "source": [
    "### Read in pre-training and post-training metadata"
   ]
  },
  {
   "cell_type": "code",
   "execution_count": null,
   "metadata": {},
   "outputs": [],
   "source": [
    "from types import SimpleNamespace\n",
    "import json\n",
    "import torch\n",
    "\n",
    "args = json.load(open(\"args.txt\"))\n",
    "data_meta = json.load(open(\"data_meta.txt\"))\n",
    "meta = SimpleNamespace(**{**args, **data_meta}) # don't wanna keep track of which comes from which\n",
    "# FIXME: the whole data flow is hacky\n",
    "\n",
    "# I need these to be np arrays\n",
    "for par_name in ['X_mean', 'X_std', 'Y_mean', 'Y_std',]:\n",
    "    par_list = getattr(meta, par_name)\n",
    "    setattr(meta, par_name, np.array(par_list))\n",
    "    \n",
    "# Configure device, same as trained model\n",
    "device = torch.device(type=meta.device_type)\n",
    "if device=='cuda':\n",
    "    torch.set_default_tensor_type('torch.cuda.FloatTensor')"
   ]
  },
  {
   "cell_type": "markdown",
   "metadata": {},
   "source": [
    "### Read in validation dataset"
   ]
  },
  {
   "cell_type": "code",
   "execution_count": null,
   "metadata": {},
   "outputs": [],
   "source": [
    "# Full dataset\n",
    "X = pd.read_csv(\"data/processed_X.csv\", index_col=False)\n",
    "Y = pd.read_csv(\"data/processed_Y.csv\", index_col=False)\n",
    "X = X*meta.X_std + meta.X_mean # Unstandardize\n",
    "Y = Y*meta.Y_std + meta.Y_mean # Do not unstandardize yet\n",
    "\n",
    "# Validation set\n",
    "X_val = X.iloc[meta.val_indices, :]\n",
    "Y_val = Y.iloc[meta.val_indices, :]"
   ]
  },
  {
   "cell_type": "code",
   "execution_count": null,
   "metadata": {},
   "outputs": [],
   "source": [
    "# Subsample for visualization\n",
    "np.random.seed(123)\n",
    "n_subsample = 200\n",
    "subsampled = np.random.choice(Y_val.shape[0], size=n_subsample, replace=False)\n",
    "X_val_sampled = X_val.iloc[subsampled, :] # shape [n_subsampled, X_dim]\n",
    "Y_val_sampled = Y_val.iloc[subsampled, :] # shape [n_subsampled, Y_dim]"
   ]
  },
  {
   "cell_type": "markdown",
   "metadata": {},
   "source": [
    "### Prediction time!"
   ]
  },
  {
   "cell_type": "code",
   "execution_count": null,
   "metadata": {},
   "outputs": [],
   "source": [
    "from models import ConcreteDense\n",
    "from torch.autograd import Variable\n",
    "\n",
    "length_scale = meta.l\n",
    "wr = length_scale**2.0/meta.n_train\n",
    "dr = 2.0/meta.n_train\n",
    "# FIXME: use val_loader? \n",
    "# I hardcoded CPU here b/c the whole validation set doesn't fit on my GPU\n",
    "model = ConcreteDense(meta.X_dim, meta.Y_dim, meta.n_features, wr, dr)\n",
    "model.load_state_dict(torch.load('checkpoint/weights_%d.pth' %meta.run_id))\n",
    "model.eval()\n",
    "\n",
    "MC_samples = [model(Variable(torch.Tensor(X_val_sampled.values))) for _ in range(meta.n_MC)]"
   ]
  },
  {
   "cell_type": "code",
   "execution_count": null,
   "metadata": {},
   "outputs": [],
   "source": [
    "# Slice to get means and logvar separately\n",
    "means = torch.stack([tup[0] for tup in MC_samples]).view(meta.n_MC, n_subsample, meta.Y_dim).cpu().data.numpy()\n",
    "logvar = torch.stack([tup[1] for tup in MC_samples]).view(meta.n_MC, n_subsample, meta.Y_dim).cpu().data.numpy()\n",
    "\n",
    "if not os.path.exists('results'):\n",
    "    os.makedirs('results')\n",
    "np.save(\"results/means_run_%d\" %meta.run_id, means.reshape(meta.n_MC, -1))\n",
    "np.save(\"results/logvar_run_%d\"%meta.run_id, logvar.reshape(meta.n_MC, -1))"
   ]
  },
  {
   "cell_type": "code",
   "execution_count": null,
   "metadata": {},
   "outputs": [],
   "source": [
    "# Unstandardize\n",
    "means = means*meta.Y_std.reshape([1, 1, meta.Y_dim]) + meta.Y_mean.reshape([1, 1, meta.Y_dim]) # broadcasting\n",
    "# Do not unstandardize log_var yet!\n",
    "logvar = logvar"
   ]
  },
  {
   "cell_type": "markdown",
   "metadata": {},
   "source": [
    "### Plot single-quantity marginal posterior"
   ]
  },
  {
   "cell_type": "code",
   "execution_count": null,
   "metadata": {},
   "outputs": [],
   "source": [
    "import units_utils as units\n",
    "import astropy.units as u\n",
    "from uncertainty_utils import *\n",
    "\n",
    "expected_pred = np.mean(means, axis=0)\n",
    "ep_sig2 = get_epistemic_sigma2(means)\n",
    "al_sig2 = get_aleatoric_sigma2(logvar, meta.Y_mean, meta.Y_std)\n",
    "Y_coldict = dict(zip(meta.Y_cols, range(meta.Y_dim)))"
   ]
  },
  {
   "cell_type": "code",
   "execution_count": null,
   "metadata": {},
   "outputs": [],
   "source": [
    "def plot_flux_mapping(param, band, display_uncertainty, run='1.2i', plot_offset=True):\n",
    "    # Slice for this param\n",
    "    param_idx = Y_coldict[param]\n",
    "    param_star = expected_pred[:, param_idx]\n",
    "    obs_flux = Y_val_sampled.loc[:, param].values\n",
    "    ep_s2 = ep_sig2[:, param_idx]\n",
    "    al_s2 = al_sig2[:, param_idx]\n",
    "    \n",
    "    # Convert into uncertainty into magnitudes\n",
    "    ep_sig_mag = (ep_s2**0.5 * u.nJy).to(u.ABmag).value\n",
    "    al_sig_mag = (al_s2**0.5 * u.nJy).to(u.ABmag).value\n",
    "    \n",
    "    if display_uncertainty == 'aleatoric':\n",
    "        display_sig = al_s2**0.5\n",
    "        display_sig_mag = al_sig_mag\n",
    "    elif display_uncertainty == 'epistemic':\n",
    "        display_sig = ep_s2**0.5\n",
    "        display_sig_mag = ep_sig_mag\n",
    "    \n",
    "    # Plot pred in magnitudes\n",
    "    param_star_mag = (param_star * u.nJy).to(u.ABmag).value # predicted\n",
    "    obs_mag = (obs_flux * u.nJy).to(u.ABmag).value # observed\n",
    "    perfect = np.linspace(np.min(obs_mag), np.max(obs_mag))\n",
    "    \n",
    "    if band == 'y':\n",
    "        truth_flux = X_val_sampled.loc[:, 'y_truth_flux'].values\n",
    "    else:\n",
    "        truth_flux = X_val_sampled.loc[:, '%s_flux' %band].values\n",
    "    truth_mag = (truth_flux*u.nJy).to(u.ABmag).value # truth\n",
    "    obs_err, err_type = assign_obs_error(param, truth_mag, band=band, run=run)\n",
    "    \n",
    "    sorted_id = np.argsort(obs_mag)\n",
    "    sorted_obs = obs_mag[sorted_id]\n",
    "    sorted_err = obs_err[sorted_id]\n",
    "    sorted_param_star_mag = param_star_mag[sorted_id]\n",
    "   \n",
    "    if plot_offset:\n",
    "        offset = (param_star_mag - obs_mag) # mag --> mmag\n",
    "        #sorted_err *= 1000.0 # mag --> mmag\n",
    "        #display_sig_mag *= 1000.0 # mag --> mmag\n",
    "        # Plot baseline uncertainty\n",
    "        plt.fill_between(sorted_obs, -sorted_err, sorted_err, alpha=0.5, facecolor='tab:orange', label=r'1-$\\sigma$ %s' %err_type)\n",
    "        # Plot estimated uncertainty\n",
    "        plt.errorbar(obs_mag, offset, marker='.', linewidth=0, yerr=display_sig_mag, elinewidth=0.5, label=r'1-$\\sigma$ %s' %display_uncertainty)\n",
    "        # Plot perfect mapping\n",
    "        plt.plot(perfect, np.zeros_like(perfect), linestyle='--', color='r', label=\"Perfect mapping\")\n",
    "        plt.ylim([-2.1, 2.1])\n",
    "    '''\n",
    "    else:\n",
    "        # Plot baseline uncertainty\n",
    "        plt.fill_between(sorted_obs, sorted_obs-sorted_err, sorted_obs+sorted_err, alpha=0.5, facecolor='tab:orange', label=r'1-$\\sigma$ %s' %err_type)\n",
    "        # Plot estimated uncertainty\n",
    "        plt.errorbar(sorted_obs, param_star_mag, marker='.', linewidth=0, yerr=display_sig_mag, elinewidth=0.5, label=r'1-$\\sigma$ %s' %display_uncertainty)\n",
    "        plt.ylim([np.min(obs_mag), np.max(obs_mag)])\n",
    "        # Plot perfect mapping\n",
    "        plt.plot(perfect, perfect, linestyle='--', color='r', label=\"Perfect mapping\")\n",
    "    # Subplot formatting\n",
    "    \n",
    "    '''\n",
    "    plt.xlim([24, 31])\n",
    "    plt.title(param)\n",
    "    if plot_offset:\n",
    "        plt.ylabel(\"Emulated - Observed (mag)\")\n",
    "    else:\n",
    "        plt.ylabel(\"Emulated (mag)\")\n",
    "    \n",
    "    plt.xlabel(\"Observed (mag)\")\n",
    "    plt.plot([], [], ' ', label=r\"Avg 1-$\\sigma$ epistemic: %.2f mag\" %np.mean(ep_sig_mag))\n",
    "    plt.plot([], [], ' ', label=r\"Avg 1-$\\sigma$ aleatoric: %.2f mag\" %np.mean(al_sig_mag))\n",
    "    plt.legend(loc='center left', bbox_to_anchor=(1, 0.5))\n",
    "    \n",
    "    return sorted_obs, sorted_err, param_star_mag, al_s2, ep_s2"
   ]
  },
  {
   "cell_type": "code",
   "execution_count": null,
   "metadata": {},
   "outputs": [],
   "source": [
    "param = 'psFlux_g'\n",
    "\n",
    "if 'cModelFlux' in param:\n",
    "    band = param.split('_')[1] # FIXME: hacky   \n",
    "elif 'psFlux' in param:\n",
    "    band = param.split('_')[1]\n",
    "elif 'base_CircularApertureFlux_70_0_instFlux' in param:\n",
    "    band = param.split('_')[0]\n",
    "elif 'ext_photometryKron_KronFlux_instFlux' in param:\n",
    "    band = param.split('_')[0]\n",
    "else:\n",
    "    raise ValueError\n",
    "\n",
    "#obs, err, pred, al, ep = plot_flux_mapping('psFlux_r', band='r', display_uncertainty='aleatoric', plot_offset=False)\n",
    "obs, err, pred, al, ep = plot_flux_mapping('ra_offset', band='r', display_uncertainty='aleatoric', plot_offset=True)"
   ]
  },
  {
   "cell_type": "markdown",
   "metadata": {},
   "source": [
    "### Plot pairwise marginal posterior"
   ]
  },
  {
   "cell_type": "markdown",
   "metadata": {},
   "source": [
    "### Plot sampled posterior for a single object"
   ]
  },
  {
   "cell_type": "code",
   "execution_count": null,
   "metadata": {},
   "outputs": [],
   "source": [
    "def draw_cornerplot(pred, fig=None, color='black'):\n",
    "    n_samples, n_data, n_params = means_sampled.shape\n",
    "    plot = corner.corner(pred, \n",
    "                        color=color, \n",
    "                        smooth=1.0, \n",
    "                        labels=list(column_dict.values()),\n",
    "                        #show_titles=True,\n",
    "                        fill_contours=True,\n",
    "                        bins=50,\n",
    "                        fig=fig,\n",
    "                        range=[0.999]*n_params,\n",
    "                        hist_kwargs=dict(normed=True, ))\n",
    "    return plot\n",
    "\n",
    "pred = np.mean(means, axis=0)\n",
    "pairwise_post_pred = draw_cornerplot(pred, color='tab:blue')\n",
    "pairwise_post_observed = draw_cornerplot(Y_val, fig=pairwise_post_pred, color='tab:orange')"
   ]
  },
  {
   "cell_type": "markdown",
   "metadata": {},
   "source": [
    "### Marginal HPD intervals"
   ]
  },
  {
   "cell_type": "code",
   "execution_count": null,
   "metadata": {},
   "outputs": [],
   "source": []
  },
  {
   "cell_type": "markdown",
   "metadata": {},
   "source": [
    "### Full posterior cornerplot"
   ]
  },
  {
   "cell_type": "code",
   "execution_count": null,
   "metadata": {},
   "outputs": [],
   "source": [
    "def draw_cornerplot(pred, fig=None, color='black'):\n",
    "    n_samples, n_data, n_params = pred.shape\n",
    "    plot = corner.corner(pred, \n",
    "                        color=color, \n",
    "                        smooth=1.0, \n",
    "                        labels=list(column_dict.values()),\n",
    "                        #show_titles=True,\n",
    "                        fill_contours=True,\n",
    "                        bins=50,\n",
    "                        fig=fig,\n",
    "                        range=[0.999]*n_params,\n",
    "                        hist_kwargs=dict(normed=True, ))\n",
    "    return plot"
   ]
  },
  {
   "cell_type": "code",
   "execution_count": null,
   "metadata": {},
   "outputs": [],
   "source": [
    "#pred = np.mean(means, axis=0)\n",
    "pairwise_post_pred = draw_cornerplot(pred, color='tab:blue')\n",
    "pairwise_post_observed = draw_cornerplot(Y_val, fig=pairwise_post_pred, color='tab:orange')"
   ]
  },
  {
   "cell_type": "code",
   "execution_count": null,
   "metadata": {},
   "outputs": [],
   "source": []
  }
 ],
 "metadata": {
  "kernelspec": {
   "display_name": "Python 3",
   "language": "python",
   "name": "python3"
  },
  "language_info": {
   "codemirror_mode": {
    "name": "ipython",
    "version": 3
   },
   "file_extension": ".py",
   "mimetype": "text/x-python",
   "name": "python",
   "nbconvert_exporter": "python",
   "pygments_lexer": "ipython3",
   "version": "3.5.2"
  }
 },
 "nbformat": 4,
 "nbformat_minor": 2
}
