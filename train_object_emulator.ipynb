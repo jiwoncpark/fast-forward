{
 "cells": [
  {
   "cell_type": "code",
   "execution_count": 1,
   "metadata": {},
   "outputs": [],
   "source": [
    "import torch\n",
    "import itertools\n",
    "import numpy as np\n",
    "%load_ext autoreload\n",
    "%autoreload 2"
   ]
  },
  {
   "cell_type": "markdown",
   "metadata": {},
   "source": [
    "# Emulating the DRP Object Catalog"
   ]
  },
  {
   "cell_type": "markdown",
   "metadata": {},
   "source": [
    "### Global config"
   ]
  },
  {
   "cell_type": "code",
   "execution_count": 25,
   "metadata": {},
   "outputs": [],
   "source": [
    "import json\n",
    "\n",
    "np.random.seed(0)\n",
    "torch.manual_seed(0)\n",
    "torch.cuda.manual_seed(0)\n",
    "\n",
    "device = torch.device('cuda' if torch.cuda.is_available() else 'cpu')\n",
    "if device=='cuda':\n",
    "    torch.set_default_tensor_type('torch.cuda.FloatTensor')\n",
    "\n",
    "args = json.load(open(\"args.txt\"))"
   ]
  },
  {
   "cell_type": "markdown",
   "metadata": {},
   "source": [
    "### Data I/O"
   ]
  },
  {
   "cell_type": "code",
   "execution_count": 3,
   "metadata": {},
   "outputs": [
    {
     "name": "stderr",
     "output_type": "stream",
     "text": [
      "/global/common/cori/software/python/3.6-anaconda-5.2/lib/python3.6/site-packages/pandas/core/indexing.py:543: SettingWithCopyWarning: \n",
      "A value is trying to be set on a copy of a slice from a DataFrame.\n",
      "Try using .loc[row_indexer,col_indexer] = value instead\n",
      "\n",
      "See the caveats in the documentation: http://pandas.pydata.org/pandas-docs/stable/indexing.html#indexing-view-versus-copy\n",
      "  self.obj[item] = s\n"
     ]
    },
    {
     "name": "stdout",
     "output_type": "stream",
     "text": [
      "Deleting null rows: 85049 --> 79318\n",
      "Standardized X except:  ['not_star']\n",
      "Standardized Y except:  []\n",
      "Saving processed data to disk...\n"
     ]
    }
   ],
   "source": [
    "from derp_data import DerpData\n",
    "from torch.utils.data import DataLoader\n",
    "\n",
    "# X base columns\n",
    "truth_cols = list('ugriz') + ['y_truth', 'ra_truth', 'dec_truth', 'redshift', 'star',]\n",
    "truth_cols += ['size_bulge_true', 'size_minor_bulge_true', 'ellipticity_1_bulge_true', 'ellipticity_2_bulge_true', 'bulge_to_total_ratio_i']\n",
    "truth_cols += ['size_disk_true', 'size_minor_disk_true', 'ellipticity_1_disk_true', 'ellipticity_2_disk_true',]\n",
    "opsim_cols = ['m5_flux', 'PSF_sigma2', 'filtSkyBrightness_flux', 'airmass']\n",
    "# Y base columns\n",
    "drp_cols = ['x', 'y_obs', 'ra_obs', 'dec_obs', 'Ixx', 'Ixy', 'Iyy', 'IxxPSF', 'IxyPSF', 'IyyPSF',] #'extendedness',]\n",
    "drp_cols_prefix = ['cModelFlux_', 'psFlux_']\n",
    "drp_cols_suffix = ['_base_CircularApertureFlux_70_0_instFlux','_ext_photometryKron_KronFlux_instFlux',]\n",
    "drp_cols += [t[0] + t[1] for t in list(itertools.product(drp_cols_prefix, list('ugrizy')))]\n",
    "drp_cols += [t[1] + t[0] for t in list(itertools.product(drp_cols_suffix, list('ugrizy')))]\n",
    "\n",
    "# Define dataset\n",
    "data = DerpData(data_path=args['data_path'], X_base_cols=truth_cols + opsim_cols, Y_base_cols=drp_cols, train_frac=args['train_frac'],\n",
    "                    ignore_null_rows=True, verbose=args['verbose'], save_to_disk=False)\n",
    "X_cols = data.X_cols\n",
    "Y_cols = data.Y_cols\n",
    "X_cat_mapping = data.X_cat_mapping\n",
    "n_trainval = data.n_trainval\n",
    "n_train = data.n_train\n",
    "n_val = n_trainval - n_train\n",
    "X_dim = data.X_dim\n",
    "Y_dim = data.Y_dim"
   ]
  },
  {
   "cell_type": "code",
   "execution_count": 14,
   "metadata": {},
   "outputs": [],
   "source": [
    "from torch.utils.data.sampler import SubsetRandomSampler\n",
    "\n",
    "# Split train vs. val\n",
    "train_sampler = SubsetRandomSampler(data.train_indices)\n",
    "val_sampler = SubsetRandomSampler(data.val_indices)\n",
    "\n",
    "# Define dataloader\n",
    "kwargs = {'num_workers': 1, 'pin_memory': True} if device=='cuda' else {}\n",
    "train_loader = DataLoader(data, batch_size=args['batch_size'], sampler=train_sampler, **kwargs)\n",
    "val_loader = DataLoader(data, batch_size=args['batch_size'], sampler=val_sampler, **kwargs)"
   ]
  },
  {
   "cell_type": "code",
   "execution_count": 15,
   "metadata": {},
   "outputs": [
    {
     "name": "stdout",
     "output_type": "stream",
     "text": [
      "torch.Size([1000, 23])\n",
      "torch.Size([1000, 34])\n"
     ]
    }
   ],
   "source": [
    "for batch_idx, (X_batch, Y_batch) in enumerate(val_loader):\n",
    "    print(X_batch.shape)\n",
    "    print(Y_batch.shape)\n",
    "    break"
   ]
  },
  {
   "cell_type": "markdown",
   "metadata": {},
   "source": [
    "### Model"
   ]
  },
  {
   "cell_type": "code",
   "execution_count": 26,
   "metadata": {},
   "outputs": [],
   "source": [
    "from models import ConcreteDense\n",
    "\n",
    "length_scale = args['l']\n",
    "wr = length_scale**2.0/n_train\n",
    "dr = 2.0/n_train\n",
    "model = ConcreteDense(X_dim, Y_dim, args['n_features'], wr, dr)"
   ]
  },
  {
   "cell_type": "markdown",
   "metadata": {},
   "source": [
    "### Training"
   ]
  },
  {
   "cell_type": "code",
   "execution_count": 57,
   "metadata": {},
   "outputs": [
    {
     "name": "stdout",
     "output_type": "stream",
     "text": [
      "Epoch 10 done\n",
      "Epoch 20 done\n",
      "Epoch 30 done\n",
      "Epoch 40 done\n",
      "Epoch 50 done\n",
      "Epoch 60 done\n",
      "Epoch 70 done\n",
      "Epoch 80 done\n",
      "Epoch 90 done\n",
      "Epoch 100 done\n"
     ]
    }
   ],
   "source": [
    "from optim import fit_model\n",
    "\n",
    "X_val = data.X[data.val_indices, :]\n",
    "Y_val = data.Y[data.val_indices, :]\n",
    "model, pppp, rmse = fit_model(model, args['n_epochs'], train_loader, val_loader, n_val,\n",
    "                             device=device, logging_interval=args['logging_interval'],\n",
    "                             X_val=X_val, Y_val=Y_val, n_MC=args['n_MC'])"
   ]
  },
  {
   "cell_type": "code",
   "execution_count": 59,
   "metadata": {},
   "outputs": [
    {
     "data": {
      "text/plain": [
       "Text(0.5, 1.0, 'Validation likelihood')"
      ]
     },
     "execution_count": 59,
     "metadata": {},
     "output_type": "execute_result"
    },
    {
     "data": {
      "image/png": "[encoded data removed]",
      "text/plain": [
       "<Figure size 432x288 with 1 Axes>"
      ]
     },
     "metadata": {
      "needs_background": "light"
     },
     "output_type": "display_data"
    }
   ],
   "source": [
    "import matplotlib.pyplot as plt\n",
    "%matplotlib inline\n",
    "plt.plot(np.arange(0, args['n_epochs'], args['logging_interval']),\n",
    "         rmse)\n",
    "plt.title(\"Validation likelihood\")"
   ]
  },
  {
   "cell_type": "code",
   "execution_count": 60,
   "metadata": {},
   "outputs": [
    {
     "data": {
      "text/plain": [
       "Text(0.5, 1.0, 'Validation likelihood')"
      ]
     },
     "execution_count": 60,
     "metadata": {},
     "output_type": "execute_result"
    },
    {
     "data": {
      "image/png": "[encoded data removed]",
      "text/plain": [
       "<Figure size 432x288 with 1 Axes>"
      ]
     },
     "metadata": {
      "needs_background": "light"
     },
     "output_type": "display_data"
    }
   ],
   "source": [
    "import matplotlib.pyplot as plt\n",
    "%matplotlib inline\n",
    "plt.plot(np.arange(0, args['n_epochs'], args['logging_interval']),\n",
    "         pppp)\n",
    "plt.title(\"Validation likelihood\")"
   ]
  },
  {
   "cell_type": "markdown",
   "metadata": {},
   "source": [
    "### Prediction"
   ]
  },
  {
   "cell_type": "code",
   "execution_count": 61,
   "metadata": {},
   "outputs": [],
   "source": [
    "from torch.autograd import Variable\n",
    "\n",
    "model.eval()\n",
    "MC_samples = [model(Variable(torch.FloatTensor(X_val)).to(device)) for _ in range(args['n_MC'])]"
   ]
  },
  {
   "cell_type": "code",
   "execution_count": 62,
   "metadata": {},
   "outputs": [],
   "source": [
    "means = torch.stack([tup[0] for tup in MC_samples]).view(args['n_MC'], n_val, Y_dim).cpu().data.numpy()\n",
    "logvar = torch.stack([tup[1] for tup in MC_samples]).view(args['n_MC'], n_val, Y_dim).cpu().data.numpy()\n",
    "np.save(\"means_run_%d\" %args['run_id'], means.reshape(args['n_MC'], -1))\n",
    "np.save(\"logvar_run_%d\"%args['run_id'], logvar.reshape(args['n_MC'], -1))\n",
    "data.export_metadata_for_eval()"
   ]
  },
  {
   "cell_type": "code",
   "execution_count": null,
   "metadata": {},
   "outputs": [],
   "source": []
  }
 ],
 "metadata": {
  "kernelspec": {
   "display_name": "Python 3",
   "language": "python",
   "name": "python3"
  },
  "language_info": {
   "codemirror_mode": {
    "name": "ipython",
    "version": 3
   },
   "file_extension": ".py",
   "mimetype": "text/x-python",
   "name": "python",
   "nbconvert_exporter": "python",
   "pygments_lexer": "ipython3",
   "version": "3.6.8"
  }
 },
 "nbformat": 4,
 "nbformat_minor": 2
}
