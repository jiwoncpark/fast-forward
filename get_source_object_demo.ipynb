{
 "cells": [
  {
   "cell_type": "markdown",
   "metadata": {},
   "source": [
    "## Matching protoDC2, Source, and Object catalogs"
   ]
  },
  {
   "cell_type": "code",
   "execution_count": 3,
   "metadata": {},
   "outputs": [],
   "source": [
    "import os, sys\n",
    "sys.path.insert(0, '/global/homes/j/jwp/DC2/gcr-catalogs')\n",
    "import GCRCatalogs"
   ]
  },
  {
   "cell_type": "code",
   "execution_count": 4,
   "metadata": {},
   "outputs": [],
   "source": [
    "import itertools\n",
    "import pandas as pd\n",
    "import numpy as np\n",
    "import matplotlib.pyplot as plt\n",
    "%matplotlib inline"
   ]
  },
  {
   "cell_type": "markdown",
   "metadata": {},
   "source": [
    "### Determine sky area"
   ]
  },
  {
   "cell_type": "markdown",
   "metadata": {},
   "source": [
    "We'll limit sky area based on tracts and patches, rather than ra and dec."
   ]
  },
  {
   "cell_type": "code",
   "execution_count": 5,
   "metadata": {},
   "outputs": [
    {
     "name": "stdout",
     "output_type": "stream",
     "text": [
      "Table name:  overlaps\n"
     ]
    }
   ],
   "source": [
    "import sqlite3\n",
    "tracts_mapping_path = '/global/cscratch1/sd/desc/DC2/data/Run1.2i/rerun/281118/tracts_mapping.sqlite3'\n",
    "conn = sqlite3.connect(tracts_mapping_path)\n",
    "# Check the table name\n",
    "cursor = conn.cursor()\n",
    "cursor.execute(\"SELECT name FROM sqlite_master WHERE type='table';\")\n",
    "table_name = cursor.fetchall()[0][0]\n",
    "print(\"Table name: \", table_name)\n",
    "# Turn table into Pandas df\n",
    "overlaps = pd.read_sql(sql=\"SELECT * from '%s'\" %table_name, con=conn)"
   ]
  },
  {
   "cell_type": "code",
   "execution_count": 6,
   "metadata": {},
   "outputs": [
    {
     "data": {
      "text/plain": [
       "Index(['id', 'tract', 'patch', 'visit', 'detector', 'filter', 'layer'], dtype='object')"
      ]
     },
     "execution_count": 6,
     "metadata": {},
     "output_type": "execute_result"
    }
   ],
   "source": [
    "overlaps.columns"
   ]
  },
  {
   "cell_type": "code",
   "execution_count": 7,
   "metadata": {},
   "outputs": [
    {
     "data": {
      "text/html": [
       "<div>\n",
       "<style scoped>\n",
       "    .dataframe tbody tr th:only-of-type {\n",
       "        vertical-align: middle;\n",
       "    }\n",
       "\n",
       "    .dataframe tbody tr th {\n",
       "        vertical-align: top;\n",
       "    }\n",
       "\n",
       "    .dataframe thead th {\n",
       "        text-align: right;\n",
       "    }\n",
       "</style>\n",
       "<table border=\"1\" class=\"dataframe\">\n",
       "  <thead>\n",
       "    <tr style=\"text-align: right;\">\n",
       "      <th></th>\n",
       "      <th>id</th>\n",
       "      <th>tract</th>\n",
       "      <th>patch</th>\n",
       "      <th>visit</th>\n",
       "      <th>detector</th>\n",
       "      <th>filter</th>\n",
       "      <th>layer</th>\n",
       "    </tr>\n",
       "  </thead>\n",
       "  <tbody>\n",
       "    <tr>\n",
       "      <th>0</th>\n",
       "      <td>1</td>\n",
       "      <td>5063</td>\n",
       "      <td>(0, 4)</td>\n",
       "      <td>230</td>\n",
       "      <td>53</td>\n",
       "      <td>r</td>\n",
       "      <td></td>\n",
       "    </tr>\n",
       "    <tr>\n",
       "      <th>1</th>\n",
       "      <td>2</td>\n",
       "      <td>5063</td>\n",
       "      <td>(1, 4)</td>\n",
       "      <td>230</td>\n",
       "      <td>53</td>\n",
       "      <td>r</td>\n",
       "      <td></td>\n",
       "    </tr>\n",
       "    <tr>\n",
       "      <th>2</th>\n",
       "      <td>3</td>\n",
       "      <td>5063</td>\n",
       "      <td>(2, 4)</td>\n",
       "      <td>230</td>\n",
       "      <td>53</td>\n",
       "      <td>r</td>\n",
       "      <td></td>\n",
       "    </tr>\n",
       "    <tr>\n",
       "      <th>3</th>\n",
       "      <td>4</td>\n",
       "      <td>5063</td>\n",
       "      <td>(0, 5)</td>\n",
       "      <td>230</td>\n",
       "      <td>53</td>\n",
       "      <td>r</td>\n",
       "      <td></td>\n",
       "    </tr>\n",
       "    <tr>\n",
       "      <th>4</th>\n",
       "      <td>5</td>\n",
       "      <td>5063</td>\n",
       "      <td>(1, 5)</td>\n",
       "      <td>230</td>\n",
       "      <td>53</td>\n",
       "      <td>r</td>\n",
       "      <td></td>\n",
       "    </tr>\n",
       "  </tbody>\n",
       "</table>\n",
       "</div>"
      ],
      "text/plain": [
       "   id  tract   patch  visit  detector filter layer\n",
       "0   1   5063  (0, 4)    230        53      r      \n",
       "1   2   5063  (1, 4)    230        53      r      \n",
       "2   3   5063  (2, 4)    230        53      r      \n",
       "3   4   5063  (0, 5)    230        53      r      \n",
       "4   5   5063  (1, 5)    230        53      r      "
      ]
     },
     "execution_count": 7,
     "metadata": {},
     "output_type": "execute_result"
    }
   ],
   "source": [
    "overlaps.head()"
   ]
  },
  {
   "cell_type": "code",
   "execution_count": 8,
   "metadata": {},
   "outputs": [
    {
     "data": {
      "text/plain": [
       "array([5063, 5064, 5062, 4849, 4850, 4848, 4851, 4852, 5066, 4429, 4636,\n",
       "       4637, 4430, 5065, 4640, 4639, 4432, 4433, 4431, 4638])"
      ]
     },
     "execution_count": 8,
     "metadata": {},
     "output_type": "execute_result"
    }
   ],
   "source": [
    "#overlaps[overlaps['tract'].isin([4849, 4850, 4848])].shape\n",
    "overlaps['tract'].unique()"
   ]
  },
  {
   "cell_type": "code",
   "execution_count": 9,
   "metadata": {},
   "outputs": [
    {
     "name": "stdout",
     "output_type": "stream",
     "text": [
      "(1235,) (189,)\n"
     ]
    }
   ],
   "source": [
    "relevant_tracts = [4850,]\n",
    "relevant_visits = overlaps[overlaps['tract'].isin(relevant_tracts)]['visit'].unique()\n",
    "relevant_detectors = overlaps[overlaps['tract'].isin(relevant_tracts)]['detector'].unique()\n",
    "\n",
    "print(relevant_visits.shape, relevant_detectors.shape)"
   ]
  },
  {
   "cell_type": "code",
   "execution_count": null,
   "metadata": {},
   "outputs": [],
   "source": [
    "#overlaps[overlaps['tract'] == 4850]['id']"
   ]
  },
  {
   "cell_type": "markdown",
   "metadata": {},
   "source": [
    "### Fetch desired quantities from Object catalog"
   ]
  },
  {
   "cell_type": "code",
   "execution_count": 10,
   "metadata": {},
   "outputs": [],
   "source": [
    "obj_gcr = GCRCatalogs.load_catalog('dc2_object_run1.2i_tract4850')"
   ]
  },
  {
   "cell_type": "code",
   "execution_count": 15,
   "metadata": {},
   "outputs": [
    {
     "name": "stdout",
     "output_type": "stream",
     "text": [
      "Ixx_y\n",
      "IxxPSF_g\n",
      "Ixx_r\n",
      "IxxPSF_u\n",
      "Ixx_z\n",
      "IxxPSF\n",
      "IxxPSF_r\n",
      "Ixx\n",
      "Ixx_u\n",
      "Ixx_i\n",
      "Ixx_g\n",
      "IxxPSF_z\n",
      "IxxPSF_i\n",
      "IxxPSF_y\n"
     ]
    }
   ],
   "source": [
    "\n",
    "for col in obj_gcr.list_all_quantities(include_native=True):\n",
    "    if 'Ixx' in col:\n",
    "        print(col)\n",
    "        #print(obj_gcr.get_quantity_info(col))\n"
   ]
  },
  {
   "cell_type": "code",
   "execution_count": 16,
   "metadata": {},
   "outputs": [],
   "source": [
    "obj_quantities = ['ext_shapeHSM_HsmSourceMoments_xx', 'ext_shapeHSM_HsmSourceMoments_xy', 'ext_shapeHSM_HsmSourceMoments_yy']\n",
    "obj_quantities += ['ext_shapeHSM_HsmPsfMoments_xx', 'ext_shapeHSM_HsmPsfMoments_xy', 'ext_shapeHSM_HsmPsfMoments_yy']\n",
    "obj_quantities += ['ext_shapeHSM_HsmSourceMoments_flag', 'ext_shapeHSM_HsmPsfMoments_flag']\n",
    "obj_quantities += ['x', 'xErr', 'y', 'yErr', 'xy_flag', 'ra', 'dec', 'Ixx', 'Ixy', 'Iyy', 'IxxPSF', 'IxyPSF', 'IyyPSF']\n",
    "obj_quantities += ['extendedness', 'objectId', 'parentObjectId', 'tract', 'patch']\n",
    "# Columns that are prefixes to band\n",
    "obj_quantities_prefix = ['cModelFlux_', 'psFlux_', 'mag_']\n",
    "obj_quantities_prefix += ['cModelFluxErr_', 'psFluxErr_', 'magerr_', 'cModelFlux_flag_', 'psFlux_flag_',]\n",
    "obj_quantities_prefix += ['Ixx_', 'Ixy_', 'Iyy_']\n",
    "obj_quantities_prefix += ['IxxPSF_', 'IxyPSF_', 'IyyPSF_']\n",
    "# Columns that are suffixes to band\n",
    "obj_quantities_suffix = ['_ext_photometryKron_KronFlux_instFlux',]\n",
    "obj_quantities_suffix += ['_ext_photometryKron_KronFlux_flag', '_ext_photometryKron_KronFlux_instFluxErr']\n",
    "obj_quantities_suffix += ['_ext_photometryKron_KronFlux_radius', '_ext_photometryKron_KronFlux_psf_radius',]\n",
    "obj_quantities_suffix += ['_base_CircularApertureFlux_70_0_instFlux',]\n",
    "obj_quantities_suffix += ['_base_CircularApertureFlux_70_0_instFluxErr']\n",
    "obj_quantities_suffix += ['_coord_ra', '_coord_dec']\n",
    "\n",
    "obj_quantities += [t[0] + t[1] for t in list(itertools.product(obj_quantities_prefix, list('ugrizy')))]\n",
    "obj_quantities += [t[1] + t[0] for t in list(itertools.product(obj_quantities_suffix, list('ugrizy')))]"
   ]
  },
  {
   "cell_type": "code",
   "execution_count": 17,
   "metadata": {},
   "outputs": [],
   "source": [
    "#obj_filters = [(filter_on_tract, 'tract'),]\n",
    "obj_filters = [] # filter not necessary when using the tract4850 reader"
   ]
  },
  {
   "cell_type": "code",
   "execution_count": 19,
   "metadata": {},
   "outputs": [],
   "source": [
    "obj_dict = obj_gcr.get_quantities(obj_quantities, filters=obj_filters)\n",
    "obj_df = pd.DataFrame(obj_dict, index=None)\n",
    "obj_df.to_csv('obj_tract4850.csv', index=None)\n",
    "\n",
    "relevant_object_ids = obj_df['objectId'].unique()"
   ]
  },
  {
   "cell_type": "markdown",
   "metadata": {},
   "source": [
    "### Fetch desired quantities from Source catalog"
   ]
  },
  {
   "cell_type": "raw",
   "metadata": {},
   "source": [
    "for cat in GCRCatalogs.available_catalogs.keys():\n",
    "    if 'source' in cat:\n",
    "        print(cat)"
   ]
  },
  {
   "cell_type": "code",
   "execution_count": 14,
   "metadata": {},
   "outputs": [],
   "source": [
    "src_gcr = GCRCatalogs.load_catalog('dc2_source_run1.2i')"
   ]
  },
  {
   "cell_type": "code",
   "execution_count": 30,
   "metadata": {},
   "outputs": [
    {
     "name": "stdout",
     "output_type": "stream",
     "text": [
      "visit\n"
     ]
    }
   ],
   "source": [
    "for col in src_gcr.list_all_quantities(include_native=True):\n",
    "    if 'visit' in col:\n",
    "        print(col)\n",
    "        #print(src_gcr.get_quantity_info(col))"
   ]
  },
  {
   "cell_type": "code",
   "execution_count": 21,
   "metadata": {},
   "outputs": [],
   "source": [
    "src_quantities = ['apFlux', 'psFlux', 'mag']\n",
    "src_quantities += ['apFlux_flag', 'psFlux_flag', 'mag_err']\n",
    "src_quantities += ['apFluxErr', 'psFluxErr', 'fluxmag0']\n",
    "src_quantities += ['Ixx', 'Ixy', 'Iyy',]\n",
    "src_quantities += ['IxxPSF', 'IxyPSF', 'IyyPSF']\n",
    "src_quantities += ['ra', 'dec', 'x', 'y',]\n",
    "src_quantities += ['xErr', 'yErr', 'xy_flag',]\n",
    "src_quantities += ['sky', 'skyErr', 'sky_flag']\n",
    "src_quantities += ['base_ClassificationExtendedness_value', 'extendedness'] # base... not native\n",
    "src_quantities += ['sourceId', 'objectId', 'parentObjectId', 'visit', 'detector', 'filter']\n",
    "# TODO: separate native quantities"
   ]
  },
  {
   "cell_type": "code",
   "execution_count": 22,
   "metadata": {},
   "outputs": [],
   "source": [
    "def filter_on_detector(detectors):\n",
    "    return [d in relevant_detectors for d in detectors]\n",
    "\n",
    "def filter_on_visit(visits):\n",
    "    return [v in relevant_visits for v in visits]\n",
    "\n",
    "def filter_on_object(object_ids):\n",
    "    return [i in relevant_object_ids for i in object_ids]\n",
    "\n",
    "src_filters = [(filter_on_detector, 'detector'), (filter_on_visit, 'visit'), (filter_on_object, 'objectId')]"
   ]
  },
  {
   "cell_type": "code",
   "execution_count": 23,
   "metadata": {},
   "outputs": [],
   "source": [
    "# takes 4 hr\n",
    "src_dict = src_gcr.get_quantities(src_quantities, filters=src_filters)\n",
    "src_df = pd.DataFrame(src_dict, index=None)\n",
    "src_df.to_csv('src_tract4850_obs.csv', index=None)"
   ]
  },
  {
   "cell_type": "code",
   "execution_count": null,
   "metadata": {},
   "outputs": [],
   "source": [
    "src_quantities"
   ]
  },
  {
   "cell_type": "code",
   "execution_count": null,
   "metadata": {},
   "outputs": [],
   "source": []
  }
 ],
 "metadata": {
  "kernelspec": {
   "display_name": "Python 3",
   "language": "python",
   "name": "python3"
  },
  "language_info": {
   "codemirror_mode": {
    "name": "ipython",
    "version": 3
   },
   "file_extension": ".py",
   "mimetype": "text/x-python",
   "name": "python",
   "nbconvert_exporter": "python",
   "pygments_lexer": "ipython3",
   "version": "3.5.2"
  }
 },
 "nbformat": 4,
 "nbformat_minor": 2
}
