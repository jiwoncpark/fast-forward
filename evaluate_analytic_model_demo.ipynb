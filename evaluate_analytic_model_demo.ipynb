{
 "cells": [
  {
   "cell_type": "markdown",
   "metadata": {},
   "source": [
    "# Emulating the DRP Catalog with a Simple Analytic Model\n",
    "\n",
    "_Ji Won Park, Phil Marshall_\n",
    "\n",
    "Created: July 19, 2019 at the LSST DESC hack day\n",
    "Last run: 2019-07-19\n",
    "\n",
    "The goals for this demo notebook are to:\n",
    "\n",
    "* Show what the `Analytic` model class does, and \n",
    "* Check that its outputs are sensible."
   ]
  },
  {
   "cell_type": "markdown",
   "metadata": {},
   "source": [
    "### Requirements\n",
    "\n",
    "For this notebook to run to completion, you will need a copy of the test object dataset, and to have installed the dependencies."
   ]
  },
  {
   "cell_type": "code",
   "execution_count": 1,
   "metadata": {},
   "outputs": [],
   "source": [
    "# ! pip install -r requirements.txt"
   ]
  },
  {
   "cell_type": "code",
   "execution_count": null,
   "metadata": {},
   "outputs": [],
   "source": [
    "! curl -O "
   ]
  },
  {
   "cell_type": "code",
   "execution_count": null,
   "metadata": {},
   "outputs": [],
   "source": [
    "import models\n",
    "import solver\n",
    "\n",
    "trainval_data = DerpData()\n",
    "val_data = \n",
    "\n",
    "analytic = models.Analytic()\n",
    "mean, logvar = analytic(X_val)\n",
    "sample = solver.sample(mean, logvar)\n"
   ]
  }
 ],
 "metadata": {
  "kernelspec": {
   "display_name": "Python 3",
   "language": "python",
   "name": "python3"
  },
  "language_info": {
   "codemirror_mode": {
    "name": "ipython",
    "version": 3
   },
   "file_extension": ".py",
   "mimetype": "text/x-python",
   "name": "python",
   "nbconvert_exporter": "python",
   "pygments_lexer": "ipython3",
   "version": "3.6.7"
  }
 },
 "nbformat": 4,
 "nbformat_minor": 2
}
