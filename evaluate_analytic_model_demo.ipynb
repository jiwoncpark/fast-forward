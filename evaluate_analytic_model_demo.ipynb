{
 "cells": [
  {
   "cell_type": "markdown",
   "metadata": {},
   "source": [
    "# The Simplest Analytic Emulator\n",
    "\n",
    "Authors: Phil Marshall (@drphilmarshall), Ji Won Park (@jiwoncpark)\n",
    "Created: July 19, 2019\n",
    "Last run: July 19, 2019\n",
    "Goals: \n",
    "- Visualize an emulated Object catalog from a very simple analytic emulator, to serve as the baseline for any ML-based emulator."
   ]
  },
  {
   "cell_type": "code",
   "execution_count": 1,
   "metadata": {},
   "outputs": [],
   "source": [
    "import torch\n",
    "import numpy as np\n",
    "import json\n",
    "import matplotlib.pyplot as plt\n",
    "\n",
    "%load_ext autoreload\n",
    "%autoreload 2\n",
    "%matplotlib inline"
   ]
  },
  {
   "cell_type": "code",
   "execution_count": 2,
   "metadata": {},
   "outputs": [
    {
     "name": "stdout",
     "output_type": "stream",
     "text": [
      "device:  cuda\n"
     ]
    },
    {
     "name": "stderr",
     "output_type": "stream",
     "text": [
      "/usr/local/lib/python3.5/dist-packages/pandas/core/indexing.py:543: SettingWithCopyWarning: \n",
      "A value is trying to be set on a copy of a slice from a DataFrame.\n",
      "Try using .loc[row_indexer,col_indexer] = value instead\n",
      "\n",
      "See the caveats in the documentation: http://pandas.pydata.org/pandas-docs/stable/indexing.html#indexing-view-versus-copy\n",
      "  self.obj[item] = s\n"
     ]
    },
    {
     "name": "stdout",
     "output_type": "stream",
     "text": [
      "Deleting null rows: 70355 --> 67840\n",
      "Standardized X except:  ['star', 'mag_true_u_lsst', 'mag_true_g_lsst', 'mag_true_r_lsst', 'mag_true_i_lsst', 'mag_true_z_lsst', 'mag_true_y_lsst', 'u_flux', 'g_flux', 'r_flux', 'i_flux', 'z_flux', 'y_flux']\n",
      "Standardized Y except:  []\n",
      "X has null columns:  []\n",
      "Y has null columns:  []\n",
      "Overall star frac: 0.21\n",
      "Training star frac: 0.21\n",
      "Validation star frac: 0.21\n",
      "Saving processed data to disk...\n"
     ]
    }
   ],
   "source": [
    "np.random.seed(2809)\n",
    "torch.manual_seed(2809)\n",
    "torch.cuda.manual_seed(2809)\n",
    "torch.backends.cudnn.deterministic = True\n",
    "torch.backends.cudnn.benchmark = False\n",
    "\n",
    "device = torch.device('cuda' if torch.cuda.is_available() else 'cpu')\n",
    "if device=='cuda':\n",
    "    torch.set_default_tensor_type('torch.cuda.FloatTensor')\n",
    "else:\n",
    "    torch.set_default_tensor_type('torch.FloatTensor')\n",
    "print(\"device: \", device)\n",
    "    \n",
    "args = json.load(open(\"args.txt\"))\n",
    "\n",
    "############\n",
    "# Data I/O #\n",
    "############\n",
    "\n",
    "from derp_data import DerpData\n",
    "import itertools\n",
    "\n",
    "# X base columns\n",
    "truth_cols = list('ugrizy') + ['ra_truth', 'dec_truth', 'redshift', 'star',]\n",
    "truth_cols += ['mag_true_%s_lsst' %bp for bp in 'ugrizy']\n",
    "truth_cols += ['size_bulge_true', 'size_minor_bulge_true', 'ellipticity_1_bulge_true', 'ellipticity_2_bulge_true', 'bulge_to_total_ratio_i']\n",
    "truth_cols += ['size_disk_true', 'size_minor_disk_true', 'ellipticity_1_disk_true', 'ellipticity_2_disk_true',]\n",
    "opsim_cols = ['m5_flux', 'PSF_sigma2', 'filtSkyBrightness_flux', 'airmass', 'n_obs']\n",
    "# Y base columns\n",
    "drp_cols = ['extendedness', 'ra_obs', 'dec_obs', 'Ixx', 'Ixy', 'Iyy', 'IxxPSF', 'IxyPSF', 'IyyPSF', ]\n",
    "drp_cols_prefix = ['cModelFlux_', 'psFlux_']\n",
    "drp_cols_suffix = []\n",
    "#drp_cols_suffix = ['_ext_photometryKron_KronFlux_instFlux', '_base_CircularApertureFlux_70_0_instFlux', \n",
    "drp_cols += [t[0] + t[1] for t in list(itertools.product(drp_cols_prefix, list('ugrizy')))]\n",
    "drp_cols += [t[1] + t[0] for t in list(itertools.product(drp_cols_suffix, list('ugrizy')))]\n",
    "\n",
    "\n",
    "# Define dataset\n",
    "data = DerpData(data_path='raw_data/obj_master_tract4850.csv',\n",
    "    data_path2=None,\n",
    "    X_base_cols=truth_cols + opsim_cols, \n",
    "    Y_base_cols=drp_cols, \n",
    "    args=args, ignore_null_rows=True, save_to_disk=True)\n",
    "if not args['data_already_processed']:\n",
    "    data.export_metadata_for_eval(device_type=device.type)\n",
    "# Read metadata if reading processed data from disk:\n",
    "data_meta = json.load(open(\"data_meta.txt\"))\n",
    "\n",
    "X_cols = data_meta['X_cols']\n",
    "Y_cols = data_meta['Y_cols']\n",
    "train_indices = data_meta['train_indices']\n",
    "val_indices = data_meta['val_indices']\n",
    "X_dim = data_meta['X_dim']\n",
    "Y_dim = data_meta['Y_dim']\n",
    "\n",
    "from torch.utils.data.sampler import SubsetRandomSampler\n",
    "from torch.utils.data import DataLoader\n",
    "\n",
    "# Split train vs. val\n",
    "train_sampler = SubsetRandomSampler(train_indices)\n",
    "val_sampler = SubsetRandomSampler(val_indices)\n",
    "\n",
    "# Define dataloader\n",
    "kwargs = {'num_workers': 1, 'pin_memory': True} if device=='cuda' else {}\n",
    "train_loader = DataLoader(data, batch_size=args['batch_size'], sampler=train_sampler, **kwargs)\n",
    "val_loader = DataLoader(data, batch_size=args['batch_size'], sampler=val_sampler, **kwargs)"
   ]
  },
  {
   "cell_type": "code",
   "execution_count": 4,
   "metadata": {},
   "outputs": [
    {
     "data": {
      "text/plain": [
       "['extendedness',\n",
       " 'ra_offset',\n",
       " 'dec_offset',\n",
       " 'Ixx',\n",
       " 'Ixy',\n",
       " 'Iyy',\n",
       " 'IxxPSF',\n",
       " 'IxyPSF',\n",
       " 'IyyPSF',\n",
       " 'cModelFlux_u',\n",
       " 'cModelFlux_g',\n",
       " 'cModelFlux_r',\n",
       " 'cModelFlux_i',\n",
       " 'cModelFlux_z',\n",
       " 'cModelFlux_y',\n",
       " 'psFlux_u',\n",
       " 'psFlux_g',\n",
       " 'psFlux_r',\n",
       " 'psFlux_i',\n",
       " 'psFlux_z',\n",
       " 'psFlux_y']"
      ]
     },
     "execution_count": 4,
     "metadata": {},
     "output_type": "execute_result"
    }
   ],
   "source": [
    "data_meta['Y_cols']"
   ]
  },
  {
   "cell_type": "code",
   "execution_count": null,
   "metadata": {},
   "outputs": [],
   "source": [
    "import models\n",
    "import solver\n",
    "\n",
    "trainval_data = DerpData()\n",
    "val_data = \n",
    "\n",
    "analytic = models.Analytic()\n",
    "mean, logvar = analytic(X_val)\n",
    "sample = solver.sample(mean, logvar)\n"
   ]
  },
  {
   "cell_type": "code",
   "execution_count": null,
   "metadata": {},
   "outputs": [],
   "source": [
    "visualizing the sampled catalog, 1D, 2D\n"
   ]
  }
 ],
 "metadata": {
  "kernelspec": {
   "display_name": "python3.5",
   "language": "python",
   "name": "python3.5"
  },
  "language_info": {
   "codemirror_mode": {
    "name": "ipython",
    "version": 3
   },
   "file_extension": ".py",
   "mimetype": "text/x-python",
   "name": "python",
   "nbconvert_exporter": "python",
   "pygments_lexer": "ipython3",
   "version": "3.5.2"
  }
 },
 "nbformat": 4,
 "nbformat_minor": 2
}
